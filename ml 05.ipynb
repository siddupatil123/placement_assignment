{
 "cells": [
  {
   "cell_type": "markdown",
   "id": "cb6eca4d",
   "metadata": {
    "_cell_guid": "b1076dfc-b9ad-4769-8c92-a6c4dae69d19",
    "_uuid": "8f2839f25d086af736a60e9eeb907d3b93b6e0e5",
    "execution": {
     "iopub.execute_input": "2021-07-20T06:50:16.634128Z",
     "iopub.status.busy": "2021-07-20T06:50:16.633009Z",
     "iopub.status.idle": "2021-07-20T06:50:17.748504Z",
     "shell.execute_reply": "2021-07-20T06:50:17.747840Z",
     "shell.execute_reply.started": "2021-07-20T06:47:31.965877Z"
    },
    "papermill": {
     "duration": 1.184493,
     "end_time": "2021-07-20T06:50:17.748684",
     "exception": false,
     "start_time": "2021-07-20T06:50:16.564191",
     "status": "completed"
    },
    "tags": []
   },
   "source": [
    "**Q-5. Uber is a taxi service provider as we know, we need to predict the high\n",
    "booking area using an Unsupervised algorithm and price for the location using a\n",
    "supervised algorithm and use some map function to display the data\n",
    "Dataset This is the Dataset You can use this dataset for this question.**\n"
   ]
  },
  {
   "cell_type": "code",
   "execution_count": null,
   "id": "c49a0879",
   "metadata": {},
   "outputs": [],
   "source": [
    "import numpy as np # linear algebra\n",
    "import pandas as pd # data processing, CSV file I/O (e.g. pd.read_csv)\n",
    "\n",
    "import os\n",
    "for dirname, _, filenames in os.walk('/kaggle/input'):\n",
    "    for filename in filenames:\n",
    "        print(os.path.join(dirname, filename))\n",
    "\n",
    "        \n",
    "import sklearn\n",
    "import matplotlib.pyplot as plt\n",
    "import seaborn as sb"
   ]
  },
  {
   "cell_type": "code",
   "execution_count": 2,
   "id": "4e167e56",
   "metadata": {
    "execution": {
     "iopub.execute_input": "2021-07-20T06:50:17.887989Z",
     "iopub.status.busy": "2021-07-20T06:50:17.887247Z",
     "iopub.status.idle": "2021-07-20T06:50:28.043016Z",
     "shell.execute_reply": "2021-07-20T06:50:28.043519Z",
     "shell.execute_reply.started": "2021-07-20T06:47:32.058286Z"
    },
    "papermill": {
     "duration": 10.229512,
     "end_time": "2021-07-20T06:50:28.043690",
     "exception": false,
     "start_time": "2021-07-20T06:50:17.814178",
     "status": "completed"
    },
    "tags": []
   },
   "outputs": [
    {
     "data": {
      "text/html": [
       "<div>\n",
       "<style scoped>\n",
       "    .dataframe tbody tr th:only-of-type {\n",
       "        vertical-align: middle;\n",
       "    }\n",
       "\n",
       "    .dataframe tbody tr th {\n",
       "        vertical-align: top;\n",
       "    }\n",
       "\n",
       "    .dataframe thead th {\n",
       "        text-align: right;\n",
       "    }\n",
       "</style>\n",
       "<table border=\"1\" class=\"dataframe\">\n",
       "  <thead>\n",
       "    <tr style=\"text-align: right;\">\n",
       "      <th></th>\n",
       "      <th>id</th>\n",
       "      <th>timestamp</th>\n",
       "      <th>hour</th>\n",
       "      <th>day</th>\n",
       "      <th>month</th>\n",
       "      <th>datetime</th>\n",
       "      <th>timezone</th>\n",
       "      <th>source</th>\n",
       "      <th>destination</th>\n",
       "      <th>cab_type</th>\n",
       "      <th>...</th>\n",
       "      <th>precipIntensityMax</th>\n",
       "      <th>uvIndexTime</th>\n",
       "      <th>temperatureMin</th>\n",
       "      <th>temperatureMinTime</th>\n",
       "      <th>temperatureMax</th>\n",
       "      <th>temperatureMaxTime</th>\n",
       "      <th>apparentTemperatureMin</th>\n",
       "      <th>apparentTemperatureMinTime</th>\n",
       "      <th>apparentTemperatureMax</th>\n",
       "      <th>apparentTemperatureMaxTime</th>\n",
       "    </tr>\n",
       "  </thead>\n",
       "  <tbody>\n",
       "    <tr>\n",
       "      <th>0</th>\n",
       "      <td>424553bb-7174-41ea-aeb4-fe06d4f4b9d7</td>\n",
       "      <td>1.544953e+09</td>\n",
       "      <td>9</td>\n",
       "      <td>16</td>\n",
       "      <td>12</td>\n",
       "      <td>2018-12-16 09:30:07</td>\n",
       "      <td>America/New_York</td>\n",
       "      <td>Haymarket Square</td>\n",
       "      <td>North Station</td>\n",
       "      <td>Lyft</td>\n",
       "      <td>...</td>\n",
       "      <td>0.1276</td>\n",
       "      <td>1544979600</td>\n",
       "      <td>39.89</td>\n",
       "      <td>1545012000</td>\n",
       "      <td>43.68</td>\n",
       "      <td>1544968800</td>\n",
       "      <td>33.73</td>\n",
       "      <td>1545012000</td>\n",
       "      <td>38.07</td>\n",
       "      <td>1544958000</td>\n",
       "    </tr>\n",
       "    <tr>\n",
       "      <th>1</th>\n",
       "      <td>4bd23055-6827-41c6-b23b-3c491f24e74d</td>\n",
       "      <td>1.543284e+09</td>\n",
       "      <td>2</td>\n",
       "      <td>27</td>\n",
       "      <td>11</td>\n",
       "      <td>2018-11-27 02:00:23</td>\n",
       "      <td>America/New_York</td>\n",
       "      <td>Haymarket Square</td>\n",
       "      <td>North Station</td>\n",
       "      <td>Lyft</td>\n",
       "      <td>...</td>\n",
       "      <td>0.1300</td>\n",
       "      <td>1543251600</td>\n",
       "      <td>40.49</td>\n",
       "      <td>1543233600</td>\n",
       "      <td>47.30</td>\n",
       "      <td>1543251600</td>\n",
       "      <td>36.20</td>\n",
       "      <td>1543291200</td>\n",
       "      <td>43.92</td>\n",
       "      <td>1543251600</td>\n",
       "    </tr>\n",
       "    <tr>\n",
       "      <th>2</th>\n",
       "      <td>981a3613-77af-4620-a42a-0c0866077d1e</td>\n",
       "      <td>1.543367e+09</td>\n",
       "      <td>1</td>\n",
       "      <td>28</td>\n",
       "      <td>11</td>\n",
       "      <td>2018-11-28 01:00:22</td>\n",
       "      <td>America/New_York</td>\n",
       "      <td>Haymarket Square</td>\n",
       "      <td>North Station</td>\n",
       "      <td>Lyft</td>\n",
       "      <td>...</td>\n",
       "      <td>0.1064</td>\n",
       "      <td>1543338000</td>\n",
       "      <td>35.36</td>\n",
       "      <td>1543377600</td>\n",
       "      <td>47.55</td>\n",
       "      <td>1543320000</td>\n",
       "      <td>31.04</td>\n",
       "      <td>1543377600</td>\n",
       "      <td>44.12</td>\n",
       "      <td>1543320000</td>\n",
       "    </tr>\n",
       "    <tr>\n",
       "      <th>3</th>\n",
       "      <td>c2d88af2-d278-4bfd-a8d0-29ca77cc5512</td>\n",
       "      <td>1.543554e+09</td>\n",
       "      <td>4</td>\n",
       "      <td>30</td>\n",
       "      <td>11</td>\n",
       "      <td>2018-11-30 04:53:02</td>\n",
       "      <td>America/New_York</td>\n",
       "      <td>Haymarket Square</td>\n",
       "      <td>North Station</td>\n",
       "      <td>Lyft</td>\n",
       "      <td>...</td>\n",
       "      <td>0.0000</td>\n",
       "      <td>1543507200</td>\n",
       "      <td>34.67</td>\n",
       "      <td>1543550400</td>\n",
       "      <td>45.03</td>\n",
       "      <td>1543510800</td>\n",
       "      <td>30.30</td>\n",
       "      <td>1543550400</td>\n",
       "      <td>38.53</td>\n",
       "      <td>1543510800</td>\n",
       "    </tr>\n",
       "    <tr>\n",
       "      <th>4</th>\n",
       "      <td>e0126e1f-8ca9-4f2e-82b3-50505a09db9a</td>\n",
       "      <td>1.543463e+09</td>\n",
       "      <td>3</td>\n",
       "      <td>29</td>\n",
       "      <td>11</td>\n",
       "      <td>2018-11-29 03:49:20</td>\n",
       "      <td>America/New_York</td>\n",
       "      <td>Haymarket Square</td>\n",
       "      <td>North Station</td>\n",
       "      <td>Lyft</td>\n",
       "      <td>...</td>\n",
       "      <td>0.0001</td>\n",
       "      <td>1543420800</td>\n",
       "      <td>33.10</td>\n",
       "      <td>1543402800</td>\n",
       "      <td>42.18</td>\n",
       "      <td>1543420800</td>\n",
       "      <td>29.11</td>\n",
       "      <td>1543392000</td>\n",
       "      <td>35.75</td>\n",
       "      <td>1543420800</td>\n",
       "    </tr>\n",
       "  </tbody>\n",
       "</table>\n",
       "<p>5 rows × 57 columns</p>\n",
       "</div>"
      ],
      "text/plain": [
       "                                     id     timestamp  hour  day  month  \\\n",
       "0  424553bb-7174-41ea-aeb4-fe06d4f4b9d7  1.544953e+09     9   16     12   \n",
       "1  4bd23055-6827-41c6-b23b-3c491f24e74d  1.543284e+09     2   27     11   \n",
       "2  981a3613-77af-4620-a42a-0c0866077d1e  1.543367e+09     1   28     11   \n",
       "3  c2d88af2-d278-4bfd-a8d0-29ca77cc5512  1.543554e+09     4   30     11   \n",
       "4  e0126e1f-8ca9-4f2e-82b3-50505a09db9a  1.543463e+09     3   29     11   \n",
       "\n",
       "              datetime          timezone            source    destination  \\\n",
       "0  2018-12-16 09:30:07  America/New_York  Haymarket Square  North Station   \n",
       "1  2018-11-27 02:00:23  America/New_York  Haymarket Square  North Station   \n",
       "2  2018-11-28 01:00:22  America/New_York  Haymarket Square  North Station   \n",
       "3  2018-11-30 04:53:02  America/New_York  Haymarket Square  North Station   \n",
       "4  2018-11-29 03:49:20  America/New_York  Haymarket Square  North Station   \n",
       "\n",
       "  cab_type  ... precipIntensityMax uvIndexTime  temperatureMin  \\\n",
       "0     Lyft  ...             0.1276  1544979600           39.89   \n",
       "1     Lyft  ...             0.1300  1543251600           40.49   \n",
       "2     Lyft  ...             0.1064  1543338000           35.36   \n",
       "3     Lyft  ...             0.0000  1543507200           34.67   \n",
       "4     Lyft  ...             0.0001  1543420800           33.10   \n",
       "\n",
       "   temperatureMinTime  temperatureMax  temperatureMaxTime  \\\n",
       "0          1545012000           43.68          1544968800   \n",
       "1          1543233600           47.30          1543251600   \n",
       "2          1543377600           47.55          1543320000   \n",
       "3          1543550400           45.03          1543510800   \n",
       "4          1543402800           42.18          1543420800   \n",
       "\n",
       "   apparentTemperatureMin  apparentTemperatureMinTime  apparentTemperatureMax  \\\n",
       "0                   33.73                  1545012000                   38.07   \n",
       "1                   36.20                  1543291200                   43.92   \n",
       "2                   31.04                  1543377600                   44.12   \n",
       "3                   30.30                  1543550400                   38.53   \n",
       "4                   29.11                  1543392000                   35.75   \n",
       "\n",
       "  apparentTemperatureMaxTime  \n",
       "0                 1544958000  \n",
       "1                 1543251600  \n",
       "2                 1543320000  \n",
       "3                 1543510800  \n",
       "4                 1543420800  \n",
       "\n",
       "[5 rows x 57 columns]"
      ]
     },
     "execution_count": 2,
     "metadata": {},
     "output_type": "execute_result"
    }
   ],
   "source": [
    "data=pd.read_csv('../input/uber-and-lyft-dataset-boston-ma/rideshare_kaggle.csv') \n",
    "data.head()"
   ]
  },
  {
   "cell_type": "code",
   "execution_count": 3,
   "id": "410651ec",
   "metadata": {
    "execution": {
     "iopub.execute_input": "2021-07-20T06:50:28.176863Z",
     "iopub.status.busy": "2021-07-20T06:50:28.176205Z",
     "iopub.status.idle": "2021-07-20T06:50:28.182493Z",
     "shell.execute_reply": "2021-07-20T06:50:28.181973Z",
     "shell.execute_reply.started": "2021-07-20T06:47:38.888635Z"
    },
    "papermill": {
     "duration": 0.074787,
     "end_time": "2021-07-20T06:50:28.182637",
     "exception": false,
     "start_time": "2021-07-20T06:50:28.107850",
     "status": "completed"
    },
    "tags": []
   },
   "outputs": [
    {
     "data": {
      "text/plain": [
       "(693071, 57)"
      ]
     },
     "execution_count": 3,
     "metadata": {},
     "output_type": "execute_result"
    }
   ],
   "source": [
    "data.shape\n",
    "\n",
    "# --Data set has 693071 observations and 57 features."
   ]
  },
  {
   "cell_type": "code",
   "execution_count": 4,
   "id": "8771bba7",
   "metadata": {
    "execution": {
     "iopub.execute_input": "2021-07-20T06:50:28.321385Z",
     "iopub.status.busy": "2021-07-20T06:50:28.320200Z",
     "iopub.status.idle": "2021-07-20T06:50:29.143157Z",
     "shell.execute_reply": "2021-07-20T06:50:29.142403Z",
     "shell.execute_reply.started": "2021-07-20T06:47:38.895679Z"
    },
    "papermill": {
     "duration": 0.894826,
     "end_time": "2021-07-20T06:50:29.143362",
     "exception": false,
     "start_time": "2021-07-20T06:50:28.248536",
     "status": "completed"
    },
    "tags": []
   },
   "outputs": [
    {
     "name": "stdout",
     "output_type": "stream",
     "text": [
      "<class 'pandas.core.frame.DataFrame'>\n",
      "RangeIndex: 693071 entries, 0 to 693070\n",
      "Data columns (total 57 columns):\n",
      " #   Column                       Non-Null Count   Dtype  \n",
      "---  ------                       --------------   -----  \n",
      " 0   id                           693071 non-null  object \n",
      " 1   timestamp                    693071 non-null  float64\n",
      " 2   hour                         693071 non-null  int64  \n",
      " 3   day                          693071 non-null  int64  \n",
      " 4   month                        693071 non-null  int64  \n",
      " 5   datetime                     693071 non-null  object \n",
      " 6   timezone                     693071 non-null  object \n",
      " 7   source                       693071 non-null  object \n",
      " 8   destination                  693071 non-null  object \n",
      " 9   cab_type                     693071 non-null  object \n",
      " 10  product_id                   693071 non-null  object \n",
      " 11  name                         693071 non-null  object \n",
      " 12  price                        637976 non-null  float64\n",
      " 13  distance                     693071 non-null  float64\n",
      " 14  surge_multiplier             693071 non-null  float64\n",
      " 15  latitude                     693071 non-null  float64\n",
      " 16  longitude                    693071 non-null  float64\n",
      " 17  temperature                  693071 non-null  float64\n",
      " 18  apparentTemperature          693071 non-null  float64\n",
      " 19  short_summary                693071 non-null  object \n",
      " 20  long_summary                 693071 non-null  object \n",
      " 21  precipIntensity              693071 non-null  float64\n",
      " 22  precipProbability            693071 non-null  float64\n",
      " 23  humidity                     693071 non-null  float64\n",
      " 24  windSpeed                    693071 non-null  float64\n",
      " 25  windGust                     693071 non-null  float64\n",
      " 26  windGustTime                 693071 non-null  int64  \n",
      " 27  visibility                   693071 non-null  float64\n",
      " 28  temperatureHigh              693071 non-null  float64\n",
      " 29  temperatureHighTime          693071 non-null  int64  \n",
      " 30  temperatureLow               693071 non-null  float64\n",
      " 31  temperatureLowTime           693071 non-null  int64  \n",
      " 32  apparentTemperatureHigh      693071 non-null  float64\n",
      " 33  apparentTemperatureHighTime  693071 non-null  int64  \n",
      " 34  apparentTemperatureLow       693071 non-null  float64\n",
      " 35  apparentTemperatureLowTime   693071 non-null  int64  \n",
      " 36  icon                         693071 non-null  object \n",
      " 37  dewPoint                     693071 non-null  float64\n",
      " 38  pressure                     693071 non-null  float64\n",
      " 39  windBearing                  693071 non-null  int64  \n",
      " 40  cloudCover                   693071 non-null  float64\n",
      " 41  uvIndex                      693071 non-null  int64  \n",
      " 42  visibility.1                 693071 non-null  float64\n",
      " 43  ozone                        693071 non-null  float64\n",
      " 44  sunriseTime                  693071 non-null  int64  \n",
      " 45  sunsetTime                   693071 non-null  int64  \n",
      " 46  moonPhase                    693071 non-null  float64\n",
      " 47  precipIntensityMax           693071 non-null  float64\n",
      " 48  uvIndexTime                  693071 non-null  int64  \n",
      " 49  temperatureMin               693071 non-null  float64\n",
      " 50  temperatureMinTime           693071 non-null  int64  \n",
      " 51  temperatureMax               693071 non-null  float64\n",
      " 52  temperatureMaxTime           693071 non-null  int64  \n",
      " 53  apparentTemperatureMin       693071 non-null  float64\n",
      " 54  apparentTemperatureMinTime   693071 non-null  int64  \n",
      " 55  apparentTemperatureMax       693071 non-null  float64\n",
      " 56  apparentTemperatureMaxTime   693071 non-null  int64  \n",
      "dtypes: float64(29), int64(17), object(11)\n",
      "memory usage: 301.4+ MB\n"
     ]
    }
   ],
   "source": [
    "data.info()"
   ]
  },
  {
   "cell_type": "markdown",
   "id": "c0baba1f",
   "metadata": {
    "papermill": {
     "duration": 0.069382,
     "end_time": "2021-07-20T06:50:29.279008",
     "exception": false,
     "start_time": "2021-07-20T06:50:29.209626",
     "status": "completed"
    },
    "tags": []
   },
   "source": [
    "Removing the features(id,timestamps, textual summary) that predictand(price) has no dependency. As we already have distance,datetime parameters - (hour,day,month) removing latitude,longitude and datetime also from dataframe"
   ]
  },
  {
   "cell_type": "code",
   "execution_count": 5,
   "id": "15778b2f",
   "metadata": {
    "execution": {
     "iopub.execute_input": "2021-07-20T06:50:29.472116Z",
     "iopub.status.busy": "2021-07-20T06:50:29.443990Z",
     "iopub.status.idle": "2021-07-20T06:50:29.570423Z",
     "shell.execute_reply": "2021-07-20T06:50:29.570933Z",
     "shell.execute_reply.started": "2021-07-20T06:47:39.706417Z"
    },
    "papermill": {
     "duration": 0.210485,
     "end_time": "2021-07-20T06:50:29.571152",
     "exception": false,
     "start_time": "2021-07-20T06:50:29.360667",
     "status": "completed"
    },
    "tags": []
   },
   "outputs": [
    {
     "name": "stdout",
     "output_type": "stream",
     "text": [
      "(693071, 40)\n"
     ]
    },
    {
     "data": {
      "text/html": [
       "<div>\n",
       "<style scoped>\n",
       "    .dataframe tbody tr th:only-of-type {\n",
       "        vertical-align: middle;\n",
       "    }\n",
       "\n",
       "    .dataframe tbody tr th {\n",
       "        vertical-align: top;\n",
       "    }\n",
       "\n",
       "    .dataframe thead th {\n",
       "        text-align: right;\n",
       "    }\n",
       "</style>\n",
       "<table border=\"1\" class=\"dataframe\">\n",
       "  <thead>\n",
       "    <tr style=\"text-align: right;\">\n",
       "      <th></th>\n",
       "      <th>hour</th>\n",
       "      <th>day</th>\n",
       "      <th>month</th>\n",
       "      <th>timezone</th>\n",
       "      <th>source</th>\n",
       "      <th>destination</th>\n",
       "      <th>cab_type</th>\n",
       "      <th>product_id</th>\n",
       "      <th>name</th>\n",
       "      <th>price</th>\n",
       "      <th>...</th>\n",
       "      <th>cloudCover</th>\n",
       "      <th>uvIndex</th>\n",
       "      <th>visibility.1</th>\n",
       "      <th>ozone</th>\n",
       "      <th>moonPhase</th>\n",
       "      <th>precipIntensityMax</th>\n",
       "      <th>temperatureMin</th>\n",
       "      <th>temperatureMax</th>\n",
       "      <th>apparentTemperatureMin</th>\n",
       "      <th>apparentTemperatureMax</th>\n",
       "    </tr>\n",
       "  </thead>\n",
       "  <tbody>\n",
       "    <tr>\n",
       "      <th>0</th>\n",
       "      <td>9</td>\n",
       "      <td>16</td>\n",
       "      <td>12</td>\n",
       "      <td>America/New_York</td>\n",
       "      <td>Haymarket Square</td>\n",
       "      <td>North Station</td>\n",
       "      <td>Lyft</td>\n",
       "      <td>lyft_line</td>\n",
       "      <td>Shared</td>\n",
       "      <td>5.0</td>\n",
       "      <td>...</td>\n",
       "      <td>0.72</td>\n",
       "      <td>0</td>\n",
       "      <td>10.000</td>\n",
       "      <td>303.8</td>\n",
       "      <td>0.30</td>\n",
       "      <td>0.1276</td>\n",
       "      <td>39.89</td>\n",
       "      <td>43.68</td>\n",
       "      <td>33.73</td>\n",
       "      <td>38.07</td>\n",
       "    </tr>\n",
       "    <tr>\n",
       "      <th>1</th>\n",
       "      <td>2</td>\n",
       "      <td>27</td>\n",
       "      <td>11</td>\n",
       "      <td>America/New_York</td>\n",
       "      <td>Haymarket Square</td>\n",
       "      <td>North Station</td>\n",
       "      <td>Lyft</td>\n",
       "      <td>lyft_premier</td>\n",
       "      <td>Lux</td>\n",
       "      <td>11.0</td>\n",
       "      <td>...</td>\n",
       "      <td>1.00</td>\n",
       "      <td>0</td>\n",
       "      <td>4.786</td>\n",
       "      <td>291.1</td>\n",
       "      <td>0.64</td>\n",
       "      <td>0.1300</td>\n",
       "      <td>40.49</td>\n",
       "      <td>47.30</td>\n",
       "      <td>36.20</td>\n",
       "      <td>43.92</td>\n",
       "    </tr>\n",
       "    <tr>\n",
       "      <th>2</th>\n",
       "      <td>1</td>\n",
       "      <td>28</td>\n",
       "      <td>11</td>\n",
       "      <td>America/New_York</td>\n",
       "      <td>Haymarket Square</td>\n",
       "      <td>North Station</td>\n",
       "      <td>Lyft</td>\n",
       "      <td>lyft</td>\n",
       "      <td>Lyft</td>\n",
       "      <td>7.0</td>\n",
       "      <td>...</td>\n",
       "      <td>0.03</td>\n",
       "      <td>0</td>\n",
       "      <td>10.000</td>\n",
       "      <td>315.7</td>\n",
       "      <td>0.68</td>\n",
       "      <td>0.1064</td>\n",
       "      <td>35.36</td>\n",
       "      <td>47.55</td>\n",
       "      <td>31.04</td>\n",
       "      <td>44.12</td>\n",
       "    </tr>\n",
       "    <tr>\n",
       "      <th>3</th>\n",
       "      <td>4</td>\n",
       "      <td>30</td>\n",
       "      <td>11</td>\n",
       "      <td>America/New_York</td>\n",
       "      <td>Haymarket Square</td>\n",
       "      <td>North Station</td>\n",
       "      <td>Lyft</td>\n",
       "      <td>lyft_luxsuv</td>\n",
       "      <td>Lux Black XL</td>\n",
       "      <td>26.0</td>\n",
       "      <td>...</td>\n",
       "      <td>0.00</td>\n",
       "      <td>0</td>\n",
       "      <td>10.000</td>\n",
       "      <td>291.1</td>\n",
       "      <td>0.75</td>\n",
       "      <td>0.0000</td>\n",
       "      <td>34.67</td>\n",
       "      <td>45.03</td>\n",
       "      <td>30.30</td>\n",
       "      <td>38.53</td>\n",
       "    </tr>\n",
       "    <tr>\n",
       "      <th>4</th>\n",
       "      <td>3</td>\n",
       "      <td>29</td>\n",
       "      <td>11</td>\n",
       "      <td>America/New_York</td>\n",
       "      <td>Haymarket Square</td>\n",
       "      <td>North Station</td>\n",
       "      <td>Lyft</td>\n",
       "      <td>lyft_plus</td>\n",
       "      <td>Lyft XL</td>\n",
       "      <td>9.0</td>\n",
       "      <td>...</td>\n",
       "      <td>0.44</td>\n",
       "      <td>0</td>\n",
       "      <td>10.000</td>\n",
       "      <td>347.7</td>\n",
       "      <td>0.72</td>\n",
       "      <td>0.0001</td>\n",
       "      <td>33.10</td>\n",
       "      <td>42.18</td>\n",
       "      <td>29.11</td>\n",
       "      <td>35.75</td>\n",
       "    </tr>\n",
       "  </tbody>\n",
       "</table>\n",
       "<p>5 rows × 40 columns</p>\n",
       "</div>"
      ],
      "text/plain": [
       "   hour  day  month          timezone            source    destination  \\\n",
       "0     9   16     12  America/New_York  Haymarket Square  North Station   \n",
       "1     2   27     11  America/New_York  Haymarket Square  North Station   \n",
       "2     1   28     11  America/New_York  Haymarket Square  North Station   \n",
       "3     4   30     11  America/New_York  Haymarket Square  North Station   \n",
       "4     3   29     11  America/New_York  Haymarket Square  North Station   \n",
       "\n",
       "  cab_type    product_id          name  price  ...  cloudCover  uvIndex  \\\n",
       "0     Lyft     lyft_line        Shared    5.0  ...        0.72        0   \n",
       "1     Lyft  lyft_premier           Lux   11.0  ...        1.00        0   \n",
       "2     Lyft          lyft          Lyft    7.0  ...        0.03        0   \n",
       "3     Lyft   lyft_luxsuv  Lux Black XL   26.0  ...        0.00        0   \n",
       "4     Lyft     lyft_plus       Lyft XL    9.0  ...        0.44        0   \n",
       "\n",
       "   visibility.1  ozone moonPhase  precipIntensityMax  temperatureMin  \\\n",
       "0        10.000  303.8      0.30              0.1276           39.89   \n",
       "1         4.786  291.1      0.64              0.1300           40.49   \n",
       "2        10.000  315.7      0.68              0.1064           35.36   \n",
       "3        10.000  291.1      0.75              0.0000           34.67   \n",
       "4        10.000  347.7      0.72              0.0001           33.10   \n",
       "\n",
       "   temperatureMax  apparentTemperatureMin  apparentTemperatureMax  \n",
       "0           43.68                   33.73                   38.07  \n",
       "1           47.30                   36.20                   43.92  \n",
       "2           47.55                   31.04                   44.12  \n",
       "3           45.03                   30.30                   38.53  \n",
       "4           42.18                   29.11                   35.75  \n",
       "\n",
       "[5 rows x 40 columns]"
      ]
     },
     "execution_count": 5,
     "metadata": {},
     "output_type": "execute_result"
    }
   ],
   "source": [
    "data = data.drop(['id','timestamp','datetime','long_summary','apparentTemperatureHighTime','apparentTemperatureLowTime',\n",
    "                  'apparentTemperatureLowTime','windGustTime','sunriseTime','sunsetTime','uvIndexTime','temperatureMinTime',\n",
    "                 'temperatureMaxTime','apparentTemperatureMinTime','temperatureLowTime','apparentTemperatureMaxTime'\n",
    "                 ,'latitude','longitude'],axis = 1)\n",
    "print(data.shape)\n",
    "data.head()"
   ]
  },
  {
   "cell_type": "markdown",
   "id": "a02e74a6",
   "metadata": {
    "papermill": {
     "duration": 0.066115,
     "end_time": "2021-07-20T06:50:29.705175",
     "exception": false,
     "start_time": "2021-07-20T06:50:29.639060",
     "status": "completed"
    },
    "tags": []
   },
   "source": [
    "Checking the correlation between Price and Temperature related features"
   ]
  },
  {
   "cell_type": "code",
   "execution_count": 6,
   "id": "50ebe940",
   "metadata": {
    "execution": {
     "iopub.execute_input": "2021-07-20T06:50:29.885401Z",
     "iopub.status.busy": "2021-07-20T06:50:29.884479Z",
     "iopub.status.idle": "2021-07-20T06:50:29.889018Z",
     "shell.execute_reply": "2021-07-20T06:50:29.889485Z",
     "shell.execute_reply.started": "2021-07-20T06:47:39.845810Z"
    },
    "papermill": {
     "duration": 0.117672,
     "end_time": "2021-07-20T06:50:29.889662",
     "exception": false,
     "start_time": "2021-07-20T06:50:29.771990",
     "status": "completed"
    },
    "tags": []
   },
   "outputs": [
    {
     "data": {
      "text/html": [
       "<div>\n",
       "<style scoped>\n",
       "    .dataframe tbody tr th:only-of-type {\n",
       "        vertical-align: middle;\n",
       "    }\n",
       "\n",
       "    .dataframe tbody tr th {\n",
       "        vertical-align: top;\n",
       "    }\n",
       "\n",
       "    .dataframe thead th {\n",
       "        text-align: right;\n",
       "    }\n",
       "</style>\n",
       "<table border=\"1\" class=\"dataframe\">\n",
       "  <thead>\n",
       "    <tr style=\"text-align: right;\">\n",
       "      <th></th>\n",
       "      <th>price</th>\n",
       "      <th>temperature</th>\n",
       "      <th>apparentTemperature</th>\n",
       "      <th>temperatureHigh</th>\n",
       "      <th>temperatureLow</th>\n",
       "      <th>apparentTemperatureHigh</th>\n",
       "      <th>apparentTemperatureLow</th>\n",
       "      <th>temperatureMin</th>\n",
       "      <th>temperatureHighTime</th>\n",
       "      <th>temperatureMax</th>\n",
       "      <th>apparentTemperatureMin</th>\n",
       "      <th>apparentTemperatureMax</th>\n",
       "    </tr>\n",
       "  </thead>\n",
       "  <tbody>\n",
       "    <tr>\n",
       "      <th>0</th>\n",
       "      <td>5.0</td>\n",
       "      <td>42.34</td>\n",
       "      <td>37.12</td>\n",
       "      <td>43.68</td>\n",
       "      <td>34.19</td>\n",
       "      <td>37.95</td>\n",
       "      <td>27.39</td>\n",
       "      <td>39.89</td>\n",
       "      <td>1544968800</td>\n",
       "      <td>43.68</td>\n",
       "      <td>33.73</td>\n",
       "      <td>38.07</td>\n",
       "    </tr>\n",
       "    <tr>\n",
       "      <th>1</th>\n",
       "      <td>11.0</td>\n",
       "      <td>43.58</td>\n",
       "      <td>37.35</td>\n",
       "      <td>47.30</td>\n",
       "      <td>42.10</td>\n",
       "      <td>43.92</td>\n",
       "      <td>36.20</td>\n",
       "      <td>40.49</td>\n",
       "      <td>1543251600</td>\n",
       "      <td>47.30</td>\n",
       "      <td>36.20</td>\n",
       "      <td>43.92</td>\n",
       "    </tr>\n",
       "    <tr>\n",
       "      <th>2</th>\n",
       "      <td>7.0</td>\n",
       "      <td>38.33</td>\n",
       "      <td>32.93</td>\n",
       "      <td>47.55</td>\n",
       "      <td>33.10</td>\n",
       "      <td>44.12</td>\n",
       "      <td>29.11</td>\n",
       "      <td>35.36</td>\n",
       "      <td>1543320000</td>\n",
       "      <td>47.55</td>\n",
       "      <td>31.04</td>\n",
       "      <td>44.12</td>\n",
       "    </tr>\n",
       "    <tr>\n",
       "      <th>3</th>\n",
       "      <td>26.0</td>\n",
       "      <td>34.38</td>\n",
       "      <td>29.63</td>\n",
       "      <td>45.03</td>\n",
       "      <td>28.90</td>\n",
       "      <td>38.53</td>\n",
       "      <td>26.20</td>\n",
       "      <td>34.67</td>\n",
       "      <td>1543510800</td>\n",
       "      <td>45.03</td>\n",
       "      <td>30.30</td>\n",
       "      <td>38.53</td>\n",
       "    </tr>\n",
       "    <tr>\n",
       "      <th>4</th>\n",
       "      <td>9.0</td>\n",
       "      <td>37.44</td>\n",
       "      <td>30.88</td>\n",
       "      <td>42.18</td>\n",
       "      <td>36.71</td>\n",
       "      <td>35.75</td>\n",
       "      <td>30.29</td>\n",
       "      <td>33.10</td>\n",
       "      <td>1543420800</td>\n",
       "      <td>42.18</td>\n",
       "      <td>29.11</td>\n",
       "      <td>35.75</td>\n",
       "    </tr>\n",
       "  </tbody>\n",
       "</table>\n",
       "</div>"
      ],
      "text/plain": [
       "   price  temperature  apparentTemperature  temperatureHigh  temperatureLow  \\\n",
       "0    5.0        42.34                37.12            43.68           34.19   \n",
       "1   11.0        43.58                37.35            47.30           42.10   \n",
       "2    7.0        38.33                32.93            47.55           33.10   \n",
       "3   26.0        34.38                29.63            45.03           28.90   \n",
       "4    9.0        37.44                30.88            42.18           36.71   \n",
       "\n",
       "   apparentTemperatureHigh  apparentTemperatureLow  temperatureMin  \\\n",
       "0                    37.95                   27.39           39.89   \n",
       "1                    43.92                   36.20           40.49   \n",
       "2                    44.12                   29.11           35.36   \n",
       "3                    38.53                   26.20           34.67   \n",
       "4                    35.75                   30.29           33.10   \n",
       "\n",
       "   temperatureHighTime  temperatureMax  apparentTemperatureMin  \\\n",
       "0           1544968800           43.68                   33.73   \n",
       "1           1543251600           47.30                   36.20   \n",
       "2           1543320000           47.55                   31.04   \n",
       "3           1543510800           45.03                   30.30   \n",
       "4           1543420800           42.18                   29.11   \n",
       "\n",
       "   apparentTemperatureMax  \n",
       "0                   38.07  \n",
       "1                   43.92  \n",
       "2                   44.12  \n",
       "3                   38.53  \n",
       "4                   35.75  "
      ]
     },
     "execution_count": 6,
     "metadata": {},
     "output_type": "execute_result"
    }
   ],
   "source": [
    "data_new = data[['price','temperature','apparentTemperature','temperatureHigh','temperatureLow','apparentTemperatureHigh',\n",
    "                'apparentTemperatureLow','temperatureMin','temperatureHighTime','temperatureMax','apparentTemperatureMin','apparentTemperatureMax']]\n",
    "data_new.head()"
   ]
  },
  {
   "cell_type": "code",
   "execution_count": 7,
   "id": "feed6f75",
   "metadata": {
    "execution": {
     "iopub.execute_input": "2021-07-20T06:50:30.031456Z",
     "iopub.status.busy": "2021-07-20T06:50:30.029954Z",
     "iopub.status.idle": "2021-07-20T06:50:31.528483Z",
     "shell.execute_reply": "2021-07-20T06:50:31.528965Z",
     "shell.execute_reply.started": "2021-07-20T06:47:39.895795Z"
    },
    "papermill": {
     "duration": 1.572832,
     "end_time": "2021-07-20T06:50:31.529133",
     "exception": false,
     "start_time": "2021-07-20T06:50:29.956301",
     "status": "completed"
    },
    "tags": []
   },
   "outputs": [
    {
     "data": {
      "text/plain": [
       "<AxesSubplot:>"
      ]
     },
     "execution_count": 7,
     "metadata": {},
     "output_type": "execute_result"
    },
    {
     "data": {
      "image/png": "[encoded data removed]",
      "text/plain": [
       "<Figure size 720x720 with 2 Axes>"
      ]
     },
     "metadata": {
      "needs_background": "light"
     },
     "output_type": "display_data"
    }
   ],
   "source": [
    "#plotting heatmap with correlation on data_new dataframe\n",
    "plt.figure(figsize=(10,10))\n",
    "sb.heatmap(data_new.corr(),annot=True, mask=np.triu(data_new.corr()))"
   ]
  },
  {
   "cell_type": "markdown",
   "id": "32d03910",
   "metadata": {
    "papermill": {
     "duration": 0.069084,
     "end_time": "2021-07-20T06:50:31.667716",
     "exception": false,
     "start_time": "2021-07-20T06:50:31.598632",
     "status": "completed"
    },
    "tags": []
   },
   "source": [
    "Removing all the temperature related features from the dataframe as they have very weak correlation with the predictand(price)"
   ]
  },
  {
   "cell_type": "code",
   "execution_count": 8,
   "id": "0a9698c0",
   "metadata": {
    "execution": {
     "iopub.execute_input": "2021-07-20T06:50:31.811187Z",
     "iopub.status.busy": "2021-07-20T06:50:31.810483Z",
     "iopub.status.idle": "2021-07-20T06:50:31.958678Z",
     "shell.execute_reply": "2021-07-20T06:50:31.959133Z",
     "shell.execute_reply.started": "2021-07-20T06:47:41.398729Z"
    },
    "papermill": {
     "duration": 0.222341,
     "end_time": "2021-07-20T06:50:31.959317",
     "exception": false,
     "start_time": "2021-07-20T06:50:31.736976",
     "status": "completed"
    },
    "tags": []
   },
   "outputs": [
    {
     "data": {
      "text/html": [
       "<div>\n",
       "<style scoped>\n",
       "    .dataframe tbody tr th:only-of-type {\n",
       "        vertical-align: middle;\n",
       "    }\n",
       "\n",
       "    .dataframe tbody tr th {\n",
       "        vertical-align: top;\n",
       "    }\n",
       "\n",
       "    .dataframe thead th {\n",
       "        text-align: right;\n",
       "    }\n",
       "</style>\n",
       "<table border=\"1\" class=\"dataframe\">\n",
       "  <thead>\n",
       "    <tr style=\"text-align: right;\">\n",
       "      <th></th>\n",
       "      <th>hour</th>\n",
       "      <th>day</th>\n",
       "      <th>month</th>\n",
       "      <th>timezone</th>\n",
       "      <th>source</th>\n",
       "      <th>destination</th>\n",
       "      <th>cab_type</th>\n",
       "      <th>product_id</th>\n",
       "      <th>name</th>\n",
       "      <th>price</th>\n",
       "      <th>...</th>\n",
       "      <th>icon</th>\n",
       "      <th>dewPoint</th>\n",
       "      <th>pressure</th>\n",
       "      <th>windBearing</th>\n",
       "      <th>cloudCover</th>\n",
       "      <th>uvIndex</th>\n",
       "      <th>visibility.1</th>\n",
       "      <th>ozone</th>\n",
       "      <th>moonPhase</th>\n",
       "      <th>precipIntensityMax</th>\n",
       "    </tr>\n",
       "  </thead>\n",
       "  <tbody>\n",
       "    <tr>\n",
       "      <th>0</th>\n",
       "      <td>9</td>\n",
       "      <td>16</td>\n",
       "      <td>12</td>\n",
       "      <td>America/New_York</td>\n",
       "      <td>Haymarket Square</td>\n",
       "      <td>North Station</td>\n",
       "      <td>Lyft</td>\n",
       "      <td>lyft_line</td>\n",
       "      <td>Shared</td>\n",
       "      <td>5.0</td>\n",
       "      <td>...</td>\n",
       "      <td>partly-cloudy-night</td>\n",
       "      <td>32.70</td>\n",
       "      <td>1021.98</td>\n",
       "      <td>57</td>\n",
       "      <td>0.72</td>\n",
       "      <td>0</td>\n",
       "      <td>10.000</td>\n",
       "      <td>303.8</td>\n",
       "      <td>0.30</td>\n",
       "      <td>0.1276</td>\n",
       "    </tr>\n",
       "    <tr>\n",
       "      <th>1</th>\n",
       "      <td>2</td>\n",
       "      <td>27</td>\n",
       "      <td>11</td>\n",
       "      <td>America/New_York</td>\n",
       "      <td>Haymarket Square</td>\n",
       "      <td>North Station</td>\n",
       "      <td>Lyft</td>\n",
       "      <td>lyft_premier</td>\n",
       "      <td>Lux</td>\n",
       "      <td>11.0</td>\n",
       "      <td>...</td>\n",
       "      <td>rain</td>\n",
       "      <td>41.83</td>\n",
       "      <td>1003.97</td>\n",
       "      <td>90</td>\n",
       "      <td>1.00</td>\n",
       "      <td>0</td>\n",
       "      <td>4.786</td>\n",
       "      <td>291.1</td>\n",
       "      <td>0.64</td>\n",
       "      <td>0.1300</td>\n",
       "    </tr>\n",
       "    <tr>\n",
       "      <th>2</th>\n",
       "      <td>1</td>\n",
       "      <td>28</td>\n",
       "      <td>11</td>\n",
       "      <td>America/New_York</td>\n",
       "      <td>Haymarket Square</td>\n",
       "      <td>North Station</td>\n",
       "      <td>Lyft</td>\n",
       "      <td>lyft</td>\n",
       "      <td>Lyft</td>\n",
       "      <td>7.0</td>\n",
       "      <td>...</td>\n",
       "      <td>clear-night</td>\n",
       "      <td>31.10</td>\n",
       "      <td>992.28</td>\n",
       "      <td>240</td>\n",
       "      <td>0.03</td>\n",
       "      <td>0</td>\n",
       "      <td>10.000</td>\n",
       "      <td>315.7</td>\n",
       "      <td>0.68</td>\n",
       "      <td>0.1064</td>\n",
       "    </tr>\n",
       "    <tr>\n",
       "      <th>3</th>\n",
       "      <td>4</td>\n",
       "      <td>30</td>\n",
       "      <td>11</td>\n",
       "      <td>America/New_York</td>\n",
       "      <td>Haymarket Square</td>\n",
       "      <td>North Station</td>\n",
       "      <td>Lyft</td>\n",
       "      <td>lyft_luxsuv</td>\n",
       "      <td>Lux Black XL</td>\n",
       "      <td>26.0</td>\n",
       "      <td>...</td>\n",
       "      <td>clear-night</td>\n",
       "      <td>26.64</td>\n",
       "      <td>1013.73</td>\n",
       "      <td>310</td>\n",
       "      <td>0.00</td>\n",
       "      <td>0</td>\n",
       "      <td>10.000</td>\n",
       "      <td>291.1</td>\n",
       "      <td>0.75</td>\n",
       "      <td>0.0000</td>\n",
       "    </tr>\n",
       "    <tr>\n",
       "      <th>4</th>\n",
       "      <td>3</td>\n",
       "      <td>29</td>\n",
       "      <td>11</td>\n",
       "      <td>America/New_York</td>\n",
       "      <td>Haymarket Square</td>\n",
       "      <td>North Station</td>\n",
       "      <td>Lyft</td>\n",
       "      <td>lyft_plus</td>\n",
       "      <td>Lyft XL</td>\n",
       "      <td>9.0</td>\n",
       "      <td>...</td>\n",
       "      <td>partly-cloudy-night</td>\n",
       "      <td>28.61</td>\n",
       "      <td>998.36</td>\n",
       "      <td>303</td>\n",
       "      <td>0.44</td>\n",
       "      <td>0</td>\n",
       "      <td>10.000</td>\n",
       "      <td>347.7</td>\n",
       "      <td>0.72</td>\n",
       "      <td>0.0001</td>\n",
       "    </tr>\n",
       "  </tbody>\n",
       "</table>\n",
       "<p>5 rows × 29 columns</p>\n",
       "</div>"
      ],
      "text/plain": [
       "   hour  day  month          timezone            source    destination  \\\n",
       "0     9   16     12  America/New_York  Haymarket Square  North Station   \n",
       "1     2   27     11  America/New_York  Haymarket Square  North Station   \n",
       "2     1   28     11  America/New_York  Haymarket Square  North Station   \n",
       "3     4   30     11  America/New_York  Haymarket Square  North Station   \n",
       "4     3   29     11  America/New_York  Haymarket Square  North Station   \n",
       "\n",
       "  cab_type    product_id          name  price  ...                   icon  \\\n",
       "0     Lyft     lyft_line        Shared    5.0  ...   partly-cloudy-night    \n",
       "1     Lyft  lyft_premier           Lux   11.0  ...                  rain    \n",
       "2     Lyft          lyft          Lyft    7.0  ...           clear-night    \n",
       "3     Lyft   lyft_luxsuv  Lux Black XL   26.0  ...           clear-night    \n",
       "4     Lyft     lyft_plus       Lyft XL    9.0  ...   partly-cloudy-night    \n",
       "\n",
       "   dewPoint pressure  windBearing  cloudCover  uvIndex  visibility.1  ozone  \\\n",
       "0     32.70  1021.98           57        0.72        0        10.000  303.8   \n",
       "1     41.83  1003.97           90        1.00        0         4.786  291.1   \n",
       "2     31.10   992.28          240        0.03        0        10.000  315.7   \n",
       "3     26.64  1013.73          310        0.00        0        10.000  291.1   \n",
       "4     28.61   998.36          303        0.44        0        10.000  347.7   \n",
       "\n",
       "   moonPhase precipIntensityMax  \n",
       "0       0.30             0.1276  \n",
       "1       0.64             0.1300  \n",
       "2       0.68             0.1064  \n",
       "3       0.75             0.0000  \n",
       "4       0.72             0.0001  \n",
       "\n",
       "[5 rows x 29 columns]"
      ]
     },
     "execution_count": 8,
     "metadata": {},
     "output_type": "execute_result"
    }
   ],
   "source": [
    "data_new = data[['temperature','apparentTemperature','temperatureHigh','temperatureLow','apparentTemperatureHigh',\n",
    "                'apparentTemperatureLow','temperatureMin','temperatureHighTime','temperatureMax','apparentTemperatureMin','apparentTemperatureMax']]\n",
    "\n",
    "data = data.drop(data_new.columns,axis=1)\n",
    "data.head()"
   ]
  },
  {
   "cell_type": "markdown",
   "id": "247c0f8b",
   "metadata": {
    "papermill": {
     "duration": 0.071049,
     "end_time": "2021-07-20T06:50:32.100505",
     "exception": false,
     "start_time": "2021-07-20T06:50:32.029456",
     "status": "completed"
    },
    "tags": []
   },
   "source": [
    "Analyzing data in the categorical features"
   ]
  },
  {
   "cell_type": "code",
   "execution_count": 9,
   "id": "60dc650e",
   "metadata": {
    "execution": {
     "iopub.execute_input": "2021-07-20T06:50:32.365204Z",
     "iopub.status.busy": "2021-07-20T06:50:32.306849Z",
     "iopub.status.idle": "2021-07-20T06:50:32.371207Z",
     "shell.execute_reply": "2021-07-20T06:50:32.370670Z",
     "shell.execute_reply.started": "2021-07-20T06:47:41.577707Z"
    },
    "papermill": {
     "duration": 0.1996,
     "end_time": "2021-07-20T06:50:32.371360",
     "exception": false,
     "start_time": "2021-07-20T06:50:32.171760",
     "status": "completed"
    },
    "tags": []
   },
   "outputs": [
    {
     "data": {
      "text/html": [
       "<div>\n",
       "<style scoped>\n",
       "    .dataframe tbody tr th:only-of-type {\n",
       "        vertical-align: middle;\n",
       "    }\n",
       "\n",
       "    .dataframe tbody tr th {\n",
       "        vertical-align: top;\n",
       "    }\n",
       "\n",
       "    .dataframe thead th {\n",
       "        text-align: right;\n",
       "    }\n",
       "</style>\n",
       "<table border=\"1\" class=\"dataframe\">\n",
       "  <thead>\n",
       "    <tr style=\"text-align: right;\">\n",
       "      <th></th>\n",
       "      <th>timezone</th>\n",
       "      <th>source</th>\n",
       "      <th>destination</th>\n",
       "      <th>cab_type</th>\n",
       "      <th>product_id</th>\n",
       "      <th>name</th>\n",
       "      <th>short_summary</th>\n",
       "      <th>icon</th>\n",
       "    </tr>\n",
       "  </thead>\n",
       "  <tbody>\n",
       "    <tr>\n",
       "      <th>0</th>\n",
       "      <td>America/New_York</td>\n",
       "      <td>Haymarket Square</td>\n",
       "      <td>North Station</td>\n",
       "      <td>Lyft</td>\n",
       "      <td>lyft_line</td>\n",
       "      <td>Shared</td>\n",
       "      <td>Mostly Cloudy</td>\n",
       "      <td>partly-cloudy-night</td>\n",
       "    </tr>\n",
       "    <tr>\n",
       "      <th>1</th>\n",
       "      <td>America/New_York</td>\n",
       "      <td>Haymarket Square</td>\n",
       "      <td>North Station</td>\n",
       "      <td>Lyft</td>\n",
       "      <td>lyft_premier</td>\n",
       "      <td>Lux</td>\n",
       "      <td>Rain</td>\n",
       "      <td>rain</td>\n",
       "    </tr>\n",
       "    <tr>\n",
       "      <th>2</th>\n",
       "      <td>America/New_York</td>\n",
       "      <td>Haymarket Square</td>\n",
       "      <td>North Station</td>\n",
       "      <td>Lyft</td>\n",
       "      <td>lyft</td>\n",
       "      <td>Lyft</td>\n",
       "      <td>Clear</td>\n",
       "      <td>clear-night</td>\n",
       "    </tr>\n",
       "    <tr>\n",
       "      <th>3</th>\n",
       "      <td>America/New_York</td>\n",
       "      <td>Haymarket Square</td>\n",
       "      <td>North Station</td>\n",
       "      <td>Lyft</td>\n",
       "      <td>lyft_luxsuv</td>\n",
       "      <td>Lux Black XL</td>\n",
       "      <td>Clear</td>\n",
       "      <td>clear-night</td>\n",
       "    </tr>\n",
       "    <tr>\n",
       "      <th>4</th>\n",
       "      <td>America/New_York</td>\n",
       "      <td>Haymarket Square</td>\n",
       "      <td>North Station</td>\n",
       "      <td>Lyft</td>\n",
       "      <td>lyft_plus</td>\n",
       "      <td>Lyft XL</td>\n",
       "      <td>Partly Cloudy</td>\n",
       "      <td>partly-cloudy-night</td>\n",
       "    </tr>\n",
       "  </tbody>\n",
       "</table>\n",
       "</div>"
      ],
      "text/plain": [
       "           timezone            source    destination cab_type    product_id  \\\n",
       "0  America/New_York  Haymarket Square  North Station     Lyft     lyft_line   \n",
       "1  America/New_York  Haymarket Square  North Station     Lyft  lyft_premier   \n",
       "2  America/New_York  Haymarket Square  North Station     Lyft          lyft   \n",
       "3  America/New_York  Haymarket Square  North Station     Lyft   lyft_luxsuv   \n",
       "4  America/New_York  Haymarket Square  North Station     Lyft     lyft_plus   \n",
       "\n",
       "           name    short_summary                   icon  \n",
       "0        Shared   Mostly Cloudy    partly-cloudy-night   \n",
       "1           Lux            Rain                   rain   \n",
       "2          Lyft           Clear            clear-night   \n",
       "3  Lux Black XL           Clear            clear-night   \n",
       "4       Lyft XL   Partly Cloudy    partly-cloudy-night   "
      ]
     },
     "execution_count": 9,
     "metadata": {},
     "output_type": "execute_result"
    }
   ],
   "source": [
    "cat_col = data.select_dtypes(include=['object','category']).columns.tolist()\n",
    "data_new = data[cat_col]\n",
    "data_new.head()"
   ]
  },
  {
   "cell_type": "markdown",
   "id": "295a09dc",
   "metadata": {
    "papermill": {
     "duration": 0.070508,
     "end_time": "2021-07-20T06:50:32.512718",
     "exception": false,
     "start_time": "2021-07-20T06:50:32.442210",
     "status": "completed"
    },
    "tags": []
   },
   "source": [
    "Checking for unique values in all categorical columns"
   ]
  },
  {
   "cell_type": "code",
   "execution_count": 10,
   "id": "e14c414f",
   "metadata": {
    "execution": {
     "iopub.execute_input": "2021-07-20T06:50:32.698568Z",
     "iopub.status.busy": "2021-07-20T06:50:32.697907Z",
     "iopub.status.idle": "2021-07-20T06:50:33.124879Z",
     "shell.execute_reply": "2021-07-20T06:50:33.125329Z",
     "shell.execute_reply.started": "2021-07-20T06:47:41.734873Z"
    },
    "papermill": {
     "duration": 0.542132,
     "end_time": "2021-07-20T06:50:33.125540",
     "exception": false,
     "start_time": "2021-07-20T06:50:32.583408",
     "status": "completed"
    },
    "tags": []
   },
   "outputs": [
    {
     "name": "stdout",
     "output_type": "stream",
     "text": [
      "timezone : ['America/New_York']\n",
      "\n",
      "source : ['Haymarket Square' 'Back Bay' 'North End' 'North Station' 'Beacon Hill'\n",
      " 'Boston University' 'Fenway' 'South Station' 'Theatre District'\n",
      " 'West End' 'Financial District' 'Northeastern University']\n",
      "\n",
      "destination : ['North Station' 'Northeastern University' 'West End' 'Haymarket Square'\n",
      " 'South Station' 'Fenway' 'Theatre District' 'Beacon Hill' 'Back Bay'\n",
      " 'North End' 'Financial District' 'Boston University']\n",
      "\n",
      "cab_type : ['Lyft' 'Uber']\n",
      "\n",
      "product_id : ['lyft_line' 'lyft_premier' 'lyft' 'lyft_luxsuv' 'lyft_plus' 'lyft_lux'\n",
      " '6f72dfc5-27f1-42e8-84db-ccc7a75f6969'\n",
      " '6c84fd89-3f11-4782-9b50-97c468b19529'\n",
      " '55c66225-fbe7-4fd5-9072-eab1ece5e23e'\n",
      " '9a0e7b09-b92b-4c41-9779-2ad22b4d779d'\n",
      " '6d318bcc-22a3-4af6-bddd-b409bfce1546'\n",
      " '997acbb5-e102-41e1-b155-9df7de0a73f2'\n",
      " '8cf7e821-f0d3-49c6-8eba-e679c0ebcf6a']\n",
      "\n",
      "name : ['Shared' 'Lux' 'Lyft' 'Lux Black XL' 'Lyft XL' 'Lux Black' 'UberXL'\n",
      " 'Black' 'UberX' 'WAV' 'Black SUV' 'UberPool' 'Taxi']\n",
      "\n",
      "short_summary : [' Mostly Cloudy ' ' Rain ' ' Clear ' ' Partly Cloudy ' ' Overcast '\n",
      " ' Light Rain ' ' Foggy ' ' Possible Drizzle ' ' Drizzle ']\n",
      "\n",
      "icon : [' partly-cloudy-night ' ' rain ' ' clear-night ' ' cloudy ' ' fog '\n",
      " ' clear-day ' ' partly-cloudy-day ']\n",
      "\n"
     ]
    }
   ],
   "source": [
    "for col in data_new:\n",
    "    print(f'{col} : {data_new[col].unique()}')\n",
    "    print()\n",
    "    "
   ]
  },
  {
   "cell_type": "code",
   "execution_count": 11,
   "id": "45f8b34d",
   "metadata": {
    "execution": {
     "iopub.execute_input": "2021-07-20T06:50:33.451958Z",
     "iopub.status.busy": "2021-07-20T06:50:33.448850Z",
     "iopub.status.idle": "2021-07-20T06:50:33.456872Z",
     "shell.execute_reply": "2021-07-20T06:50:33.456310Z",
     "shell.execute_reply.started": "2021-07-20T06:47:42.214037Z"
    },
    "papermill": {
     "duration": 0.256808,
     "end_time": "2021-07-20T06:50:33.457019",
     "exception": false,
     "start_time": "2021-07-20T06:50:33.200211",
     "status": "completed"
    },
    "tags": []
   },
   "outputs": [
    {
     "data": {
      "text/plain": [
       "6f72dfc5-27f1-42e8-84db-ccc7a75f6969    55096\n",
       "6d318bcc-22a3-4af6-bddd-b409bfce1546    55096\n",
       "9a0e7b09-b92b-4c41-9779-2ad22b4d779d    55096\n",
       "6c84fd89-3f11-4782-9b50-97c468b19529    55095\n",
       "8cf7e821-f0d3-49c6-8eba-e679c0ebcf6a    55095\n",
       "55c66225-fbe7-4fd5-9072-eab1ece5e23e    55094\n",
       "997acbb5-e102-41e1-b155-9df7de0a73f2    55091\n",
       "lyft_plus                               51235\n",
       "lyft                                    51235\n",
       "lyft_premier                            51235\n",
       "lyft_lux                                51235\n",
       "lyft_luxsuv                             51235\n",
       "lyft_line                               51233\n",
       "Name: product_id, dtype: int64"
      ]
     },
     "execution_count": 11,
     "metadata": {},
     "output_type": "execute_result"
    }
   ],
   "source": [
    "data_new['product_id'].value_counts()"
   ]
  },
  {
   "cell_type": "markdown",
   "id": "8a74d37d",
   "metadata": {
    "papermill": {
     "duration": 0.072304,
     "end_time": "2021-07-20T06:50:33.601266",
     "exception": false,
     "start_time": "2021-07-20T06:50:33.528962",
     "status": "completed"
    },
    "tags": []
   },
   "source": [
    "Removing timezone column as it has only value across all the observations and productid as it has more than 50% of the values with junk data"
   ]
  },
  {
   "cell_type": "code",
   "execution_count": 12,
   "id": "5029411b",
   "metadata": {
    "execution": {
     "iopub.execute_input": "2021-07-20T06:50:33.760738Z",
     "iopub.status.busy": "2021-07-20T06:50:33.759841Z",
     "iopub.status.idle": "2021-07-20T06:50:33.862834Z",
     "shell.execute_reply": "2021-07-20T06:50:33.862276Z",
     "shell.execute_reply.started": "2021-07-20T06:47:42.397532Z"
    },
    "papermill": {
     "duration": 0.189749,
     "end_time": "2021-07-20T06:50:33.862975",
     "exception": false,
     "start_time": "2021-07-20T06:50:33.673226",
     "status": "completed"
    },
    "tags": []
   },
   "outputs": [
    {
     "data": {
      "text/html": [
       "<div>\n",
       "<style scoped>\n",
       "    .dataframe tbody tr th:only-of-type {\n",
       "        vertical-align: middle;\n",
       "    }\n",
       "\n",
       "    .dataframe tbody tr th {\n",
       "        vertical-align: top;\n",
       "    }\n",
       "\n",
       "    .dataframe thead th {\n",
       "        text-align: right;\n",
       "    }\n",
       "</style>\n",
       "<table border=\"1\" class=\"dataframe\">\n",
       "  <thead>\n",
       "    <tr style=\"text-align: right;\">\n",
       "      <th></th>\n",
       "      <th>hour</th>\n",
       "      <th>day</th>\n",
       "      <th>month</th>\n",
       "      <th>source</th>\n",
       "      <th>destination</th>\n",
       "      <th>cab_type</th>\n",
       "      <th>name</th>\n",
       "      <th>price</th>\n",
       "      <th>distance</th>\n",
       "      <th>surge_multiplier</th>\n",
       "      <th>...</th>\n",
       "      <th>icon</th>\n",
       "      <th>dewPoint</th>\n",
       "      <th>pressure</th>\n",
       "      <th>windBearing</th>\n",
       "      <th>cloudCover</th>\n",
       "      <th>uvIndex</th>\n",
       "      <th>visibility.1</th>\n",
       "      <th>ozone</th>\n",
       "      <th>moonPhase</th>\n",
       "      <th>precipIntensityMax</th>\n",
       "    </tr>\n",
       "  </thead>\n",
       "  <tbody>\n",
       "    <tr>\n",
       "      <th>0</th>\n",
       "      <td>9</td>\n",
       "      <td>16</td>\n",
       "      <td>12</td>\n",
       "      <td>Haymarket Square</td>\n",
       "      <td>North Station</td>\n",
       "      <td>Lyft</td>\n",
       "      <td>Shared</td>\n",
       "      <td>5.0</td>\n",
       "      <td>0.44</td>\n",
       "      <td>1.0</td>\n",
       "      <td>...</td>\n",
       "      <td>partly-cloudy-night</td>\n",
       "      <td>32.70</td>\n",
       "      <td>1021.98</td>\n",
       "      <td>57</td>\n",
       "      <td>0.72</td>\n",
       "      <td>0</td>\n",
       "      <td>10.000</td>\n",
       "      <td>303.8</td>\n",
       "      <td>0.30</td>\n",
       "      <td>0.1276</td>\n",
       "    </tr>\n",
       "    <tr>\n",
       "      <th>1</th>\n",
       "      <td>2</td>\n",
       "      <td>27</td>\n",
       "      <td>11</td>\n",
       "      <td>Haymarket Square</td>\n",
       "      <td>North Station</td>\n",
       "      <td>Lyft</td>\n",
       "      <td>Lux</td>\n",
       "      <td>11.0</td>\n",
       "      <td>0.44</td>\n",
       "      <td>1.0</td>\n",
       "      <td>...</td>\n",
       "      <td>rain</td>\n",
       "      <td>41.83</td>\n",
       "      <td>1003.97</td>\n",
       "      <td>90</td>\n",
       "      <td>1.00</td>\n",
       "      <td>0</td>\n",
       "      <td>4.786</td>\n",
       "      <td>291.1</td>\n",
       "      <td>0.64</td>\n",
       "      <td>0.1300</td>\n",
       "    </tr>\n",
       "    <tr>\n",
       "      <th>2</th>\n",
       "      <td>1</td>\n",
       "      <td>28</td>\n",
       "      <td>11</td>\n",
       "      <td>Haymarket Square</td>\n",
       "      <td>North Station</td>\n",
       "      <td>Lyft</td>\n",
       "      <td>Lyft</td>\n",
       "      <td>7.0</td>\n",
       "      <td>0.44</td>\n",
       "      <td>1.0</td>\n",
       "      <td>...</td>\n",
       "      <td>clear-night</td>\n",
       "      <td>31.10</td>\n",
       "      <td>992.28</td>\n",
       "      <td>240</td>\n",
       "      <td>0.03</td>\n",
       "      <td>0</td>\n",
       "      <td>10.000</td>\n",
       "      <td>315.7</td>\n",
       "      <td>0.68</td>\n",
       "      <td>0.1064</td>\n",
       "    </tr>\n",
       "    <tr>\n",
       "      <th>3</th>\n",
       "      <td>4</td>\n",
       "      <td>30</td>\n",
       "      <td>11</td>\n",
       "      <td>Haymarket Square</td>\n",
       "      <td>North Station</td>\n",
       "      <td>Lyft</td>\n",
       "      <td>Lux Black XL</td>\n",
       "      <td>26.0</td>\n",
       "      <td>0.44</td>\n",
       "      <td>1.0</td>\n",
       "      <td>...</td>\n",
       "      <td>clear-night</td>\n",
       "      <td>26.64</td>\n",
       "      <td>1013.73</td>\n",
       "      <td>310</td>\n",
       "      <td>0.00</td>\n",
       "      <td>0</td>\n",
       "      <td>10.000</td>\n",
       "      <td>291.1</td>\n",
       "      <td>0.75</td>\n",
       "      <td>0.0000</td>\n",
       "    </tr>\n",
       "    <tr>\n",
       "      <th>4</th>\n",
       "      <td>3</td>\n",
       "      <td>29</td>\n",
       "      <td>11</td>\n",
       "      <td>Haymarket Square</td>\n",
       "      <td>North Station</td>\n",
       "      <td>Lyft</td>\n",
       "      <td>Lyft XL</td>\n",
       "      <td>9.0</td>\n",
       "      <td>0.44</td>\n",
       "      <td>1.0</td>\n",
       "      <td>...</td>\n",
       "      <td>partly-cloudy-night</td>\n",
       "      <td>28.61</td>\n",
       "      <td>998.36</td>\n",
       "      <td>303</td>\n",
       "      <td>0.44</td>\n",
       "      <td>0</td>\n",
       "      <td>10.000</td>\n",
       "      <td>347.7</td>\n",
       "      <td>0.72</td>\n",
       "      <td>0.0001</td>\n",
       "    </tr>\n",
       "  </tbody>\n",
       "</table>\n",
       "<p>5 rows × 27 columns</p>\n",
       "</div>"
      ],
      "text/plain": [
       "   hour  day  month            source    destination cab_type          name  \\\n",
       "0     9   16     12  Haymarket Square  North Station     Lyft        Shared   \n",
       "1     2   27     11  Haymarket Square  North Station     Lyft           Lux   \n",
       "2     1   28     11  Haymarket Square  North Station     Lyft          Lyft   \n",
       "3     4   30     11  Haymarket Square  North Station     Lyft  Lux Black XL   \n",
       "4     3   29     11  Haymarket Square  North Station     Lyft       Lyft XL   \n",
       "\n",
       "   price  distance  surge_multiplier  ...                   icon  dewPoint  \\\n",
       "0    5.0      0.44               1.0  ...   partly-cloudy-night      32.70   \n",
       "1   11.0      0.44               1.0  ...                  rain      41.83   \n",
       "2    7.0      0.44               1.0  ...           clear-night      31.10   \n",
       "3   26.0      0.44               1.0  ...           clear-night      26.64   \n",
       "4    9.0      0.44               1.0  ...   partly-cloudy-night      28.61   \n",
       "\n",
       "   pressure  windBearing  cloudCover  uvIndex  visibility.1  ozone  moonPhase  \\\n",
       "0   1021.98           57        0.72        0        10.000  303.8       0.30   \n",
       "1   1003.97           90        1.00        0         4.786  291.1       0.64   \n",
       "2    992.28          240        0.03        0        10.000  315.7       0.68   \n",
       "3   1013.73          310        0.00        0        10.000  291.1       0.75   \n",
       "4    998.36          303        0.44        0        10.000  347.7       0.72   \n",
       "\n",
       "   precipIntensityMax  \n",
       "0              0.1276  \n",
       "1              0.1300  \n",
       "2              0.1064  \n",
       "3              0.0000  \n",
       "4              0.0001  \n",
       "\n",
       "[5 rows x 27 columns]"
      ]
     },
     "execution_count": 12,
     "metadata": {},
     "output_type": "execute_result"
    }
   ],
   "source": [
    "data = data.drop(['product_id','timezone'],axis=1)\n",
    "data.head()"
   ]
  },
  {
   "cell_type": "markdown",
   "id": "86d45c69",
   "metadata": {
    "papermill": {
     "duration": 0.075367,
     "end_time": "2021-07-20T06:50:34.010518",
     "exception": false,
     "start_time": "2021-07-20T06:50:33.935151",
     "status": "completed"
    },
    "tags": []
   },
   "source": [
    "Analyzing features with numeric data types"
   ]
  },
  {
   "cell_type": "code",
   "execution_count": 13,
   "id": "7e102426",
   "metadata": {
    "execution": {
     "iopub.execute_input": "2021-07-20T06:50:34.265744Z",
     "iopub.status.busy": "2021-07-20T06:50:34.264746Z",
     "iopub.status.idle": "2021-07-20T06:50:34.268690Z",
     "shell.execute_reply": "2021-07-20T06:50:34.269170Z",
     "shell.execute_reply.started": "2021-07-20T06:47:42.889896Z"
    },
    "papermill": {
     "duration": 0.184002,
     "end_time": "2021-07-20T06:50:34.269344",
     "exception": false,
     "start_time": "2021-07-20T06:50:34.085342",
     "status": "completed"
    },
    "tags": []
   },
   "outputs": [
    {
     "data": {
      "text/plain": [
       "Index(['hour', 'day', 'month', 'price', 'distance', 'surge_multiplier',\n",
       "       'precipIntensity', 'precipProbability', 'humidity', 'windSpeed',\n",
       "       'windGust', 'visibility', 'dewPoint', 'pressure', 'windBearing',\n",
       "       'cloudCover', 'uvIndex', 'visibility.1', 'ozone', 'moonPhase',\n",
       "       'precipIntensityMax'],\n",
       "      dtype='object')"
      ]
     },
     "execution_count": 13,
     "metadata": {},
     "output_type": "execute_result"
    }
   ],
   "source": [
    "num_col = data.select_dtypes(include=['int64','float64']).columns.tolist()\n",
    "data_new = data[num_col]\n",
    "data_new.columns"
   ]
  },
  {
   "cell_type": "markdown",
   "id": "12f0fc15",
   "metadata": {
    "papermill": {
     "duration": 0.072426,
     "end_time": "2021-07-20T06:50:34.414459",
     "exception": false,
     "start_time": "2021-07-20T06:50:34.342033",
     "status": "completed"
    },
    "tags": []
   },
   "source": [
    "Analyzing climate related features with price column"
   ]
  },
  {
   "cell_type": "code",
   "execution_count": 14,
   "id": "a9b30e8b",
   "metadata": {
    "execution": {
     "iopub.execute_input": "2021-07-20T06:50:34.612317Z",
     "iopub.status.busy": "2021-07-20T06:50:34.604855Z",
     "iopub.status.idle": "2021-07-20T06:50:34.629184Z",
     "shell.execute_reply": "2021-07-20T06:50:34.628560Z",
     "shell.execute_reply.started": "2021-07-20T06:47:43.042822Z"
    },
    "papermill": {
     "duration": 0.141948,
     "end_time": "2021-07-20T06:50:34.629323",
     "exception": false,
     "start_time": "2021-07-20T06:50:34.487375",
     "status": "completed"
    },
    "tags": []
   },
   "outputs": [
    {
     "data": {
      "text/html": [
       "<div>\n",
       "<style scoped>\n",
       "    .dataframe tbody tr th:only-of-type {\n",
       "        vertical-align: middle;\n",
       "    }\n",
       "\n",
       "    .dataframe tbody tr th {\n",
       "        vertical-align: top;\n",
       "    }\n",
       "\n",
       "    .dataframe thead th {\n",
       "        text-align: right;\n",
       "    }\n",
       "</style>\n",
       "<table border=\"1\" class=\"dataframe\">\n",
       "  <thead>\n",
       "    <tr style=\"text-align: right;\">\n",
       "      <th></th>\n",
       "      <th>price</th>\n",
       "      <th>precipIntensity</th>\n",
       "      <th>precipProbability</th>\n",
       "      <th>humidity</th>\n",
       "      <th>windSpeed</th>\n",
       "      <th>windGust</th>\n",
       "      <th>visibility</th>\n",
       "      <th>dewPoint</th>\n",
       "      <th>pressure</th>\n",
       "      <th>windBearing</th>\n",
       "      <th>cloudCover</th>\n",
       "      <th>uvIndex</th>\n",
       "      <th>visibility.1</th>\n",
       "      <th>ozone</th>\n",
       "      <th>moonPhase</th>\n",
       "      <th>precipIntensityMax</th>\n",
       "    </tr>\n",
       "  </thead>\n",
       "  <tbody>\n",
       "    <tr>\n",
       "      <th>0</th>\n",
       "      <td>5.0</td>\n",
       "      <td>0.0000</td>\n",
       "      <td>0.0</td>\n",
       "      <td>0.68</td>\n",
       "      <td>8.66</td>\n",
       "      <td>9.17</td>\n",
       "      <td>10.000</td>\n",
       "      <td>32.70</td>\n",
       "      <td>1021.98</td>\n",
       "      <td>57</td>\n",
       "      <td>0.72</td>\n",
       "      <td>0</td>\n",
       "      <td>10.000</td>\n",
       "      <td>303.8</td>\n",
       "      <td>0.30</td>\n",
       "      <td>0.1276</td>\n",
       "    </tr>\n",
       "    <tr>\n",
       "      <th>1</th>\n",
       "      <td>11.0</td>\n",
       "      <td>0.1299</td>\n",
       "      <td>1.0</td>\n",
       "      <td>0.94</td>\n",
       "      <td>11.98</td>\n",
       "      <td>11.98</td>\n",
       "      <td>4.786</td>\n",
       "      <td>41.83</td>\n",
       "      <td>1003.97</td>\n",
       "      <td>90</td>\n",
       "      <td>1.00</td>\n",
       "      <td>0</td>\n",
       "      <td>4.786</td>\n",
       "      <td>291.1</td>\n",
       "      <td>0.64</td>\n",
       "      <td>0.1300</td>\n",
       "    </tr>\n",
       "    <tr>\n",
       "      <th>2</th>\n",
       "      <td>7.0</td>\n",
       "      <td>0.0000</td>\n",
       "      <td>0.0</td>\n",
       "      <td>0.75</td>\n",
       "      <td>7.33</td>\n",
       "      <td>7.33</td>\n",
       "      <td>10.000</td>\n",
       "      <td>31.10</td>\n",
       "      <td>992.28</td>\n",
       "      <td>240</td>\n",
       "      <td>0.03</td>\n",
       "      <td>0</td>\n",
       "      <td>10.000</td>\n",
       "      <td>315.7</td>\n",
       "      <td>0.68</td>\n",
       "      <td>0.1064</td>\n",
       "    </tr>\n",
       "    <tr>\n",
       "      <th>3</th>\n",
       "      <td>26.0</td>\n",
       "      <td>0.0000</td>\n",
       "      <td>0.0</td>\n",
       "      <td>0.73</td>\n",
       "      <td>5.28</td>\n",
       "      <td>5.28</td>\n",
       "      <td>10.000</td>\n",
       "      <td>26.64</td>\n",
       "      <td>1013.73</td>\n",
       "      <td>310</td>\n",
       "      <td>0.00</td>\n",
       "      <td>0</td>\n",
       "      <td>10.000</td>\n",
       "      <td>291.1</td>\n",
       "      <td>0.75</td>\n",
       "      <td>0.0000</td>\n",
       "    </tr>\n",
       "    <tr>\n",
       "      <th>4</th>\n",
       "      <td>9.0</td>\n",
       "      <td>0.0000</td>\n",
       "      <td>0.0</td>\n",
       "      <td>0.70</td>\n",
       "      <td>9.14</td>\n",
       "      <td>9.14</td>\n",
       "      <td>10.000</td>\n",
       "      <td>28.61</td>\n",
       "      <td>998.36</td>\n",
       "      <td>303</td>\n",
       "      <td>0.44</td>\n",
       "      <td>0</td>\n",
       "      <td>10.000</td>\n",
       "      <td>347.7</td>\n",
       "      <td>0.72</td>\n",
       "      <td>0.0001</td>\n",
       "    </tr>\n",
       "  </tbody>\n",
       "</table>\n",
       "</div>"
      ],
      "text/plain": [
       "   price  precipIntensity  precipProbability  humidity  windSpeed  windGust  \\\n",
       "0    5.0           0.0000                0.0      0.68       8.66      9.17   \n",
       "1   11.0           0.1299                1.0      0.94      11.98     11.98   \n",
       "2    7.0           0.0000                0.0      0.75       7.33      7.33   \n",
       "3   26.0           0.0000                0.0      0.73       5.28      5.28   \n",
       "4    9.0           0.0000                0.0      0.70       9.14      9.14   \n",
       "\n",
       "   visibility  dewPoint  pressure  windBearing  cloudCover  uvIndex  \\\n",
       "0      10.000     32.70   1021.98           57        0.72        0   \n",
       "1       4.786     41.83   1003.97           90        1.00        0   \n",
       "2      10.000     31.10    992.28          240        0.03        0   \n",
       "3      10.000     26.64   1013.73          310        0.00        0   \n",
       "4      10.000     28.61    998.36          303        0.44        0   \n",
       "\n",
       "   visibility.1  ozone  moonPhase  precipIntensityMax  \n",
       "0        10.000  303.8       0.30              0.1276  \n",
       "1         4.786  291.1       0.64              0.1300  \n",
       "2        10.000  315.7       0.68              0.1064  \n",
       "3        10.000  291.1       0.75              0.0000  \n",
       "4        10.000  347.7       0.72              0.0001  "
      ]
     },
     "execution_count": 14,
     "metadata": {},
     "output_type": "execute_result"
    }
   ],
   "source": [
    "cli_col = ['price','precipIntensity', 'precipProbability', 'humidity', 'windSpeed',\n",
    "       'windGust', 'visibility', 'dewPoint', 'pressure', 'windBearing',\n",
    "       'cloudCover', 'uvIndex', 'visibility.1', 'ozone', 'moonPhase',\n",
    "       'precipIntensityMax']\n",
    "data_new = data[cli_col]\n",
    "data_new.head()"
   ]
  },
  {
   "cell_type": "code",
   "execution_count": 15,
   "id": "fec7ecac",
   "metadata": {
    "execution": {
     "iopub.execute_input": "2021-07-20T06:50:34.782574Z",
     "iopub.status.busy": "2021-07-20T06:50:34.781892Z",
     "iopub.status.idle": "2021-07-20T06:50:37.085938Z",
     "shell.execute_reply": "2021-07-20T06:50:37.085328Z",
     "shell.execute_reply.started": "2021-07-20T06:47:43.200864Z"
    },
    "papermill": {
     "duration": 2.383513,
     "end_time": "2021-07-20T06:50:37.086089",
     "exception": false,
     "start_time": "2021-07-20T06:50:34.702576",
     "status": "completed"
    },
    "tags": []
   },
   "outputs": [
    {
     "data": {
      "text/plain": [
       "<AxesSubplot:>"
      ]
     },
     "execution_count": 15,
     "metadata": {},
     "output_type": "execute_result"
    },
    {
     "data": {
      "image/png": "[encoded data removed]",
      "text/plain": [
       "<Figure size 864x864 with 2 Axes>"
      ]
     },
     "metadata": {
      "needs_background": "light"
     },
     "output_type": "display_data"
    }
   ],
   "source": [
    "#plotting heatmap with correlation on data_new dataframe\n",
    "plt.figure(figsize=(12,12))\n",
    "sb.heatmap(data_new.corr(),annot=True, mask=np.triu(data_new.corr()))"
   ]
  },
  {
   "cell_type": "markdown",
   "id": "402cdeb9",
   "metadata": {
    "papermill": {
     "duration": 0.076649,
     "end_time": "2021-07-20T06:50:37.239309",
     "exception": false,
     "start_time": "2021-07-20T06:50:37.162660",
     "status": "completed"
    },
    "tags": []
   },
   "source": [
    "All the climate related features has correlation almost 0 with respect to price column. Dropping these columns does'nt effect the accurracy prediction of price"
   ]
  },
  {
   "cell_type": "code",
   "execution_count": 16,
   "id": "6c0d7210",
   "metadata": {
    "execution": {
     "iopub.execute_input": "2021-07-20T06:50:37.396865Z",
     "iopub.status.busy": "2021-07-20T06:50:37.396149Z",
     "iopub.status.idle": "2021-07-20T06:50:37.463031Z",
     "shell.execute_reply": "2021-07-20T06:50:37.462419Z",
     "shell.execute_reply.started": "2021-07-20T06:47:45.455921Z"
    },
    "papermill": {
     "duration": 0.146218,
     "end_time": "2021-07-20T06:50:37.463172",
     "exception": false,
     "start_time": "2021-07-20T06:50:37.316954",
     "status": "completed"
    },
    "tags": []
   },
   "outputs": [
    {
     "data": {
      "text/html": [
       "<div>\n",
       "<style scoped>\n",
       "    .dataframe tbody tr th:only-of-type {\n",
       "        vertical-align: middle;\n",
       "    }\n",
       "\n",
       "    .dataframe tbody tr th {\n",
       "        vertical-align: top;\n",
       "    }\n",
       "\n",
       "    .dataframe thead th {\n",
       "        text-align: right;\n",
       "    }\n",
       "</style>\n",
       "<table border=\"1\" class=\"dataframe\">\n",
       "  <thead>\n",
       "    <tr style=\"text-align: right;\">\n",
       "      <th></th>\n",
       "      <th>hour</th>\n",
       "      <th>day</th>\n",
       "      <th>month</th>\n",
       "      <th>source</th>\n",
       "      <th>destination</th>\n",
       "      <th>cab_type</th>\n",
       "      <th>name</th>\n",
       "      <th>price</th>\n",
       "      <th>distance</th>\n",
       "      <th>surge_multiplier</th>\n",
       "      <th>short_summary</th>\n",
       "      <th>icon</th>\n",
       "    </tr>\n",
       "  </thead>\n",
       "  <tbody>\n",
       "    <tr>\n",
       "      <th>0</th>\n",
       "      <td>9</td>\n",
       "      <td>16</td>\n",
       "      <td>12</td>\n",
       "      <td>Haymarket Square</td>\n",
       "      <td>North Station</td>\n",
       "      <td>Lyft</td>\n",
       "      <td>Shared</td>\n",
       "      <td>5.0</td>\n",
       "      <td>0.44</td>\n",
       "      <td>1.0</td>\n",
       "      <td>Mostly Cloudy</td>\n",
       "      <td>partly-cloudy-night</td>\n",
       "    </tr>\n",
       "    <tr>\n",
       "      <th>1</th>\n",
       "      <td>2</td>\n",
       "      <td>27</td>\n",
       "      <td>11</td>\n",
       "      <td>Haymarket Square</td>\n",
       "      <td>North Station</td>\n",
       "      <td>Lyft</td>\n",
       "      <td>Lux</td>\n",
       "      <td>11.0</td>\n",
       "      <td>0.44</td>\n",
       "      <td>1.0</td>\n",
       "      <td>Rain</td>\n",
       "      <td>rain</td>\n",
       "    </tr>\n",
       "    <tr>\n",
       "      <th>2</th>\n",
       "      <td>1</td>\n",
       "      <td>28</td>\n",
       "      <td>11</td>\n",
       "      <td>Haymarket Square</td>\n",
       "      <td>North Station</td>\n",
       "      <td>Lyft</td>\n",
       "      <td>Lyft</td>\n",
       "      <td>7.0</td>\n",
       "      <td>0.44</td>\n",
       "      <td>1.0</td>\n",
       "      <td>Clear</td>\n",
       "      <td>clear-night</td>\n",
       "    </tr>\n",
       "    <tr>\n",
       "      <th>3</th>\n",
       "      <td>4</td>\n",
       "      <td>30</td>\n",
       "      <td>11</td>\n",
       "      <td>Haymarket Square</td>\n",
       "      <td>North Station</td>\n",
       "      <td>Lyft</td>\n",
       "      <td>Lux Black XL</td>\n",
       "      <td>26.0</td>\n",
       "      <td>0.44</td>\n",
       "      <td>1.0</td>\n",
       "      <td>Clear</td>\n",
       "      <td>clear-night</td>\n",
       "    </tr>\n",
       "    <tr>\n",
       "      <th>4</th>\n",
       "      <td>3</td>\n",
       "      <td>29</td>\n",
       "      <td>11</td>\n",
       "      <td>Haymarket Square</td>\n",
       "      <td>North Station</td>\n",
       "      <td>Lyft</td>\n",
       "      <td>Lyft XL</td>\n",
       "      <td>9.0</td>\n",
       "      <td>0.44</td>\n",
       "      <td>1.0</td>\n",
       "      <td>Partly Cloudy</td>\n",
       "      <td>partly-cloudy-night</td>\n",
       "    </tr>\n",
       "  </tbody>\n",
       "</table>\n",
       "</div>"
      ],
      "text/plain": [
       "   hour  day  month            source    destination cab_type          name  \\\n",
       "0     9   16     12  Haymarket Square  North Station     Lyft        Shared   \n",
       "1     2   27     11  Haymarket Square  North Station     Lyft           Lux   \n",
       "2     1   28     11  Haymarket Square  North Station     Lyft          Lyft   \n",
       "3     4   30     11  Haymarket Square  North Station     Lyft  Lux Black XL   \n",
       "4     3   29     11  Haymarket Square  North Station     Lyft       Lyft XL   \n",
       "\n",
       "   price  distance  surge_multiplier    short_summary                   icon  \n",
       "0    5.0      0.44               1.0   Mostly Cloudy    partly-cloudy-night   \n",
       "1   11.0      0.44               1.0            Rain                   rain   \n",
       "2    7.0      0.44               1.0           Clear            clear-night   \n",
       "3   26.0      0.44               1.0           Clear            clear-night   \n",
       "4    9.0      0.44               1.0   Partly Cloudy    partly-cloudy-night   "
      ]
     },
     "execution_count": 16,
     "metadata": {},
     "output_type": "execute_result"
    }
   ],
   "source": [
    "cli_col = ['precipIntensity', 'precipProbability', 'humidity', 'windSpeed',\n",
    "       'windGust', 'visibility', 'dewPoint', 'pressure', 'windBearing',\n",
    "       'cloudCover', 'uvIndex', 'visibility.1', 'ozone', 'moonPhase',\n",
    "       'precipIntensityMax']\n",
    "data = data.drop(cli_col,axis=1)\n",
    "data.head()\n"
   ]
  },
  {
   "cell_type": "code",
   "execution_count": 17,
   "id": "c5cd24a1",
   "metadata": {
    "execution": {
     "iopub.execute_input": "2021-07-20T06:50:37.624514Z",
     "iopub.status.busy": "2021-07-20T06:50:37.623640Z",
     "iopub.status.idle": "2021-07-20T06:50:37.627721Z",
     "shell.execute_reply": "2021-07-20T06:50:37.628197Z",
     "shell.execute_reply.started": "2021-07-20T06:47:45.523158Z"
    },
    "papermill": {
     "duration": 0.087502,
     "end_time": "2021-07-20T06:50:37.628358",
     "exception": false,
     "start_time": "2021-07-20T06:50:37.540856",
     "status": "completed"
    },
    "tags": []
   },
   "outputs": [
    {
     "data": {
      "text/plain": [
       "(693071, 12)"
      ]
     },
     "execution_count": 17,
     "metadata": {},
     "output_type": "execute_result"
    }
   ],
   "source": [
    "data.shape"
   ]
  },
  {
   "cell_type": "markdown",
   "id": "b1071d0b",
   "metadata": {
    "papermill": {
     "duration": 0.077278,
     "end_time": "2021-07-20T06:50:37.783542",
     "exception": false,
     "start_time": "2021-07-20T06:50:37.706264",
     "status": "completed"
    },
    "tags": []
   },
   "source": [
    "Encoding all the category columns with the Onehot Encoder"
   ]
  },
  {
   "cell_type": "code",
   "execution_count": 18,
   "id": "948d20ab",
   "metadata": {
    "execution": {
     "iopub.execute_input": "2021-07-20T06:50:37.944639Z",
     "iopub.status.busy": "2021-07-20T06:50:37.943611Z",
     "iopub.status.idle": "2021-07-20T06:50:42.415444Z",
     "shell.execute_reply": "2021-07-20T06:50:42.415933Z",
     "shell.execute_reply.started": "2021-07-20T06:47:45.530666Z"
    },
    "papermill": {
     "duration": 4.553824,
     "end_time": "2021-07-20T06:50:42.416119",
     "exception": false,
     "start_time": "2021-07-20T06:50:37.862295",
     "status": "completed"
    },
    "tags": []
   },
   "outputs": [
    {
     "name": "stdout",
     "output_type": "stream",
     "text": [
      "['source', 'destination', 'cab_type', 'name', 'short_summary', 'icon']\n"
     ]
    }
   ],
   "source": [
    "from sklearn.preprocessing import OneHotEncoder\n",
    "cat_col = data.select_dtypes(include=['object','category']).columns.tolist()\n",
    "print(cat_col)\n",
    "\n",
    "#intiate OneHotEncoder and concatinating original df with encoded column df's\n",
    "for col in cat_col:\n",
    "    encoder = OneHotEncoder(handle_unknown='ignore')\n",
    "    enc_df = pd.DataFrame(encoder.fit_transform(data[[col]]).toarray())\n",
    "    enc_df.columns = encoder.get_feature_names([col])\n",
    "    data = data.drop(col, axis=1)\n",
    "    data = pd.concat([data, enc_df], axis=1)"
   ]
  },
  {
   "cell_type": "code",
   "execution_count": 19,
   "id": "6c2c862e",
   "metadata": {
    "execution": {
     "iopub.execute_input": "2021-07-20T06:50:42.579939Z",
     "iopub.status.busy": "2021-07-20T06:50:42.579015Z",
     "iopub.status.idle": "2021-07-20T06:50:42.583199Z",
     "shell.execute_reply": "2021-07-20T06:50:42.582724Z",
     "shell.execute_reply.started": "2021-07-20T06:47:51.632194Z"
    },
    "papermill": {
     "duration": 0.088564,
     "end_time": "2021-07-20T06:50:42.583335",
     "exception": false,
     "start_time": "2021-07-20T06:50:42.494771",
     "status": "completed"
    },
    "tags": []
   },
   "outputs": [
    {
     "data": {
      "text/plain": [
       "Index(['hour', 'day', 'month', 'price', 'distance', 'surge_multiplier',\n",
       "       'source_Back Bay', 'source_Beacon Hill', 'source_Boston University',\n",
       "       'source_Fenway', 'source_Financial District', 'source_Haymarket Square',\n",
       "       'source_North End', 'source_North Station',\n",
       "       'source_Northeastern University', 'source_South Station',\n",
       "       'source_Theatre District', 'source_West End', 'destination_Back Bay',\n",
       "       'destination_Beacon Hill', 'destination_Boston University',\n",
       "       'destination_Fenway', 'destination_Financial District',\n",
       "       'destination_Haymarket Square', 'destination_North End',\n",
       "       'destination_North Station', 'destination_Northeastern University',\n",
       "       'destination_South Station', 'destination_Theatre District',\n",
       "       'destination_West End', 'cab_type_Lyft', 'cab_type_Uber', 'name_Black',\n",
       "       'name_Black SUV', 'name_Lux', 'name_Lux Black', 'name_Lux Black XL',\n",
       "       'name_Lyft', 'name_Lyft XL', 'name_Shared', 'name_Taxi',\n",
       "       'name_UberPool', 'name_UberX', 'name_UberXL', 'name_WAV',\n",
       "       'short_summary_ Clear ', 'short_summary_ Drizzle ',\n",
       "       'short_summary_ Foggy ', 'short_summary_ Light Rain ',\n",
       "       'short_summary_ Mostly Cloudy ', 'short_summary_ Overcast ',\n",
       "       'short_summary_ Partly Cloudy ', 'short_summary_ Possible Drizzle ',\n",
       "       'short_summary_ Rain ', 'icon_ clear-day ', 'icon_ clear-night ',\n",
       "       'icon_ cloudy ', 'icon_ fog ', 'icon_ partly-cloudy-day ',\n",
       "       'icon_ partly-cloudy-night ', 'icon_ rain '],\n",
       "      dtype='object')"
      ]
     },
     "execution_count": 19,
     "metadata": {},
     "output_type": "execute_result"
    }
   ],
   "source": [
    "data.columns"
   ]
  },
  {
   "cell_type": "code",
   "execution_count": 20,
   "id": "b81f9e05",
   "metadata": {
    "execution": {
     "iopub.execute_input": "2021-07-20T06:50:42.773312Z",
     "iopub.status.busy": "2021-07-20T06:50:42.772671Z",
     "iopub.status.idle": "2021-07-20T06:50:42.776985Z",
     "shell.execute_reply": "2021-07-20T06:50:42.776471Z",
     "shell.execute_reply.started": "2021-07-20T06:47:51.641865Z"
    },
    "papermill": {
     "duration": 0.114965,
     "end_time": "2021-07-20T06:50:42.777126",
     "exception": false,
     "start_time": "2021-07-20T06:50:42.662161",
     "status": "completed"
    },
    "tags": []
   },
   "outputs": [
    {
     "data": {
      "text/html": [
       "<div>\n",
       "<style scoped>\n",
       "    .dataframe tbody tr th:only-of-type {\n",
       "        vertical-align: middle;\n",
       "    }\n",
       "\n",
       "    .dataframe tbody tr th {\n",
       "        vertical-align: top;\n",
       "    }\n",
       "\n",
       "    .dataframe thead th {\n",
       "        text-align: right;\n",
       "    }\n",
       "</style>\n",
       "<table border=\"1\" class=\"dataframe\">\n",
       "  <thead>\n",
       "    <tr style=\"text-align: right;\">\n",
       "      <th></th>\n",
       "      <th>hour</th>\n",
       "      <th>day</th>\n",
       "      <th>month</th>\n",
       "      <th>price</th>\n",
       "      <th>distance</th>\n",
       "      <th>surge_multiplier</th>\n",
       "      <th>source_Back Bay</th>\n",
       "      <th>source_Beacon Hill</th>\n",
       "      <th>source_Boston University</th>\n",
       "      <th>source_Fenway</th>\n",
       "      <th>...</th>\n",
       "      <th>short_summary_ Partly Cloudy</th>\n",
       "      <th>short_summary_ Possible Drizzle</th>\n",
       "      <th>short_summary_ Rain</th>\n",
       "      <th>icon_ clear-day</th>\n",
       "      <th>icon_ clear-night</th>\n",
       "      <th>icon_ cloudy</th>\n",
       "      <th>icon_ fog</th>\n",
       "      <th>icon_ partly-cloudy-day</th>\n",
       "      <th>icon_ partly-cloudy-night</th>\n",
       "      <th>icon_ rain</th>\n",
       "    </tr>\n",
       "  </thead>\n",
       "  <tbody>\n",
       "    <tr>\n",
       "      <th>0</th>\n",
       "      <td>9</td>\n",
       "      <td>16</td>\n",
       "      <td>12</td>\n",
       "      <td>5.0</td>\n",
       "      <td>0.44</td>\n",
       "      <td>1.0</td>\n",
       "      <td>0.0</td>\n",
       "      <td>0.0</td>\n",
       "      <td>0.0</td>\n",
       "      <td>0.0</td>\n",
       "      <td>...</td>\n",
       "      <td>0.0</td>\n",
       "      <td>0.0</td>\n",
       "      <td>0.0</td>\n",
       "      <td>0.0</td>\n",
       "      <td>0.0</td>\n",
       "      <td>0.0</td>\n",
       "      <td>0.0</td>\n",
       "      <td>0.0</td>\n",
       "      <td>1.0</td>\n",
       "      <td>0.0</td>\n",
       "    </tr>\n",
       "    <tr>\n",
       "      <th>1</th>\n",
       "      <td>2</td>\n",
       "      <td>27</td>\n",
       "      <td>11</td>\n",
       "      <td>11.0</td>\n",
       "      <td>0.44</td>\n",
       "      <td>1.0</td>\n",
       "      <td>0.0</td>\n",
       "      <td>0.0</td>\n",
       "      <td>0.0</td>\n",
       "      <td>0.0</td>\n",
       "      <td>...</td>\n",
       "      <td>0.0</td>\n",
       "      <td>0.0</td>\n",
       "      <td>1.0</td>\n",
       "      <td>0.0</td>\n",
       "      <td>0.0</td>\n",
       "      <td>0.0</td>\n",
       "      <td>0.0</td>\n",
       "      <td>0.0</td>\n",
       "      <td>0.0</td>\n",
       "      <td>1.0</td>\n",
       "    </tr>\n",
       "    <tr>\n",
       "      <th>2</th>\n",
       "      <td>1</td>\n",
       "      <td>28</td>\n",
       "      <td>11</td>\n",
       "      <td>7.0</td>\n",
       "      <td>0.44</td>\n",
       "      <td>1.0</td>\n",
       "      <td>0.0</td>\n",
       "      <td>0.0</td>\n",
       "      <td>0.0</td>\n",
       "      <td>0.0</td>\n",
       "      <td>...</td>\n",
       "      <td>0.0</td>\n",
       "      <td>0.0</td>\n",
       "      <td>0.0</td>\n",
       "      <td>0.0</td>\n",
       "      <td>1.0</td>\n",
       "      <td>0.0</td>\n",
       "      <td>0.0</td>\n",
       "      <td>0.0</td>\n",
       "      <td>0.0</td>\n",
       "      <td>0.0</td>\n",
       "    </tr>\n",
       "    <tr>\n",
       "      <th>3</th>\n",
       "      <td>4</td>\n",
       "      <td>30</td>\n",
       "      <td>11</td>\n",
       "      <td>26.0</td>\n",
       "      <td>0.44</td>\n",
       "      <td>1.0</td>\n",
       "      <td>0.0</td>\n",
       "      <td>0.0</td>\n",
       "      <td>0.0</td>\n",
       "      <td>0.0</td>\n",
       "      <td>...</td>\n",
       "      <td>0.0</td>\n",
       "      <td>0.0</td>\n",
       "      <td>0.0</td>\n",
       "      <td>0.0</td>\n",
       "      <td>1.0</td>\n",
       "      <td>0.0</td>\n",
       "      <td>0.0</td>\n",
       "      <td>0.0</td>\n",
       "      <td>0.0</td>\n",
       "      <td>0.0</td>\n",
       "    </tr>\n",
       "    <tr>\n",
       "      <th>4</th>\n",
       "      <td>3</td>\n",
       "      <td>29</td>\n",
       "      <td>11</td>\n",
       "      <td>9.0</td>\n",
       "      <td>0.44</td>\n",
       "      <td>1.0</td>\n",
       "      <td>0.0</td>\n",
       "      <td>0.0</td>\n",
       "      <td>0.0</td>\n",
       "      <td>0.0</td>\n",
       "      <td>...</td>\n",
       "      <td>1.0</td>\n",
       "      <td>0.0</td>\n",
       "      <td>0.0</td>\n",
       "      <td>0.0</td>\n",
       "      <td>0.0</td>\n",
       "      <td>0.0</td>\n",
       "      <td>0.0</td>\n",
       "      <td>0.0</td>\n",
       "      <td>1.0</td>\n",
       "      <td>0.0</td>\n",
       "    </tr>\n",
       "  </tbody>\n",
       "</table>\n",
       "<p>5 rows × 61 columns</p>\n",
       "</div>"
      ],
      "text/plain": [
       "   hour  day  month  price  distance  surge_multiplier  source_Back Bay  \\\n",
       "0     9   16     12    5.0      0.44               1.0              0.0   \n",
       "1     2   27     11   11.0      0.44               1.0              0.0   \n",
       "2     1   28     11    7.0      0.44               1.0              0.0   \n",
       "3     4   30     11   26.0      0.44               1.0              0.0   \n",
       "4     3   29     11    9.0      0.44               1.0              0.0   \n",
       "\n",
       "   source_Beacon Hill  source_Boston University  source_Fenway  ...  \\\n",
       "0                 0.0                       0.0            0.0  ...   \n",
       "1                 0.0                       0.0            0.0  ...   \n",
       "2                 0.0                       0.0            0.0  ...   \n",
       "3                 0.0                       0.0            0.0  ...   \n",
       "4                 0.0                       0.0            0.0  ...   \n",
       "\n",
       "   short_summary_ Partly Cloudy   short_summary_ Possible Drizzle   \\\n",
       "0                            0.0                               0.0   \n",
       "1                            0.0                               0.0   \n",
       "2                            0.0                               0.0   \n",
       "3                            0.0                               0.0   \n",
       "4                            1.0                               0.0   \n",
       "\n",
       "   short_summary_ Rain   icon_ clear-day   icon_ clear-night   icon_ cloudy   \\\n",
       "0                   0.0               0.0                 0.0            0.0   \n",
       "1                   1.0               0.0                 0.0            0.0   \n",
       "2                   0.0               0.0                 1.0            0.0   \n",
       "3                   0.0               0.0                 1.0            0.0   \n",
       "4                   0.0               0.0                 0.0            0.0   \n",
       "\n",
       "   icon_ fog   icon_ partly-cloudy-day   icon_ partly-cloudy-night   \\\n",
       "0         0.0                       0.0                         1.0   \n",
       "1         0.0                       0.0                         0.0   \n",
       "2         0.0                       0.0                         0.0   \n",
       "3         0.0                       0.0                         0.0   \n",
       "4         0.0                       0.0                         1.0   \n",
       "\n",
       "   icon_ rain   \n",
       "0          0.0  \n",
       "1          1.0  \n",
       "2          0.0  \n",
       "3          0.0  \n",
       "4          0.0  \n",
       "\n",
       "[5 rows x 61 columns]"
      ]
     },
     "execution_count": 20,
     "metadata": {},
     "output_type": "execute_result"
    }
   ],
   "source": [
    "data.head()"
   ]
  },
  {
   "cell_type": "markdown",
   "id": "0b28eb01",
   "metadata": {
    "papermill": {
     "duration": 0.078538,
     "end_time": "2021-07-20T06:50:42.934648",
     "exception": false,
     "start_time": "2021-07-20T06:50:42.856110",
     "status": "completed"
    },
    "tags": []
   },
   "source": [
    "Analyzing source column values with price"
   ]
  },
  {
   "cell_type": "code",
   "execution_count": 21,
   "id": "1e3787db",
   "metadata": {
    "execution": {
     "iopub.execute_input": "2021-07-20T06:50:43.099650Z",
     "iopub.status.busy": "2021-07-20T06:50:43.098986Z",
     "iopub.status.idle": "2021-07-20T06:50:43.374800Z",
     "shell.execute_reply": "2021-07-20T06:50:43.375391Z",
     "shell.execute_reply.started": "2021-07-20T06:47:51.683461Z"
    },
    "papermill": {
     "duration": 0.36108,
     "end_time": "2021-07-20T06:50:43.375591",
     "exception": false,
     "start_time": "2021-07-20T06:50:43.014511",
     "status": "completed"
    },
    "tags": []
   },
   "outputs": [
    {
     "data": {
      "text/html": [
       "<div>\n",
       "<style scoped>\n",
       "    .dataframe tbody tr th:only-of-type {\n",
       "        vertical-align: middle;\n",
       "    }\n",
       "\n",
       "    .dataframe tbody tr th {\n",
       "        vertical-align: top;\n",
       "    }\n",
       "\n",
       "    .dataframe thead th {\n",
       "        text-align: right;\n",
       "    }\n",
       "</style>\n",
       "<table border=\"1\" class=\"dataframe\">\n",
       "  <thead>\n",
       "    <tr style=\"text-align: right;\">\n",
       "      <th></th>\n",
       "      <th>price</th>\n",
       "      <th>source_Back Bay</th>\n",
       "      <th>source_Beacon Hill</th>\n",
       "      <th>source_Boston University</th>\n",
       "      <th>source_Fenway</th>\n",
       "      <th>source_Financial District</th>\n",
       "      <th>source_Haymarket Square</th>\n",
       "      <th>source_North End</th>\n",
       "      <th>source_North Station</th>\n",
       "      <th>source_Northeastern University</th>\n",
       "      <th>source_South Station</th>\n",
       "      <th>source_Theatre District</th>\n",
       "      <th>source_West End</th>\n",
       "      <th>destination_Back Bay</th>\n",
       "    </tr>\n",
       "  </thead>\n",
       "  <tbody>\n",
       "    <tr>\n",
       "      <th>0</th>\n",
       "      <td>5.0</td>\n",
       "      <td>0.0</td>\n",
       "      <td>0.0</td>\n",
       "      <td>0.0</td>\n",
       "      <td>0.0</td>\n",
       "      <td>0.0</td>\n",
       "      <td>1.0</td>\n",
       "      <td>0.0</td>\n",
       "      <td>0.0</td>\n",
       "      <td>0.0</td>\n",
       "      <td>0.0</td>\n",
       "      <td>0.0</td>\n",
       "      <td>0.0</td>\n",
       "      <td>0.0</td>\n",
       "    </tr>\n",
       "    <tr>\n",
       "      <th>1</th>\n",
       "      <td>11.0</td>\n",
       "      <td>0.0</td>\n",
       "      <td>0.0</td>\n",
       "      <td>0.0</td>\n",
       "      <td>0.0</td>\n",
       "      <td>0.0</td>\n",
       "      <td>1.0</td>\n",
       "      <td>0.0</td>\n",
       "      <td>0.0</td>\n",
       "      <td>0.0</td>\n",
       "      <td>0.0</td>\n",
       "      <td>0.0</td>\n",
       "      <td>0.0</td>\n",
       "      <td>0.0</td>\n",
       "    </tr>\n",
       "    <tr>\n",
       "      <th>2</th>\n",
       "      <td>7.0</td>\n",
       "      <td>0.0</td>\n",
       "      <td>0.0</td>\n",
       "      <td>0.0</td>\n",
       "      <td>0.0</td>\n",
       "      <td>0.0</td>\n",
       "      <td>1.0</td>\n",
       "      <td>0.0</td>\n",
       "      <td>0.0</td>\n",
       "      <td>0.0</td>\n",
       "      <td>0.0</td>\n",
       "      <td>0.0</td>\n",
       "      <td>0.0</td>\n",
       "      <td>0.0</td>\n",
       "    </tr>\n",
       "    <tr>\n",
       "      <th>3</th>\n",
       "      <td>26.0</td>\n",
       "      <td>0.0</td>\n",
       "      <td>0.0</td>\n",
       "      <td>0.0</td>\n",
       "      <td>0.0</td>\n",
       "      <td>0.0</td>\n",
       "      <td>1.0</td>\n",
       "      <td>0.0</td>\n",
       "      <td>0.0</td>\n",
       "      <td>0.0</td>\n",
       "      <td>0.0</td>\n",
       "      <td>0.0</td>\n",
       "      <td>0.0</td>\n",
       "      <td>0.0</td>\n",
       "    </tr>\n",
       "    <tr>\n",
       "      <th>4</th>\n",
       "      <td>9.0</td>\n",
       "      <td>0.0</td>\n",
       "      <td>0.0</td>\n",
       "      <td>0.0</td>\n",
       "      <td>0.0</td>\n",
       "      <td>0.0</td>\n",
       "      <td>1.0</td>\n",
       "      <td>0.0</td>\n",
       "      <td>0.0</td>\n",
       "      <td>0.0</td>\n",
       "      <td>0.0</td>\n",
       "      <td>0.0</td>\n",
       "      <td>0.0</td>\n",
       "      <td>0.0</td>\n",
       "    </tr>\n",
       "  </tbody>\n",
       "</table>\n",
       "</div>"
      ],
      "text/plain": [
       "   price  source_Back Bay  source_Beacon Hill  source_Boston University  \\\n",
       "0    5.0              0.0                 0.0                       0.0   \n",
       "1   11.0              0.0                 0.0                       0.0   \n",
       "2    7.0              0.0                 0.0                       0.0   \n",
       "3   26.0              0.0                 0.0                       0.0   \n",
       "4    9.0              0.0                 0.0                       0.0   \n",
       "\n",
       "   source_Fenway  source_Financial District  source_Haymarket Square  \\\n",
       "0            0.0                        0.0                      1.0   \n",
       "1            0.0                        0.0                      1.0   \n",
       "2            0.0                        0.0                      1.0   \n",
       "3            0.0                        0.0                      1.0   \n",
       "4            0.0                        0.0                      1.0   \n",
       "\n",
       "   source_North End  source_North Station  source_Northeastern University  \\\n",
       "0               0.0                   0.0                             0.0   \n",
       "1               0.0                   0.0                             0.0   \n",
       "2               0.0                   0.0                             0.0   \n",
       "3               0.0                   0.0                             0.0   \n",
       "4               0.0                   0.0                             0.0   \n",
       "\n",
       "   source_South Station  source_Theatre District  source_West End  \\\n",
       "0                   0.0                      0.0              0.0   \n",
       "1                   0.0                      0.0              0.0   \n",
       "2                   0.0                      0.0              0.0   \n",
       "3                   0.0                      0.0              0.0   \n",
       "4                   0.0                      0.0              0.0   \n",
       "\n",
       "   destination_Back Bay  \n",
       "0                   0.0  \n",
       "1                   0.0  \n",
       "2                   0.0  \n",
       "3                   0.0  \n",
       "4                   0.0  "
      ]
     },
     "execution_count": 21,
     "metadata": {},
     "output_type": "execute_result"
    }
   ],
   "source": [
    "src_col = ['price','source_Back Bay', 'source_Beacon Hill', 'source_Boston University',\n",
    "       'source_Fenway', 'source_Financial District', 'source_Haymarket Square',\n",
    "       'source_North End', 'source_North Station',\n",
    "       'source_Northeastern University', 'source_South Station',\n",
    "       'source_Theatre District', 'source_West End', 'destination_Back Bay']\n",
    "data_new = data[src_col]\n",
    "data_new.head()"
   ]
  },
  {
   "cell_type": "code",
   "execution_count": 22,
   "id": "10330166",
   "metadata": {
    "execution": {
     "iopub.execute_input": "2021-07-20T06:50:43.542064Z",
     "iopub.status.busy": "2021-07-20T06:50:43.541359Z",
     "iopub.status.idle": "2021-07-20T06:50:45.444318Z",
     "shell.execute_reply": "2021-07-20T06:50:45.443795Z",
     "shell.execute_reply.started": "2021-07-20T06:47:52.264201Z"
    },
    "papermill": {
     "duration": 1.988998,
     "end_time": "2021-07-20T06:50:45.444479",
     "exception": false,
     "start_time": "2021-07-20T06:50:43.455481",
     "status": "completed"
    },
    "tags": []
   },
   "outputs": [
    {
     "data": {
      "text/plain": [
       "<AxesSubplot:>"
      ]
     },
     "execution_count": 22,
     "metadata": {},
     "output_type": "execute_result"
    },
    {
     "data": {
      "image/png": "[encoded data removed]",
      "text/plain": [
       "<Figure size 864x864 with 2 Axes>"
      ]
     },
     "metadata": {
      "needs_background": "light"
     },
     "output_type": "display_data"
    }
   ],
   "source": [
    "#plotting heatmap with correlation on data_new dataframe\n",
    "plt.figure(figsize=(12,12))\n",
    "sb.heatmap(data_new.corr(),annot=True, mask=np.triu(data_new.corr()))"
   ]
  },
  {
   "cell_type": "markdown",
   "id": "d7abb3cb",
   "metadata": {
    "papermill": {
     "duration": 0.081796,
     "end_time": "2021-07-20T06:50:45.608882",
     "exception": false,
     "start_time": "2021-07-20T06:50:45.527086",
     "status": "completed"
    },
    "tags": []
   },
   "source": [
    "Even source does'nt have any significant impact on the price. Similarly checking the same for destination column"
   ]
  },
  {
   "cell_type": "code",
   "execution_count": 23,
   "id": "c32ce8e5",
   "metadata": {
    "execution": {
     "iopub.execute_input": "2021-07-20T06:50:45.825864Z",
     "iopub.status.busy": "2021-07-20T06:50:45.821421Z",
     "iopub.status.idle": "2021-07-20T06:50:45.831256Z",
     "shell.execute_reply": "2021-07-20T06:50:45.830567Z",
     "shell.execute_reply.started": "2021-07-20T06:47:54.222074Z"
    },
    "papermill": {
     "duration": 0.140395,
     "end_time": "2021-07-20T06:50:45.831404",
     "exception": false,
     "start_time": "2021-07-20T06:50:45.691009",
     "status": "completed"
    },
    "tags": []
   },
   "outputs": [
    {
     "data": {
      "text/html": [
       "<div>\n",
       "<style scoped>\n",
       "    .dataframe tbody tr th:only-of-type {\n",
       "        vertical-align: middle;\n",
       "    }\n",
       "\n",
       "    .dataframe tbody tr th {\n",
       "        vertical-align: top;\n",
       "    }\n",
       "\n",
       "    .dataframe thead th {\n",
       "        text-align: right;\n",
       "    }\n",
       "</style>\n",
       "<table border=\"1\" class=\"dataframe\">\n",
       "  <thead>\n",
       "    <tr style=\"text-align: right;\">\n",
       "      <th></th>\n",
       "      <th>price</th>\n",
       "      <th>source_Back Bay</th>\n",
       "      <th>source_Beacon Hill</th>\n",
       "      <th>source_Boston University</th>\n",
       "      <th>source_Fenway</th>\n",
       "      <th>source_Financial District</th>\n",
       "      <th>source_Haymarket Square</th>\n",
       "      <th>source_North End</th>\n",
       "      <th>source_North Station</th>\n",
       "      <th>source_Northeastern University</th>\n",
       "      <th>source_South Station</th>\n",
       "      <th>source_Theatre District</th>\n",
       "      <th>source_West End</th>\n",
       "      <th>destination_Back Bay</th>\n",
       "    </tr>\n",
       "  </thead>\n",
       "  <tbody>\n",
       "    <tr>\n",
       "      <th>0</th>\n",
       "      <td>5.0</td>\n",
       "      <td>0.0</td>\n",
       "      <td>0.0</td>\n",
       "      <td>0.0</td>\n",
       "      <td>0.0</td>\n",
       "      <td>0.0</td>\n",
       "      <td>1.0</td>\n",
       "      <td>0.0</td>\n",
       "      <td>0.0</td>\n",
       "      <td>0.0</td>\n",
       "      <td>0.0</td>\n",
       "      <td>0.0</td>\n",
       "      <td>0.0</td>\n",
       "      <td>0.0</td>\n",
       "    </tr>\n",
       "    <tr>\n",
       "      <th>1</th>\n",
       "      <td>11.0</td>\n",
       "      <td>0.0</td>\n",
       "      <td>0.0</td>\n",
       "      <td>0.0</td>\n",
       "      <td>0.0</td>\n",
       "      <td>0.0</td>\n",
       "      <td>1.0</td>\n",
       "      <td>0.0</td>\n",
       "      <td>0.0</td>\n",
       "      <td>0.0</td>\n",
       "      <td>0.0</td>\n",
       "      <td>0.0</td>\n",
       "      <td>0.0</td>\n",
       "      <td>0.0</td>\n",
       "    </tr>\n",
       "    <tr>\n",
       "      <th>2</th>\n",
       "      <td>7.0</td>\n",
       "      <td>0.0</td>\n",
       "      <td>0.0</td>\n",
       "      <td>0.0</td>\n",
       "      <td>0.0</td>\n",
       "      <td>0.0</td>\n",
       "      <td>1.0</td>\n",
       "      <td>0.0</td>\n",
       "      <td>0.0</td>\n",
       "      <td>0.0</td>\n",
       "      <td>0.0</td>\n",
       "      <td>0.0</td>\n",
       "      <td>0.0</td>\n",
       "      <td>0.0</td>\n",
       "    </tr>\n",
       "    <tr>\n",
       "      <th>3</th>\n",
       "      <td>26.0</td>\n",
       "      <td>0.0</td>\n",
       "      <td>0.0</td>\n",
       "      <td>0.0</td>\n",
       "      <td>0.0</td>\n",
       "      <td>0.0</td>\n",
       "      <td>1.0</td>\n",
       "      <td>0.0</td>\n",
       "      <td>0.0</td>\n",
       "      <td>0.0</td>\n",
       "      <td>0.0</td>\n",
       "      <td>0.0</td>\n",
       "      <td>0.0</td>\n",
       "      <td>0.0</td>\n",
       "    </tr>\n",
       "    <tr>\n",
       "      <th>4</th>\n",
       "      <td>9.0</td>\n",
       "      <td>0.0</td>\n",
       "      <td>0.0</td>\n",
       "      <td>0.0</td>\n",
       "      <td>0.0</td>\n",
       "      <td>0.0</td>\n",
       "      <td>1.0</td>\n",
       "      <td>0.0</td>\n",
       "      <td>0.0</td>\n",
       "      <td>0.0</td>\n",
       "      <td>0.0</td>\n",
       "      <td>0.0</td>\n",
       "      <td>0.0</td>\n",
       "      <td>0.0</td>\n",
       "    </tr>\n",
       "  </tbody>\n",
       "</table>\n",
       "</div>"
      ],
      "text/plain": [
       "   price  source_Back Bay  source_Beacon Hill  source_Boston University  \\\n",
       "0    5.0              0.0                 0.0                       0.0   \n",
       "1   11.0              0.0                 0.0                       0.0   \n",
       "2    7.0              0.0                 0.0                       0.0   \n",
       "3   26.0              0.0                 0.0                       0.0   \n",
       "4    9.0              0.0                 0.0                       0.0   \n",
       "\n",
       "   source_Fenway  source_Financial District  source_Haymarket Square  \\\n",
       "0            0.0                        0.0                      1.0   \n",
       "1            0.0                        0.0                      1.0   \n",
       "2            0.0                        0.0                      1.0   \n",
       "3            0.0                        0.0                      1.0   \n",
       "4            0.0                        0.0                      1.0   \n",
       "\n",
       "   source_North End  source_North Station  source_Northeastern University  \\\n",
       "0               0.0                   0.0                             0.0   \n",
       "1               0.0                   0.0                             0.0   \n",
       "2               0.0                   0.0                             0.0   \n",
       "3               0.0                   0.0                             0.0   \n",
       "4               0.0                   0.0                             0.0   \n",
       "\n",
       "   source_South Station  source_Theatre District  source_West End  \\\n",
       "0                   0.0                      0.0              0.0   \n",
       "1                   0.0                      0.0              0.0   \n",
       "2                   0.0                      0.0              0.0   \n",
       "3                   0.0                      0.0              0.0   \n",
       "4                   0.0                      0.0              0.0   \n",
       "\n",
       "   destination_Back Bay  \n",
       "0                   0.0  \n",
       "1                   0.0  \n",
       "2                   0.0  \n",
       "3                   0.0  \n",
       "4                   0.0  "
      ]
     },
     "execution_count": 23,
     "metadata": {},
     "output_type": "execute_result"
    }
   ],
   "source": [
    "dst_col = ['price','destination_Back Bay',\n",
    "       'destination_Beacon Hill', 'destination_Boston University',\n",
    "       'destination_Fenway', 'destination_Financial District',\n",
    "       'destination_Haymarket Square', 'destination_North End',\n",
    "       'destination_North Station', 'destination_Northeastern University',\n",
    "       'destination_South Station', 'destination_Theatre District',\n",
    "       'destination_West End']\n",
    "data_new = data[src_col]\n",
    "data_new.head()"
   ]
  },
  {
   "cell_type": "code",
   "execution_count": 24,
   "id": "e1679357",
   "metadata": {
    "execution": {
     "iopub.execute_input": "2021-07-20T06:50:46.002082Z",
     "iopub.status.busy": "2021-07-20T06:50:46.001128Z",
     "iopub.status.idle": "2021-07-20T06:50:47.919859Z",
     "shell.execute_reply": "2021-07-20T06:50:47.919219Z",
     "shell.execute_reply.started": "2021-07-20T06:47:54.283022Z"
    },
    "papermill": {
     "duration": 2.005424,
     "end_time": "2021-07-20T06:50:47.919998",
     "exception": false,
     "start_time": "2021-07-20T06:50:45.914574",
     "status": "completed"
    },
    "tags": []
   },
   "outputs": [
    {
     "data": {
      "text/plain": [
       "<AxesSubplot:>"
      ]
     },
     "execution_count": 24,
     "metadata": {},
     "output_type": "execute_result"
    },
    {
     "data": {
      "image/png": "[encoded data removed]",
      "text/plain": [
       "<Figure size 864x864 with 2 Axes>"
      ]
     },
     "metadata": {
      "needs_background": "light"
     },
     "output_type": "display_data"
    }
   ],
   "source": [
    "#plotting heatmap with correlation on data_new dataframe\n",
    "plt.figure(figsize=(12,12))\n",
    "sb.heatmap(data_new.corr(),annot=True, mask=np.triu(data_new.corr()))"
   ]
  },
  {
   "cell_type": "markdown",
   "id": "c2f4374e",
   "metadata": {
    "papermill": {
     "duration": 0.086955,
     "end_time": "2021-07-20T06:50:48.093552",
     "exception": false,
     "start_time": "2021-07-20T06:50:48.006597",
     "status": "completed"
    },
    "tags": []
   },
   "source": [
    "From the above heatmaps, correlation values of source and destination are very low(almost 0). So removing them and restructing the data frame"
   ]
  },
  {
   "cell_type": "code",
   "execution_count": 25,
   "id": "3ef67bc5",
   "metadata": {
    "execution": {
     "iopub.execute_input": "2021-07-20T06:50:48.365073Z",
     "iopub.status.busy": "2021-07-20T06:50:48.336349Z",
     "iopub.status.idle": "2021-07-20T06:50:48.371818Z",
     "shell.execute_reply": "2021-07-20T06:50:48.371152Z",
     "shell.execute_reply.started": "2021-07-20T06:47:56.235277Z"
    },
    "papermill": {
     "duration": 0.192506,
     "end_time": "2021-07-20T06:50:48.371974",
     "exception": false,
     "start_time": "2021-07-20T06:50:48.179468",
     "status": "completed"
    },
    "tags": []
   },
   "outputs": [
    {
     "name": "stdout",
     "output_type": "stream",
     "text": [
      "(693071, 37)\n"
     ]
    },
    {
     "data": {
      "text/html": [
       "<div>\n",
       "<style scoped>\n",
       "    .dataframe tbody tr th:only-of-type {\n",
       "        vertical-align: middle;\n",
       "    }\n",
       "\n",
       "    .dataframe tbody tr th {\n",
       "        vertical-align: top;\n",
       "    }\n",
       "\n",
       "    .dataframe thead th {\n",
       "        text-align: right;\n",
       "    }\n",
       "</style>\n",
       "<table border=\"1\" class=\"dataframe\">\n",
       "  <thead>\n",
       "    <tr style=\"text-align: right;\">\n",
       "      <th></th>\n",
       "      <th>hour</th>\n",
       "      <th>day</th>\n",
       "      <th>month</th>\n",
       "      <th>price</th>\n",
       "      <th>distance</th>\n",
       "      <th>surge_multiplier</th>\n",
       "      <th>cab_type_Lyft</th>\n",
       "      <th>cab_type_Uber</th>\n",
       "      <th>name_Black</th>\n",
       "      <th>name_Black SUV</th>\n",
       "      <th>...</th>\n",
       "      <th>short_summary_ Partly Cloudy</th>\n",
       "      <th>short_summary_ Possible Drizzle</th>\n",
       "      <th>short_summary_ Rain</th>\n",
       "      <th>icon_ clear-day</th>\n",
       "      <th>icon_ clear-night</th>\n",
       "      <th>icon_ cloudy</th>\n",
       "      <th>icon_ fog</th>\n",
       "      <th>icon_ partly-cloudy-day</th>\n",
       "      <th>icon_ partly-cloudy-night</th>\n",
       "      <th>icon_ rain</th>\n",
       "    </tr>\n",
       "  </thead>\n",
       "  <tbody>\n",
       "    <tr>\n",
       "      <th>0</th>\n",
       "      <td>9</td>\n",
       "      <td>16</td>\n",
       "      <td>12</td>\n",
       "      <td>5.0</td>\n",
       "      <td>0.44</td>\n",
       "      <td>1.0</td>\n",
       "      <td>1.0</td>\n",
       "      <td>0.0</td>\n",
       "      <td>0.0</td>\n",
       "      <td>0.0</td>\n",
       "      <td>...</td>\n",
       "      <td>0.0</td>\n",
       "      <td>0.0</td>\n",
       "      <td>0.0</td>\n",
       "      <td>0.0</td>\n",
       "      <td>0.0</td>\n",
       "      <td>0.0</td>\n",
       "      <td>0.0</td>\n",
       "      <td>0.0</td>\n",
       "      <td>1.0</td>\n",
       "      <td>0.0</td>\n",
       "    </tr>\n",
       "    <tr>\n",
       "      <th>1</th>\n",
       "      <td>2</td>\n",
       "      <td>27</td>\n",
       "      <td>11</td>\n",
       "      <td>11.0</td>\n",
       "      <td>0.44</td>\n",
       "      <td>1.0</td>\n",
       "      <td>1.0</td>\n",
       "      <td>0.0</td>\n",
       "      <td>0.0</td>\n",
       "      <td>0.0</td>\n",
       "      <td>...</td>\n",
       "      <td>0.0</td>\n",
       "      <td>0.0</td>\n",
       "      <td>1.0</td>\n",
       "      <td>0.0</td>\n",
       "      <td>0.0</td>\n",
       "      <td>0.0</td>\n",
       "      <td>0.0</td>\n",
       "      <td>0.0</td>\n",
       "      <td>0.0</td>\n",
       "      <td>1.0</td>\n",
       "    </tr>\n",
       "    <tr>\n",
       "      <th>2</th>\n",
       "      <td>1</td>\n",
       "      <td>28</td>\n",
       "      <td>11</td>\n",
       "      <td>7.0</td>\n",
       "      <td>0.44</td>\n",
       "      <td>1.0</td>\n",
       "      <td>1.0</td>\n",
       "      <td>0.0</td>\n",
       "      <td>0.0</td>\n",
       "      <td>0.0</td>\n",
       "      <td>...</td>\n",
       "      <td>0.0</td>\n",
       "      <td>0.0</td>\n",
       "      <td>0.0</td>\n",
       "      <td>0.0</td>\n",
       "      <td>1.0</td>\n",
       "      <td>0.0</td>\n",
       "      <td>0.0</td>\n",
       "      <td>0.0</td>\n",
       "      <td>0.0</td>\n",
       "      <td>0.0</td>\n",
       "    </tr>\n",
       "    <tr>\n",
       "      <th>3</th>\n",
       "      <td>4</td>\n",
       "      <td>30</td>\n",
       "      <td>11</td>\n",
       "      <td>26.0</td>\n",
       "      <td>0.44</td>\n",
       "      <td>1.0</td>\n",
       "      <td>1.0</td>\n",
       "      <td>0.0</td>\n",
       "      <td>0.0</td>\n",
       "      <td>0.0</td>\n",
       "      <td>...</td>\n",
       "      <td>0.0</td>\n",
       "      <td>0.0</td>\n",
       "      <td>0.0</td>\n",
       "      <td>0.0</td>\n",
       "      <td>1.0</td>\n",
       "      <td>0.0</td>\n",
       "      <td>0.0</td>\n",
       "      <td>0.0</td>\n",
       "      <td>0.0</td>\n",
       "      <td>0.0</td>\n",
       "    </tr>\n",
       "    <tr>\n",
       "      <th>4</th>\n",
       "      <td>3</td>\n",
       "      <td>29</td>\n",
       "      <td>11</td>\n",
       "      <td>9.0</td>\n",
       "      <td>0.44</td>\n",
       "      <td>1.0</td>\n",
       "      <td>1.0</td>\n",
       "      <td>0.0</td>\n",
       "      <td>0.0</td>\n",
       "      <td>0.0</td>\n",
       "      <td>...</td>\n",
       "      <td>1.0</td>\n",
       "      <td>0.0</td>\n",
       "      <td>0.0</td>\n",
       "      <td>0.0</td>\n",
       "      <td>0.0</td>\n",
       "      <td>0.0</td>\n",
       "      <td>0.0</td>\n",
       "      <td>0.0</td>\n",
       "      <td>1.0</td>\n",
       "      <td>0.0</td>\n",
       "    </tr>\n",
       "  </tbody>\n",
       "</table>\n",
       "<p>5 rows × 37 columns</p>\n",
       "</div>"
      ],
      "text/plain": [
       "   hour  day  month  price  distance  surge_multiplier  cab_type_Lyft  \\\n",
       "0     9   16     12    5.0      0.44               1.0            1.0   \n",
       "1     2   27     11   11.0      0.44               1.0            1.0   \n",
       "2     1   28     11    7.0      0.44               1.0            1.0   \n",
       "3     4   30     11   26.0      0.44               1.0            1.0   \n",
       "4     3   29     11    9.0      0.44               1.0            1.0   \n",
       "\n",
       "   cab_type_Uber  name_Black  name_Black SUV  ...  \\\n",
       "0            0.0         0.0             0.0  ...   \n",
       "1            0.0         0.0             0.0  ...   \n",
       "2            0.0         0.0             0.0  ...   \n",
       "3            0.0         0.0             0.0  ...   \n",
       "4            0.0         0.0             0.0  ...   \n",
       "\n",
       "   short_summary_ Partly Cloudy   short_summary_ Possible Drizzle   \\\n",
       "0                            0.0                               0.0   \n",
       "1                            0.0                               0.0   \n",
       "2                            0.0                               0.0   \n",
       "3                            0.0                               0.0   \n",
       "4                            1.0                               0.0   \n",
       "\n",
       "   short_summary_ Rain   icon_ clear-day   icon_ clear-night   icon_ cloudy   \\\n",
       "0                   0.0               0.0                 0.0            0.0   \n",
       "1                   1.0               0.0                 0.0            0.0   \n",
       "2                   0.0               0.0                 1.0            0.0   \n",
       "3                   0.0               0.0                 1.0            0.0   \n",
       "4                   0.0               0.0                 0.0            0.0   \n",
       "\n",
       "   icon_ fog   icon_ partly-cloudy-day   icon_ partly-cloudy-night   \\\n",
       "0         0.0                       0.0                         1.0   \n",
       "1         0.0                       0.0                         0.0   \n",
       "2         0.0                       0.0                         0.0   \n",
       "3         0.0                       0.0                         0.0   \n",
       "4         0.0                       0.0                         1.0   \n",
       "\n",
       "   icon_ rain   \n",
       "0          0.0  \n",
       "1          1.0  \n",
       "2          0.0  \n",
       "3          0.0  \n",
       "4          0.0  \n",
       "\n",
       "[5 rows x 37 columns]"
      ]
     },
     "execution_count": 25,
     "metadata": {},
     "output_type": "execute_result"
    }
   ],
   "source": [
    "cols = ['source_Back Bay', 'source_Beacon Hill', 'source_Boston University',\n",
    "       'source_Fenway', 'source_Financial District', 'source_Haymarket Square',\n",
    "       'source_North End', 'source_North Station',\n",
    "       'source_Northeastern University', 'source_South Station',\n",
    "       'source_Theatre District', 'source_West End', 'destination_Back Bay','destination_Back Bay',\n",
    "       'destination_Beacon Hill', 'destination_Boston University',\n",
    "       'destination_Fenway', 'destination_Financial District',\n",
    "       'destination_Haymarket Square', 'destination_North End',\n",
    "       'destination_North Station', 'destination_Northeastern University',\n",
    "       'destination_South Station', 'destination_Theatre District',\n",
    "       'destination_West End']\n",
    "data = data.drop(cols,axis=1)\n",
    "print(data.shape)\n",
    "data.head()\n"
   ]
  },
  {
   "cell_type": "code",
   "execution_count": 26,
   "id": "5f6f0568",
   "metadata": {
    "execution": {
     "iopub.execute_input": "2021-07-20T06:50:48.553153Z",
     "iopub.status.busy": "2021-07-20T06:50:48.552407Z",
     "iopub.status.idle": "2021-07-20T06:50:48.556596Z",
     "shell.execute_reply": "2021-07-20T06:50:48.555953Z",
     "shell.execute_reply.started": "2021-07-20T06:47:56.376958Z"
    },
    "papermill": {
     "duration": 0.096973,
     "end_time": "2021-07-20T06:50:48.556738",
     "exception": false,
     "start_time": "2021-07-20T06:50:48.459765",
     "status": "completed"
    },
    "tags": []
   },
   "outputs": [
    {
     "data": {
      "text/plain": [
       "Index(['hour', 'day', 'month', 'price', 'distance', 'surge_multiplier',\n",
       "       'cab_type_Lyft', 'cab_type_Uber', 'name_Black', 'name_Black SUV',\n",
       "       'name_Lux', 'name_Lux Black', 'name_Lux Black XL', 'name_Lyft',\n",
       "       'name_Lyft XL', 'name_Shared', 'name_Taxi', 'name_UberPool',\n",
       "       'name_UberX', 'name_UberXL', 'name_WAV', 'short_summary_ Clear ',\n",
       "       'short_summary_ Drizzle ', 'short_summary_ Foggy ',\n",
       "       'short_summary_ Light Rain ', 'short_summary_ Mostly Cloudy ',\n",
       "       'short_summary_ Overcast ', 'short_summary_ Partly Cloudy ',\n",
       "       'short_summary_ Possible Drizzle ', 'short_summary_ Rain ',\n",
       "       'icon_ clear-day ', 'icon_ clear-night ', 'icon_ cloudy ', 'icon_ fog ',\n",
       "       'icon_ partly-cloudy-day ', 'icon_ partly-cloudy-night ',\n",
       "       'icon_ rain '],\n",
       "      dtype='object')"
      ]
     },
     "execution_count": 26,
     "metadata": {},
     "output_type": "execute_result"
    }
   ],
   "source": [
    "data.columns"
   ]
  },
  {
   "cell_type": "markdown",
   "id": "74afd7ba",
   "metadata": {
    "papermill": {
     "duration": 0.086651,
     "end_time": "2021-07-20T06:50:48.730020",
     "exception": false,
     "start_time": "2021-07-20T06:50:48.643369",
     "status": "completed"
    },
    "tags": []
   },
   "source": [
    "Checking correlation of summary column with price"
   ]
  },
  {
   "cell_type": "code",
   "execution_count": 27,
   "id": "0a82510b",
   "metadata": {
    "execution": {
     "iopub.execute_input": "2021-07-20T06:50:48.947181Z",
     "iopub.status.busy": "2021-07-20T06:50:48.946238Z",
     "iopub.status.idle": "2021-07-20T06:50:48.951058Z",
     "shell.execute_reply": "2021-07-20T06:50:48.950483Z",
     "shell.execute_reply.started": "2021-07-20T06:47:56.386514Z"
    },
    "papermill": {
     "duration": 0.133792,
     "end_time": "2021-07-20T06:50:48.951193",
     "exception": false,
     "start_time": "2021-07-20T06:50:48.817401",
     "status": "completed"
    },
    "tags": []
   },
   "outputs": [
    {
     "data": {
      "text/html": [
       "<div>\n",
       "<style scoped>\n",
       "    .dataframe tbody tr th:only-of-type {\n",
       "        vertical-align: middle;\n",
       "    }\n",
       "\n",
       "    .dataframe tbody tr th {\n",
       "        vertical-align: top;\n",
       "    }\n",
       "\n",
       "    .dataframe thead th {\n",
       "        text-align: right;\n",
       "    }\n",
       "</style>\n",
       "<table border=\"1\" class=\"dataframe\">\n",
       "  <thead>\n",
       "    <tr style=\"text-align: right;\">\n",
       "      <th></th>\n",
       "      <th>price</th>\n",
       "      <th>short_summary_ Drizzle</th>\n",
       "      <th>short_summary_ Foggy</th>\n",
       "      <th>short_summary_ Light Rain</th>\n",
       "      <th>short_summary_ Mostly Cloudy</th>\n",
       "      <th>short_summary_ Overcast</th>\n",
       "      <th>short_summary_ Partly Cloudy</th>\n",
       "      <th>short_summary_ Possible Drizzle</th>\n",
       "      <th>short_summary_ Rain</th>\n",
       "      <th>short_summary_ Clear</th>\n",
       "    </tr>\n",
       "  </thead>\n",
       "  <tbody>\n",
       "    <tr>\n",
       "      <th>0</th>\n",
       "      <td>5.0</td>\n",
       "      <td>0.0</td>\n",
       "      <td>0.0</td>\n",
       "      <td>0.0</td>\n",
       "      <td>1.0</td>\n",
       "      <td>0.0</td>\n",
       "      <td>0.0</td>\n",
       "      <td>0.0</td>\n",
       "      <td>0.0</td>\n",
       "      <td>0.0</td>\n",
       "    </tr>\n",
       "    <tr>\n",
       "      <th>1</th>\n",
       "      <td>11.0</td>\n",
       "      <td>0.0</td>\n",
       "      <td>0.0</td>\n",
       "      <td>0.0</td>\n",
       "      <td>0.0</td>\n",
       "      <td>0.0</td>\n",
       "      <td>0.0</td>\n",
       "      <td>0.0</td>\n",
       "      <td>1.0</td>\n",
       "      <td>0.0</td>\n",
       "    </tr>\n",
       "    <tr>\n",
       "      <th>2</th>\n",
       "      <td>7.0</td>\n",
       "      <td>0.0</td>\n",
       "      <td>0.0</td>\n",
       "      <td>0.0</td>\n",
       "      <td>0.0</td>\n",
       "      <td>0.0</td>\n",
       "      <td>0.0</td>\n",
       "      <td>0.0</td>\n",
       "      <td>0.0</td>\n",
       "      <td>1.0</td>\n",
       "    </tr>\n",
       "    <tr>\n",
       "      <th>3</th>\n",
       "      <td>26.0</td>\n",
       "      <td>0.0</td>\n",
       "      <td>0.0</td>\n",
       "      <td>0.0</td>\n",
       "      <td>0.0</td>\n",
       "      <td>0.0</td>\n",
       "      <td>0.0</td>\n",
       "      <td>0.0</td>\n",
       "      <td>0.0</td>\n",
       "      <td>1.0</td>\n",
       "    </tr>\n",
       "    <tr>\n",
       "      <th>4</th>\n",
       "      <td>9.0</td>\n",
       "      <td>0.0</td>\n",
       "      <td>0.0</td>\n",
       "      <td>0.0</td>\n",
       "      <td>0.0</td>\n",
       "      <td>0.0</td>\n",
       "      <td>1.0</td>\n",
       "      <td>0.0</td>\n",
       "      <td>0.0</td>\n",
       "      <td>0.0</td>\n",
       "    </tr>\n",
       "  </tbody>\n",
       "</table>\n",
       "</div>"
      ],
      "text/plain": [
       "   price  short_summary_ Drizzle   short_summary_ Foggy   \\\n",
       "0    5.0                      0.0                    0.0   \n",
       "1   11.0                      0.0                    0.0   \n",
       "2    7.0                      0.0                    0.0   \n",
       "3   26.0                      0.0                    0.0   \n",
       "4    9.0                      0.0                    0.0   \n",
       "\n",
       "   short_summary_ Light Rain   short_summary_ Mostly Cloudy   \\\n",
       "0                         0.0                            1.0   \n",
       "1                         0.0                            0.0   \n",
       "2                         0.0                            0.0   \n",
       "3                         0.0                            0.0   \n",
       "4                         0.0                            0.0   \n",
       "\n",
       "   short_summary_ Overcast   short_summary_ Partly Cloudy   \\\n",
       "0                       0.0                            0.0   \n",
       "1                       0.0                            0.0   \n",
       "2                       0.0                            0.0   \n",
       "3                       0.0                            0.0   \n",
       "4                       0.0                            1.0   \n",
       "\n",
       "   short_summary_ Possible Drizzle   short_summary_ Rain   \\\n",
       "0                               0.0                   0.0   \n",
       "1                               0.0                   1.0   \n",
       "2                               0.0                   0.0   \n",
       "3                               0.0                   0.0   \n",
       "4                               0.0                   0.0   \n",
       "\n",
       "   short_summary_ Clear   \n",
       "0                    0.0  \n",
       "1                    0.0  \n",
       "2                    1.0  \n",
       "3                    1.0  \n",
       "4                    0.0  "
      ]
     },
     "execution_count": 27,
     "metadata": {},
     "output_type": "execute_result"
    }
   ],
   "source": [
    "summ_cols = ['price','short_summary_ Drizzle ', 'short_summary_ Foggy ',\n",
    "       'short_summary_ Light Rain ', 'short_summary_ Mostly Cloudy ',\n",
    "       'short_summary_ Overcast ', 'short_summary_ Partly Cloudy ',\n",
    "       'short_summary_ Possible Drizzle ', 'short_summary_ Rain ','short_summary_ Clear ']\n",
    "data_new = data[summ_cols]\n",
    "data_new.head()"
   ]
  },
  {
   "cell_type": "code",
   "execution_count": 28,
   "id": "4e9e3e80",
   "metadata": {
    "execution": {
     "iopub.execute_input": "2021-07-20T06:50:49.133366Z",
     "iopub.status.busy": "2021-07-20T06:50:49.132733Z",
     "iopub.status.idle": "2021-07-20T06:50:50.347312Z",
     "shell.execute_reply": "2021-07-20T06:50:50.346751Z",
     "shell.execute_reply.started": "2021-07-20T06:47:56.434216Z"
    },
    "papermill": {
     "duration": 1.30817,
     "end_time": "2021-07-20T06:50:50.347483",
     "exception": false,
     "start_time": "2021-07-20T06:50:49.039313",
     "status": "completed"
    },
    "tags": []
   },
   "outputs": [
    {
     "data": {
      "text/plain": [
       "<AxesSubplot:>"
      ]
     },
     "execution_count": 28,
     "metadata": {},
     "output_type": "execute_result"
    },
    {
     "data": {
      "image/png": "[encoded data removed]",
      "text/plain": [
       "<Figure size 864x864 with 2 Axes>"
      ]
     },
     "metadata": {
      "needs_background": "light"
     },
     "output_type": "display_data"
    }
   ],
   "source": [
    "#plotting heatmap with correlation on data_new dataframe\n",
    "plt.figure(figsize=(12,12))\n",
    "sb.heatmap(data_new.corr(),annot=True, mask=np.triu(data_new.corr()))"
   ]
  },
  {
   "cell_type": "markdown",
   "id": "bf912945",
   "metadata": {
    "papermill": {
     "duration": 0.096532,
     "end_time": "2021-07-20T06:50:50.554116",
     "exception": false,
     "start_time": "2021-07-20T06:50:50.457584",
     "status": "completed"
    },
    "tags": []
   },
   "source": [
    "Summary has no impact onn Price, so removing them from data frame"
   ]
  },
  {
   "cell_type": "code",
   "execution_count": 29,
   "id": "e15bdf1f",
   "metadata": {
    "execution": {
     "iopub.execute_input": "2021-07-20T06:50:50.840779Z",
     "iopub.status.busy": "2021-07-20T06:50:50.821058Z",
     "iopub.status.idle": "2021-07-20T06:50:50.849993Z",
     "shell.execute_reply": "2021-07-20T06:50:50.850765Z",
     "shell.execute_reply.started": "2021-07-20T06:47:57.751982Z"
    },
    "papermill": {
     "duration": 0.197768,
     "end_time": "2021-07-20T06:50:50.850994",
     "exception": false,
     "start_time": "2021-07-20T06:50:50.653226",
     "status": "completed"
    },
    "tags": []
   },
   "outputs": [
    {
     "name": "stdout",
     "output_type": "stream",
     "text": [
      "(693071, 28)\n"
     ]
    },
    {
     "data": {
      "text/html": [
       "<div>\n",
       "<style scoped>\n",
       "    .dataframe tbody tr th:only-of-type {\n",
       "        vertical-align: middle;\n",
       "    }\n",
       "\n",
       "    .dataframe tbody tr th {\n",
       "        vertical-align: top;\n",
       "    }\n",
       "\n",
       "    .dataframe thead th {\n",
       "        text-align: right;\n",
       "    }\n",
       "</style>\n",
       "<table border=\"1\" class=\"dataframe\">\n",
       "  <thead>\n",
       "    <tr style=\"text-align: right;\">\n",
       "      <th></th>\n",
       "      <th>hour</th>\n",
       "      <th>day</th>\n",
       "      <th>month</th>\n",
       "      <th>price</th>\n",
       "      <th>distance</th>\n",
       "      <th>surge_multiplier</th>\n",
       "      <th>cab_type_Lyft</th>\n",
       "      <th>cab_type_Uber</th>\n",
       "      <th>name_Black</th>\n",
       "      <th>name_Black SUV</th>\n",
       "      <th>...</th>\n",
       "      <th>name_UberX</th>\n",
       "      <th>name_UberXL</th>\n",
       "      <th>name_WAV</th>\n",
       "      <th>icon_ clear-day</th>\n",
       "      <th>icon_ clear-night</th>\n",
       "      <th>icon_ cloudy</th>\n",
       "      <th>icon_ fog</th>\n",
       "      <th>icon_ partly-cloudy-day</th>\n",
       "      <th>icon_ partly-cloudy-night</th>\n",
       "      <th>icon_ rain</th>\n",
       "    </tr>\n",
       "  </thead>\n",
       "  <tbody>\n",
       "    <tr>\n",
       "      <th>0</th>\n",
       "      <td>9</td>\n",
       "      <td>16</td>\n",
       "      <td>12</td>\n",
       "      <td>5.0</td>\n",
       "      <td>0.44</td>\n",
       "      <td>1.0</td>\n",
       "      <td>1.0</td>\n",
       "      <td>0.0</td>\n",
       "      <td>0.0</td>\n",
       "      <td>0.0</td>\n",
       "      <td>...</td>\n",
       "      <td>0.0</td>\n",
       "      <td>0.0</td>\n",
       "      <td>0.0</td>\n",
       "      <td>0.0</td>\n",
       "      <td>0.0</td>\n",
       "      <td>0.0</td>\n",
       "      <td>0.0</td>\n",
       "      <td>0.0</td>\n",
       "      <td>1.0</td>\n",
       "      <td>0.0</td>\n",
       "    </tr>\n",
       "    <tr>\n",
       "      <th>1</th>\n",
       "      <td>2</td>\n",
       "      <td>27</td>\n",
       "      <td>11</td>\n",
       "      <td>11.0</td>\n",
       "      <td>0.44</td>\n",
       "      <td>1.0</td>\n",
       "      <td>1.0</td>\n",
       "      <td>0.0</td>\n",
       "      <td>0.0</td>\n",
       "      <td>0.0</td>\n",
       "      <td>...</td>\n",
       "      <td>0.0</td>\n",
       "      <td>0.0</td>\n",
       "      <td>0.0</td>\n",
       "      <td>0.0</td>\n",
       "      <td>0.0</td>\n",
       "      <td>0.0</td>\n",
       "      <td>0.0</td>\n",
       "      <td>0.0</td>\n",
       "      <td>0.0</td>\n",
       "      <td>1.0</td>\n",
       "    </tr>\n",
       "    <tr>\n",
       "      <th>2</th>\n",
       "      <td>1</td>\n",
       "      <td>28</td>\n",
       "      <td>11</td>\n",
       "      <td>7.0</td>\n",
       "      <td>0.44</td>\n",
       "      <td>1.0</td>\n",
       "      <td>1.0</td>\n",
       "      <td>0.0</td>\n",
       "      <td>0.0</td>\n",
       "      <td>0.0</td>\n",
       "      <td>...</td>\n",
       "      <td>0.0</td>\n",
       "      <td>0.0</td>\n",
       "      <td>0.0</td>\n",
       "      <td>0.0</td>\n",
       "      <td>1.0</td>\n",
       "      <td>0.0</td>\n",
       "      <td>0.0</td>\n",
       "      <td>0.0</td>\n",
       "      <td>0.0</td>\n",
       "      <td>0.0</td>\n",
       "    </tr>\n",
       "    <tr>\n",
       "      <th>3</th>\n",
       "      <td>4</td>\n",
       "      <td>30</td>\n",
       "      <td>11</td>\n",
       "      <td>26.0</td>\n",
       "      <td>0.44</td>\n",
       "      <td>1.0</td>\n",
       "      <td>1.0</td>\n",
       "      <td>0.0</td>\n",
       "      <td>0.0</td>\n",
       "      <td>0.0</td>\n",
       "      <td>...</td>\n",
       "      <td>0.0</td>\n",
       "      <td>0.0</td>\n",
       "      <td>0.0</td>\n",
       "      <td>0.0</td>\n",
       "      <td>1.0</td>\n",
       "      <td>0.0</td>\n",
       "      <td>0.0</td>\n",
       "      <td>0.0</td>\n",
       "      <td>0.0</td>\n",
       "      <td>0.0</td>\n",
       "    </tr>\n",
       "    <tr>\n",
       "      <th>4</th>\n",
       "      <td>3</td>\n",
       "      <td>29</td>\n",
       "      <td>11</td>\n",
       "      <td>9.0</td>\n",
       "      <td>0.44</td>\n",
       "      <td>1.0</td>\n",
       "      <td>1.0</td>\n",
       "      <td>0.0</td>\n",
       "      <td>0.0</td>\n",
       "      <td>0.0</td>\n",
       "      <td>...</td>\n",
       "      <td>0.0</td>\n",
       "      <td>0.0</td>\n",
       "      <td>0.0</td>\n",
       "      <td>0.0</td>\n",
       "      <td>0.0</td>\n",
       "      <td>0.0</td>\n",
       "      <td>0.0</td>\n",
       "      <td>0.0</td>\n",
       "      <td>1.0</td>\n",
       "      <td>0.0</td>\n",
       "    </tr>\n",
       "  </tbody>\n",
       "</table>\n",
       "<p>5 rows × 28 columns</p>\n",
       "</div>"
      ],
      "text/plain": [
       "   hour  day  month  price  distance  surge_multiplier  cab_type_Lyft  \\\n",
       "0     9   16     12    5.0      0.44               1.0            1.0   \n",
       "1     2   27     11   11.0      0.44               1.0            1.0   \n",
       "2     1   28     11    7.0      0.44               1.0            1.0   \n",
       "3     4   30     11   26.0      0.44               1.0            1.0   \n",
       "4     3   29     11    9.0      0.44               1.0            1.0   \n",
       "\n",
       "   cab_type_Uber  name_Black  name_Black SUV  ...  name_UberX  name_UberXL  \\\n",
       "0            0.0         0.0             0.0  ...         0.0          0.0   \n",
       "1            0.0         0.0             0.0  ...         0.0          0.0   \n",
       "2            0.0         0.0             0.0  ...         0.0          0.0   \n",
       "3            0.0         0.0             0.0  ...         0.0          0.0   \n",
       "4            0.0         0.0             0.0  ...         0.0          0.0   \n",
       "\n",
       "   name_WAV  icon_ clear-day   icon_ clear-night   icon_ cloudy   icon_ fog   \\\n",
       "0       0.0               0.0                 0.0            0.0         0.0   \n",
       "1       0.0               0.0                 0.0            0.0         0.0   \n",
       "2       0.0               0.0                 1.0            0.0         0.0   \n",
       "3       0.0               0.0                 1.0            0.0         0.0   \n",
       "4       0.0               0.0                 0.0            0.0         0.0   \n",
       "\n",
       "   icon_ partly-cloudy-day   icon_ partly-cloudy-night   icon_ rain   \n",
       "0                       0.0                         1.0          0.0  \n",
       "1                       0.0                         0.0          1.0  \n",
       "2                       0.0                         0.0          0.0  \n",
       "3                       0.0                         0.0          0.0  \n",
       "4                       0.0                         1.0          0.0  \n",
       "\n",
       "[5 rows x 28 columns]"
      ]
     },
     "execution_count": 29,
     "metadata": {},
     "output_type": "execute_result"
    }
   ],
   "source": [
    "summ_cols = ['short_summary_ Drizzle ', 'short_summary_ Foggy ',\n",
    "       'short_summary_ Light Rain ', 'short_summary_ Mostly Cloudy ',\n",
    "       'short_summary_ Overcast ', 'short_summary_ Partly Cloudy ',\n",
    "       'short_summary_ Possible Drizzle ', 'short_summary_ Rain ','short_summary_ Clear ']\n",
    "data = data.drop(summ_cols,axis=1)\n",
    "print(data.shape)\n",
    "data.head()"
   ]
  },
  {
   "cell_type": "markdown",
   "id": "58efd8c1",
   "metadata": {
    "papermill": {
     "duration": 0.096926,
     "end_time": "2021-07-20T06:50:51.048124",
     "exception": false,
     "start_time": "2021-07-20T06:50:50.951198",
     "status": "completed"
    },
    "tags": []
   },
   "source": [
    "Analyzing ICON Columns"
   ]
  },
  {
   "cell_type": "code",
   "execution_count": 30,
   "id": "ce5a7efd",
   "metadata": {
    "execution": {
     "iopub.execute_input": "2021-07-20T06:50:51.271602Z",
     "iopub.status.busy": "2021-07-20T06:50:51.270209Z",
     "iopub.status.idle": "2021-07-20T06:50:51.285520Z",
     "shell.execute_reply": "2021-07-20T06:50:51.285992Z",
     "shell.execute_reply.started": "2021-07-20T06:47:57.838929Z"
    },
    "papermill": {
     "duration": 0.1425,
     "end_time": "2021-07-20T06:50:51.286169",
     "exception": false,
     "start_time": "2021-07-20T06:50:51.143669",
     "status": "completed"
    },
    "tags": []
   },
   "outputs": [
    {
     "data": {
      "text/html": [
       "<div>\n",
       "<style scoped>\n",
       "    .dataframe tbody tr th:only-of-type {\n",
       "        vertical-align: middle;\n",
       "    }\n",
       "\n",
       "    .dataframe tbody tr th {\n",
       "        vertical-align: top;\n",
       "    }\n",
       "\n",
       "    .dataframe thead th {\n",
       "        text-align: right;\n",
       "    }\n",
       "</style>\n",
       "<table border=\"1\" class=\"dataframe\">\n",
       "  <thead>\n",
       "    <tr style=\"text-align: right;\">\n",
       "      <th></th>\n",
       "      <th>price</th>\n",
       "      <th>icon_ clear-day</th>\n",
       "      <th>icon_ clear-night</th>\n",
       "      <th>icon_ cloudy</th>\n",
       "      <th>icon_ fog</th>\n",
       "      <th>icon_ partly-cloudy-day</th>\n",
       "      <th>icon_ partly-cloudy-night</th>\n",
       "      <th>icon_ rain</th>\n",
       "    </tr>\n",
       "  </thead>\n",
       "  <tbody>\n",
       "    <tr>\n",
       "      <th>0</th>\n",
       "      <td>5.0</td>\n",
       "      <td>0.0</td>\n",
       "      <td>0.0</td>\n",
       "      <td>0.0</td>\n",
       "      <td>0.0</td>\n",
       "      <td>0.0</td>\n",
       "      <td>1.0</td>\n",
       "      <td>0.0</td>\n",
       "    </tr>\n",
       "    <tr>\n",
       "      <th>1</th>\n",
       "      <td>11.0</td>\n",
       "      <td>0.0</td>\n",
       "      <td>0.0</td>\n",
       "      <td>0.0</td>\n",
       "      <td>0.0</td>\n",
       "      <td>0.0</td>\n",
       "      <td>0.0</td>\n",
       "      <td>1.0</td>\n",
       "    </tr>\n",
       "    <tr>\n",
       "      <th>2</th>\n",
       "      <td>7.0</td>\n",
       "      <td>0.0</td>\n",
       "      <td>1.0</td>\n",
       "      <td>0.0</td>\n",
       "      <td>0.0</td>\n",
       "      <td>0.0</td>\n",
       "      <td>0.0</td>\n",
       "      <td>0.0</td>\n",
       "    </tr>\n",
       "    <tr>\n",
       "      <th>3</th>\n",
       "      <td>26.0</td>\n",
       "      <td>0.0</td>\n",
       "      <td>1.0</td>\n",
       "      <td>0.0</td>\n",
       "      <td>0.0</td>\n",
       "      <td>0.0</td>\n",
       "      <td>0.0</td>\n",
       "      <td>0.0</td>\n",
       "    </tr>\n",
       "    <tr>\n",
       "      <th>4</th>\n",
       "      <td>9.0</td>\n",
       "      <td>0.0</td>\n",
       "      <td>0.0</td>\n",
       "      <td>0.0</td>\n",
       "      <td>0.0</td>\n",
       "      <td>0.0</td>\n",
       "      <td>1.0</td>\n",
       "      <td>0.0</td>\n",
       "    </tr>\n",
       "  </tbody>\n",
       "</table>\n",
       "</div>"
      ],
      "text/plain": [
       "   price  icon_ clear-day   icon_ clear-night   icon_ cloudy   icon_ fog   \\\n",
       "0    5.0               0.0                 0.0            0.0         0.0   \n",
       "1   11.0               0.0                 0.0            0.0         0.0   \n",
       "2    7.0               0.0                 1.0            0.0         0.0   \n",
       "3   26.0               0.0                 1.0            0.0         0.0   \n",
       "4    9.0               0.0                 0.0            0.0         0.0   \n",
       "\n",
       "   icon_ partly-cloudy-day   icon_ partly-cloudy-night   icon_ rain   \n",
       "0                       0.0                         1.0          0.0  \n",
       "1                       0.0                         0.0          1.0  \n",
       "2                       0.0                         0.0          0.0  \n",
       "3                       0.0                         0.0          0.0  \n",
       "4                       0.0                         1.0          0.0  "
      ]
     },
     "execution_count": 30,
     "metadata": {},
     "output_type": "execute_result"
    }
   ],
   "source": [
    "ico_cols = ['price','icon_ clear-day ', 'icon_ clear-night ', 'icon_ cloudy ', 'icon_ fog ',\n",
    "       'icon_ partly-cloudy-day ', 'icon_ partly-cloudy-night ',\n",
    "       'icon_ rain ']\n",
    "data_new = data[ico_cols]\n",
    "data_new.head()"
   ]
  },
  {
   "cell_type": "code",
   "execution_count": 31,
   "id": "8d892999",
   "metadata": {
    "execution": {
     "iopub.execute_input": "2021-07-20T06:50:51.499959Z",
     "iopub.status.busy": "2021-07-20T06:50:51.499324Z",
     "iopub.status.idle": "2021-07-20T06:50:52.359221Z",
     "shell.execute_reply": "2021-07-20T06:50:52.358717Z",
     "shell.execute_reply.started": "2021-07-20T06:47:57.876385Z"
    },
    "papermill": {
     "duration": 0.961472,
     "end_time": "2021-07-20T06:50:52.359363",
     "exception": false,
     "start_time": "2021-07-20T06:50:51.397891",
     "status": "completed"
    },
    "tags": []
   },
   "outputs": [
    {
     "data": {
      "text/plain": [
       "<AxesSubplot:>"
      ]
     },
     "execution_count": 31,
     "metadata": {},
     "output_type": "execute_result"
    },
    {
     "data": {
      "image/png": "[encoded data removed]",
      "text/plain": [
       "<Figure size 864x864 with 2 Axes>"
      ]
     },
     "metadata": {
      "needs_background": "light"
     },
     "output_type": "display_data"
    }
   ],
   "source": [
    "#plotting heatmap with correlation on data_new dataframe\n",
    "plt.figure(figsize=(12,12))\n",
    "sb.heatmap(data_new.corr(),annot=True, mask=np.triu(data_new.corr()))"
   ]
  },
  {
   "cell_type": "markdown",
   "id": "74843e4f",
   "metadata": {
    "papermill": {
     "duration": 0.095126,
     "end_time": "2021-07-20T06:50:52.552626",
     "exception": false,
     "start_time": "2021-07-20T06:50:52.457500",
     "status": "completed"
    },
    "tags": []
   },
   "source": [
    "Deleting all ICON related cols as it does not have any effect with Price"
   ]
  },
  {
   "cell_type": "code",
   "execution_count": 32,
   "id": "2cd78477",
   "metadata": {
    "execution": {
     "iopub.execute_input": "2021-07-20T06:50:52.795618Z",
     "iopub.status.busy": "2021-07-20T06:50:52.794748Z",
     "iopub.status.idle": "2021-07-20T06:50:52.798848Z",
     "shell.execute_reply": "2021-07-20T06:50:52.798223Z",
     "shell.execute_reply.started": "2021-07-20T06:47:58.803928Z"
    },
    "papermill": {
     "duration": 0.151495,
     "end_time": "2021-07-20T06:50:52.798991",
     "exception": false,
     "start_time": "2021-07-20T06:50:52.647496",
     "status": "completed"
    },
    "tags": []
   },
   "outputs": [
    {
     "data": {
      "text/html": [
       "<div>\n",
       "<style scoped>\n",
       "    .dataframe tbody tr th:only-of-type {\n",
       "        vertical-align: middle;\n",
       "    }\n",
       "\n",
       "    .dataframe tbody tr th {\n",
       "        vertical-align: top;\n",
       "    }\n",
       "\n",
       "    .dataframe thead th {\n",
       "        text-align: right;\n",
       "    }\n",
       "</style>\n",
       "<table border=\"1\" class=\"dataframe\">\n",
       "  <thead>\n",
       "    <tr style=\"text-align: right;\">\n",
       "      <th></th>\n",
       "      <th>price</th>\n",
       "      <th>name_Black</th>\n",
       "      <th>name_Black SUV</th>\n",
       "      <th>name_Lux</th>\n",
       "      <th>name_Lux Black</th>\n",
       "      <th>name_Lux Black XL</th>\n",
       "      <th>name_Lyft</th>\n",
       "      <th>name_Lyft XL</th>\n",
       "      <th>name_Shared</th>\n",
       "      <th>name_Taxi</th>\n",
       "      <th>name_UberPool</th>\n",
       "      <th>name_UberX</th>\n",
       "      <th>name_UberXL</th>\n",
       "      <th>name_WAV</th>\n",
       "    </tr>\n",
       "  </thead>\n",
       "  <tbody>\n",
       "    <tr>\n",
       "      <th>0</th>\n",
       "      <td>5.0</td>\n",
       "      <td>0.0</td>\n",
       "      <td>0.0</td>\n",
       "      <td>0.0</td>\n",
       "      <td>0.0</td>\n",
       "      <td>0.0</td>\n",
       "      <td>0.0</td>\n",
       "      <td>0.0</td>\n",
       "      <td>1.0</td>\n",
       "      <td>0.0</td>\n",
       "      <td>0.0</td>\n",
       "      <td>0.0</td>\n",
       "      <td>0.0</td>\n",
       "      <td>0.0</td>\n",
       "    </tr>\n",
       "    <tr>\n",
       "      <th>1</th>\n",
       "      <td>11.0</td>\n",
       "      <td>0.0</td>\n",
       "      <td>0.0</td>\n",
       "      <td>1.0</td>\n",
       "      <td>0.0</td>\n",
       "      <td>0.0</td>\n",
       "      <td>0.0</td>\n",
       "      <td>0.0</td>\n",
       "      <td>0.0</td>\n",
       "      <td>0.0</td>\n",
       "      <td>0.0</td>\n",
       "      <td>0.0</td>\n",
       "      <td>0.0</td>\n",
       "      <td>0.0</td>\n",
       "    </tr>\n",
       "    <tr>\n",
       "      <th>2</th>\n",
       "      <td>7.0</td>\n",
       "      <td>0.0</td>\n",
       "      <td>0.0</td>\n",
       "      <td>0.0</td>\n",
       "      <td>0.0</td>\n",
       "      <td>0.0</td>\n",
       "      <td>1.0</td>\n",
       "      <td>0.0</td>\n",
       "      <td>0.0</td>\n",
       "      <td>0.0</td>\n",
       "      <td>0.0</td>\n",
       "      <td>0.0</td>\n",
       "      <td>0.0</td>\n",
       "      <td>0.0</td>\n",
       "    </tr>\n",
       "    <tr>\n",
       "      <th>3</th>\n",
       "      <td>26.0</td>\n",
       "      <td>0.0</td>\n",
       "      <td>0.0</td>\n",
       "      <td>0.0</td>\n",
       "      <td>0.0</td>\n",
       "      <td>1.0</td>\n",
       "      <td>0.0</td>\n",
       "      <td>0.0</td>\n",
       "      <td>0.0</td>\n",
       "      <td>0.0</td>\n",
       "      <td>0.0</td>\n",
       "      <td>0.0</td>\n",
       "      <td>0.0</td>\n",
       "      <td>0.0</td>\n",
       "    </tr>\n",
       "    <tr>\n",
       "      <th>4</th>\n",
       "      <td>9.0</td>\n",
       "      <td>0.0</td>\n",
       "      <td>0.0</td>\n",
       "      <td>0.0</td>\n",
       "      <td>0.0</td>\n",
       "      <td>0.0</td>\n",
       "      <td>0.0</td>\n",
       "      <td>1.0</td>\n",
       "      <td>0.0</td>\n",
       "      <td>0.0</td>\n",
       "      <td>0.0</td>\n",
       "      <td>0.0</td>\n",
       "      <td>0.0</td>\n",
       "      <td>0.0</td>\n",
       "    </tr>\n",
       "  </tbody>\n",
       "</table>\n",
       "</div>"
      ],
      "text/plain": [
       "   price  name_Black  name_Black SUV  name_Lux  name_Lux Black  \\\n",
       "0    5.0         0.0             0.0       0.0             0.0   \n",
       "1   11.0         0.0             0.0       1.0             0.0   \n",
       "2    7.0         0.0             0.0       0.0             0.0   \n",
       "3   26.0         0.0             0.0       0.0             0.0   \n",
       "4    9.0         0.0             0.0       0.0             0.0   \n",
       "\n",
       "   name_Lux Black XL  name_Lyft  name_Lyft XL  name_Shared  name_Taxi  \\\n",
       "0                0.0        0.0           0.0          1.0        0.0   \n",
       "1                0.0        0.0           0.0          0.0        0.0   \n",
       "2                0.0        1.0           0.0          0.0        0.0   \n",
       "3                1.0        0.0           0.0          0.0        0.0   \n",
       "4                0.0        0.0           1.0          0.0        0.0   \n",
       "\n",
       "   name_UberPool  name_UberX  name_UberXL  name_WAV  \n",
       "0            0.0         0.0          0.0       0.0  \n",
       "1            0.0         0.0          0.0       0.0  \n",
       "2            0.0         0.0          0.0       0.0  \n",
       "3            0.0         0.0          0.0       0.0  \n",
       "4            0.0         0.0          0.0       0.0  "
      ]
     },
     "execution_count": 32,
     "metadata": {},
     "output_type": "execute_result"
    }
   ],
   "source": [
    "nme_cols = ['price','name_Black', 'name_Black SUV',\n",
    "       'name_Lux', 'name_Lux Black', 'name_Lux Black XL', 'name_Lyft',\n",
    "       'name_Lyft XL', 'name_Shared', 'name_Taxi', 'name_UberPool',\n",
    "       'name_UberX', 'name_UberXL', 'name_WAV']\n",
    "data_new = data[nme_cols]\n",
    "data_new.head()"
   ]
  },
  {
   "cell_type": "code",
   "execution_count": 33,
   "id": "be455894",
   "metadata": {
    "execution": {
     "iopub.execute_input": "2021-07-20T06:50:52.992511Z",
     "iopub.status.busy": "2021-07-20T06:50:52.991881Z",
     "iopub.status.idle": "2021-07-20T06:50:53.074934Z",
     "shell.execute_reply": "2021-07-20T06:50:53.075463Z",
     "shell.execute_reply.started": "2021-07-20T06:47:58.894392Z"
    },
    "papermill": {
     "duration": 0.181643,
     "end_time": "2021-07-20T06:50:53.075633",
     "exception": false,
     "start_time": "2021-07-20T06:50:52.893990",
     "status": "completed"
    },
    "tags": []
   },
   "outputs": [
    {
     "name": "stdout",
     "output_type": "stream",
     "text": [
      "(693071, 21)\n"
     ]
    },
    {
     "data": {
      "text/html": [
       "<div>\n",
       "<style scoped>\n",
       "    .dataframe tbody tr th:only-of-type {\n",
       "        vertical-align: middle;\n",
       "    }\n",
       "\n",
       "    .dataframe tbody tr th {\n",
       "        vertical-align: top;\n",
       "    }\n",
       "\n",
       "    .dataframe thead th {\n",
       "        text-align: right;\n",
       "    }\n",
       "</style>\n",
       "<table border=\"1\" class=\"dataframe\">\n",
       "  <thead>\n",
       "    <tr style=\"text-align: right;\">\n",
       "      <th></th>\n",
       "      <th>hour</th>\n",
       "      <th>day</th>\n",
       "      <th>month</th>\n",
       "      <th>price</th>\n",
       "      <th>distance</th>\n",
       "      <th>surge_multiplier</th>\n",
       "      <th>cab_type_Lyft</th>\n",
       "      <th>cab_type_Uber</th>\n",
       "      <th>name_Black</th>\n",
       "      <th>name_Black SUV</th>\n",
       "      <th>...</th>\n",
       "      <th>name_Lux Black</th>\n",
       "      <th>name_Lux Black XL</th>\n",
       "      <th>name_Lyft</th>\n",
       "      <th>name_Lyft XL</th>\n",
       "      <th>name_Shared</th>\n",
       "      <th>name_Taxi</th>\n",
       "      <th>name_UberPool</th>\n",
       "      <th>name_UberX</th>\n",
       "      <th>name_UberXL</th>\n",
       "      <th>name_WAV</th>\n",
       "    </tr>\n",
       "  </thead>\n",
       "  <tbody>\n",
       "    <tr>\n",
       "      <th>0</th>\n",
       "      <td>9</td>\n",
       "      <td>16</td>\n",
       "      <td>12</td>\n",
       "      <td>5.0</td>\n",
       "      <td>0.44</td>\n",
       "      <td>1.0</td>\n",
       "      <td>1.0</td>\n",
       "      <td>0.0</td>\n",
       "      <td>0.0</td>\n",
       "      <td>0.0</td>\n",
       "      <td>...</td>\n",
       "      <td>0.0</td>\n",
       "      <td>0.0</td>\n",
       "      <td>0.0</td>\n",
       "      <td>0.0</td>\n",
       "      <td>1.0</td>\n",
       "      <td>0.0</td>\n",
       "      <td>0.0</td>\n",
       "      <td>0.0</td>\n",
       "      <td>0.0</td>\n",
       "      <td>0.0</td>\n",
       "    </tr>\n",
       "    <tr>\n",
       "      <th>1</th>\n",
       "      <td>2</td>\n",
       "      <td>27</td>\n",
       "      <td>11</td>\n",
       "      <td>11.0</td>\n",
       "      <td>0.44</td>\n",
       "      <td>1.0</td>\n",
       "      <td>1.0</td>\n",
       "      <td>0.0</td>\n",
       "      <td>0.0</td>\n",
       "      <td>0.0</td>\n",
       "      <td>...</td>\n",
       "      <td>0.0</td>\n",
       "      <td>0.0</td>\n",
       "      <td>0.0</td>\n",
       "      <td>0.0</td>\n",
       "      <td>0.0</td>\n",
       "      <td>0.0</td>\n",
       "      <td>0.0</td>\n",
       "      <td>0.0</td>\n",
       "      <td>0.0</td>\n",
       "      <td>0.0</td>\n",
       "    </tr>\n",
       "    <tr>\n",
       "      <th>2</th>\n",
       "      <td>1</td>\n",
       "      <td>28</td>\n",
       "      <td>11</td>\n",
       "      <td>7.0</td>\n",
       "      <td>0.44</td>\n",
       "      <td>1.0</td>\n",
       "      <td>1.0</td>\n",
       "      <td>0.0</td>\n",
       "      <td>0.0</td>\n",
       "      <td>0.0</td>\n",
       "      <td>...</td>\n",
       "      <td>0.0</td>\n",
       "      <td>0.0</td>\n",
       "      <td>1.0</td>\n",
       "      <td>0.0</td>\n",
       "      <td>0.0</td>\n",
       "      <td>0.0</td>\n",
       "      <td>0.0</td>\n",
       "      <td>0.0</td>\n",
       "      <td>0.0</td>\n",
       "      <td>0.0</td>\n",
       "    </tr>\n",
       "    <tr>\n",
       "      <th>3</th>\n",
       "      <td>4</td>\n",
       "      <td>30</td>\n",
       "      <td>11</td>\n",
       "      <td>26.0</td>\n",
       "      <td>0.44</td>\n",
       "      <td>1.0</td>\n",
       "      <td>1.0</td>\n",
       "      <td>0.0</td>\n",
       "      <td>0.0</td>\n",
       "      <td>0.0</td>\n",
       "      <td>...</td>\n",
       "      <td>0.0</td>\n",
       "      <td>1.0</td>\n",
       "      <td>0.0</td>\n",
       "      <td>0.0</td>\n",
       "      <td>0.0</td>\n",
       "      <td>0.0</td>\n",
       "      <td>0.0</td>\n",
       "      <td>0.0</td>\n",
       "      <td>0.0</td>\n",
       "      <td>0.0</td>\n",
       "    </tr>\n",
       "    <tr>\n",
       "      <th>4</th>\n",
       "      <td>3</td>\n",
       "      <td>29</td>\n",
       "      <td>11</td>\n",
       "      <td>9.0</td>\n",
       "      <td>0.44</td>\n",
       "      <td>1.0</td>\n",
       "      <td>1.0</td>\n",
       "      <td>0.0</td>\n",
       "      <td>0.0</td>\n",
       "      <td>0.0</td>\n",
       "      <td>...</td>\n",
       "      <td>0.0</td>\n",
       "      <td>0.0</td>\n",
       "      <td>0.0</td>\n",
       "      <td>1.0</td>\n",
       "      <td>0.0</td>\n",
       "      <td>0.0</td>\n",
       "      <td>0.0</td>\n",
       "      <td>0.0</td>\n",
       "      <td>0.0</td>\n",
       "      <td>0.0</td>\n",
       "    </tr>\n",
       "  </tbody>\n",
       "</table>\n",
       "<p>5 rows × 21 columns</p>\n",
       "</div>"
      ],
      "text/plain": [
       "   hour  day  month  price  distance  surge_multiplier  cab_type_Lyft  \\\n",
       "0     9   16     12    5.0      0.44               1.0            1.0   \n",
       "1     2   27     11   11.0      0.44               1.0            1.0   \n",
       "2     1   28     11    7.0      0.44               1.0            1.0   \n",
       "3     4   30     11   26.0      0.44               1.0            1.0   \n",
       "4     3   29     11    9.0      0.44               1.0            1.0   \n",
       "\n",
       "   cab_type_Uber  name_Black  name_Black SUV  ...  name_Lux Black  \\\n",
       "0            0.0         0.0             0.0  ...             0.0   \n",
       "1            0.0         0.0             0.0  ...             0.0   \n",
       "2            0.0         0.0             0.0  ...             0.0   \n",
       "3            0.0         0.0             0.0  ...             0.0   \n",
       "4            0.0         0.0             0.0  ...             0.0   \n",
       "\n",
       "   name_Lux Black XL  name_Lyft  name_Lyft XL  name_Shared  name_Taxi  \\\n",
       "0                0.0        0.0           0.0          1.0        0.0   \n",
       "1                0.0        0.0           0.0          0.0        0.0   \n",
       "2                0.0        1.0           0.0          0.0        0.0   \n",
       "3                1.0        0.0           0.0          0.0        0.0   \n",
       "4                0.0        0.0           1.0          0.0        0.0   \n",
       "\n",
       "   name_UberPool  name_UberX  name_UberXL  name_WAV  \n",
       "0            0.0         0.0          0.0       0.0  \n",
       "1            0.0         0.0          0.0       0.0  \n",
       "2            0.0         0.0          0.0       0.0  \n",
       "3            0.0         0.0          0.0       0.0  \n",
       "4            0.0         0.0          0.0       0.0  \n",
       "\n",
       "[5 rows x 21 columns]"
      ]
     },
     "execution_count": 33,
     "metadata": {},
     "output_type": "execute_result"
    }
   ],
   "source": [
    "ico_cols = ['icon_ clear-day ', 'icon_ clear-night ', 'icon_ cloudy ', 'icon_ fog ',\n",
    "       'icon_ partly-cloudy-day ', 'icon_ partly-cloudy-night ',\n",
    "       'icon_ rain ']\n",
    "data = data.drop(ico_cols,axis=1)\n",
    "print(data.shape)\n",
    "data.head()"
   ]
  },
  {
   "cell_type": "markdown",
   "id": "7c7d3ddd",
   "metadata": {
    "papermill": {
     "duration": 0.099184,
     "end_time": "2021-07-20T06:50:53.270183",
     "exception": false,
     "start_time": "2021-07-20T06:50:53.170999",
     "status": "completed"
    },
    "tags": []
   },
   "source": [
    "Analyzing name cols with price"
   ]
  },
  {
   "cell_type": "code",
   "execution_count": 34,
   "id": "98577837",
   "metadata": {
    "execution": {
     "iopub.execute_input": "2021-07-20T06:50:53.520496Z",
     "iopub.status.busy": "2021-07-20T06:50:53.519515Z",
     "iopub.status.idle": "2021-07-20T06:50:53.523802Z",
     "shell.execute_reply": "2021-07-20T06:50:53.523294Z",
     "shell.execute_reply.started": "2021-07-20T06:47:59.117633Z"
    },
    "papermill": {
     "duration": 0.158419,
     "end_time": "2021-07-20T06:50:53.523946",
     "exception": false,
     "start_time": "2021-07-20T06:50:53.365527",
     "status": "completed"
    },
    "tags": []
   },
   "outputs": [
    {
     "data": {
      "text/html": [
       "<div>\n",
       "<style scoped>\n",
       "    .dataframe tbody tr th:only-of-type {\n",
       "        vertical-align: middle;\n",
       "    }\n",
       "\n",
       "    .dataframe tbody tr th {\n",
       "        vertical-align: top;\n",
       "    }\n",
       "\n",
       "    .dataframe thead th {\n",
       "        text-align: right;\n",
       "    }\n",
       "</style>\n",
       "<table border=\"1\" class=\"dataframe\">\n",
       "  <thead>\n",
       "    <tr style=\"text-align: right;\">\n",
       "      <th></th>\n",
       "      <th>price</th>\n",
       "      <th>name_Black</th>\n",
       "      <th>name_Black SUV</th>\n",
       "      <th>name_Lux</th>\n",
       "      <th>name_Lux Black</th>\n",
       "      <th>name_Lux Black XL</th>\n",
       "      <th>name_Lyft</th>\n",
       "      <th>name_Lyft XL</th>\n",
       "      <th>name_Shared</th>\n",
       "      <th>name_Taxi</th>\n",
       "      <th>name_UberPool</th>\n",
       "      <th>name_UberX</th>\n",
       "      <th>name_UberXL</th>\n",
       "      <th>name_WAV</th>\n",
       "    </tr>\n",
       "  </thead>\n",
       "  <tbody>\n",
       "    <tr>\n",
       "      <th>0</th>\n",
       "      <td>5.0</td>\n",
       "      <td>0.0</td>\n",
       "      <td>0.0</td>\n",
       "      <td>0.0</td>\n",
       "      <td>0.0</td>\n",
       "      <td>0.0</td>\n",
       "      <td>0.0</td>\n",
       "      <td>0.0</td>\n",
       "      <td>1.0</td>\n",
       "      <td>0.0</td>\n",
       "      <td>0.0</td>\n",
       "      <td>0.0</td>\n",
       "      <td>0.0</td>\n",
       "      <td>0.0</td>\n",
       "    </tr>\n",
       "    <tr>\n",
       "      <th>1</th>\n",
       "      <td>11.0</td>\n",
       "      <td>0.0</td>\n",
       "      <td>0.0</td>\n",
       "      <td>1.0</td>\n",
       "      <td>0.0</td>\n",
       "      <td>0.0</td>\n",
       "      <td>0.0</td>\n",
       "      <td>0.0</td>\n",
       "      <td>0.0</td>\n",
       "      <td>0.0</td>\n",
       "      <td>0.0</td>\n",
       "      <td>0.0</td>\n",
       "      <td>0.0</td>\n",
       "      <td>0.0</td>\n",
       "    </tr>\n",
       "    <tr>\n",
       "      <th>2</th>\n",
       "      <td>7.0</td>\n",
       "      <td>0.0</td>\n",
       "      <td>0.0</td>\n",
       "      <td>0.0</td>\n",
       "      <td>0.0</td>\n",
       "      <td>0.0</td>\n",
       "      <td>1.0</td>\n",
       "      <td>0.0</td>\n",
       "      <td>0.0</td>\n",
       "      <td>0.0</td>\n",
       "      <td>0.0</td>\n",
       "      <td>0.0</td>\n",
       "      <td>0.0</td>\n",
       "      <td>0.0</td>\n",
       "    </tr>\n",
       "    <tr>\n",
       "      <th>3</th>\n",
       "      <td>26.0</td>\n",
       "      <td>0.0</td>\n",
       "      <td>0.0</td>\n",
       "      <td>0.0</td>\n",
       "      <td>0.0</td>\n",
       "      <td>1.0</td>\n",
       "      <td>0.0</td>\n",
       "      <td>0.0</td>\n",
       "      <td>0.0</td>\n",
       "      <td>0.0</td>\n",
       "      <td>0.0</td>\n",
       "      <td>0.0</td>\n",
       "      <td>0.0</td>\n",
       "      <td>0.0</td>\n",
       "    </tr>\n",
       "    <tr>\n",
       "      <th>4</th>\n",
       "      <td>9.0</td>\n",
       "      <td>0.0</td>\n",
       "      <td>0.0</td>\n",
       "      <td>0.0</td>\n",
       "      <td>0.0</td>\n",
       "      <td>0.0</td>\n",
       "      <td>0.0</td>\n",
       "      <td>1.0</td>\n",
       "      <td>0.0</td>\n",
       "      <td>0.0</td>\n",
       "      <td>0.0</td>\n",
       "      <td>0.0</td>\n",
       "      <td>0.0</td>\n",
       "      <td>0.0</td>\n",
       "    </tr>\n",
       "  </tbody>\n",
       "</table>\n",
       "</div>"
      ],
      "text/plain": [
       "   price  name_Black  name_Black SUV  name_Lux  name_Lux Black  \\\n",
       "0    5.0         0.0             0.0       0.0             0.0   \n",
       "1   11.0         0.0             0.0       1.0             0.0   \n",
       "2    7.0         0.0             0.0       0.0             0.0   \n",
       "3   26.0         0.0             0.0       0.0             0.0   \n",
       "4    9.0         0.0             0.0       0.0             0.0   \n",
       "\n",
       "   name_Lux Black XL  name_Lyft  name_Lyft XL  name_Shared  name_Taxi  \\\n",
       "0                0.0        0.0           0.0          1.0        0.0   \n",
       "1                0.0        0.0           0.0          0.0        0.0   \n",
       "2                0.0        1.0           0.0          0.0        0.0   \n",
       "3                1.0        0.0           0.0          0.0        0.0   \n",
       "4                0.0        0.0           1.0          0.0        0.0   \n",
       "\n",
       "   name_UberPool  name_UberX  name_UberXL  name_WAV  \n",
       "0            0.0         0.0          0.0       0.0  \n",
       "1            0.0         0.0          0.0       0.0  \n",
       "2            0.0         0.0          0.0       0.0  \n",
       "3            0.0         0.0          0.0       0.0  \n",
       "4            0.0         0.0          0.0       0.0  "
      ]
     },
     "execution_count": 34,
     "metadata": {},
     "output_type": "execute_result"
    }
   ],
   "source": [
    "nme_cols = ['price','name_Black', 'name_Black SUV',\n",
    "       'name_Lux', 'name_Lux Black', 'name_Lux Black XL', 'name_Lyft',\n",
    "       'name_Lyft XL', 'name_Shared', 'name_Taxi', 'name_UberPool',\n",
    "       'name_UberX', 'name_UberXL', 'name_WAV']\n",
    "data_new = data[nme_cols]\n",
    "data_new.head()"
   ]
  },
  {
   "cell_type": "code",
   "execution_count": 35,
   "id": "17cb07ff",
   "metadata": {
    "execution": {
     "iopub.execute_input": "2021-07-20T06:50:53.723338Z",
     "iopub.status.busy": "2021-07-20T06:50:53.722708Z",
     "iopub.status.idle": "2021-07-20T06:50:55.546695Z",
     "shell.execute_reply": "2021-07-20T06:50:55.546067Z",
     "shell.execute_reply.started": "2021-07-20T06:47:59.297975Z"
    },
    "papermill": {
     "duration": 1.926679,
     "end_time": "2021-07-20T06:50:55.546840",
     "exception": false,
     "start_time": "2021-07-20T06:50:53.620161",
     "status": "completed"
    },
    "tags": []
   },
   "outputs": [
    {
     "data": {
      "text/plain": [
       "<AxesSubplot:>"
      ]
     },
     "execution_count": 35,
     "metadata": {},
     "output_type": "execute_result"
    },
    {
     "data": {
      "image/png": "[encoded data removed]",
      "text/plain": [
       "<Figure size 864x864 with 2 Axes>"
      ]
     },
     "metadata": {
      "needs_background": "light"
     },
     "output_type": "display_data"
    }
   ],
   "source": [
    "#plotting heatmap with correlation on data_new dataframe\n",
    "plt.figure(figsize=(12,12))\n",
    "sb.heatmap(data_new.corr(),annot=True, mask=np.triu(data_new.corr()))"
   ]
  },
  {
   "cell_type": "markdown",
   "id": "6db69c99",
   "metadata": {
    "papermill": {
     "duration": 0.09834,
     "end_time": "2021-07-20T06:50:55.743423",
     "exception": false,
     "start_time": "2021-07-20T06:50:55.645083",
     "status": "completed"
    },
    "tags": []
   },
   "source": [
    "Some values of names do have effect on Price value."
   ]
  },
  {
   "cell_type": "markdown",
   "id": "06d1c564",
   "metadata": {
    "papermill": {
     "duration": 0.098842,
     "end_time": "2021-07-20T06:50:55.993392",
     "exception": false,
     "start_time": "2021-07-20T06:50:55.894550",
     "status": "completed"
    },
    "tags": []
   },
   "source": [
    "Analyzing remaining columns with Price"
   ]
  },
  {
   "cell_type": "code",
   "execution_count": 36,
   "id": "781011ae",
   "metadata": {
    "execution": {
     "iopub.execute_input": "2021-07-20T06:50:56.226188Z",
     "iopub.status.busy": "2021-07-20T06:50:56.225265Z",
     "iopub.status.idle": "2021-07-20T06:50:56.229603Z",
     "shell.execute_reply": "2021-07-20T06:50:56.229080Z",
     "shell.execute_reply.started": "2021-07-20T06:48:01.353784Z"
    },
    "papermill": {
     "duration": 0.136516,
     "end_time": "2021-07-20T06:50:56.229748",
     "exception": false,
     "start_time": "2021-07-20T06:50:56.093232",
     "status": "completed"
    },
    "tags": []
   },
   "outputs": [
    {
     "data": {
      "text/html": [
       "<div>\n",
       "<style scoped>\n",
       "    .dataframe tbody tr th:only-of-type {\n",
       "        vertical-align: middle;\n",
       "    }\n",
       "\n",
       "    .dataframe tbody tr th {\n",
       "        vertical-align: top;\n",
       "    }\n",
       "\n",
       "    .dataframe thead th {\n",
       "        text-align: right;\n",
       "    }\n",
       "</style>\n",
       "<table border=\"1\" class=\"dataframe\">\n",
       "  <thead>\n",
       "    <tr style=\"text-align: right;\">\n",
       "      <th></th>\n",
       "      <th>price</th>\n",
       "      <th>hour</th>\n",
       "      <th>day</th>\n",
       "      <th>month</th>\n",
       "      <th>distance</th>\n",
       "      <th>surge_multiplier</th>\n",
       "      <th>cab_type_Lyft</th>\n",
       "      <th>cab_type_Uber</th>\n",
       "    </tr>\n",
       "  </thead>\n",
       "  <tbody>\n",
       "    <tr>\n",
       "      <th>0</th>\n",
       "      <td>5.0</td>\n",
       "      <td>9</td>\n",
       "      <td>16</td>\n",
       "      <td>12</td>\n",
       "      <td>0.44</td>\n",
       "      <td>1.0</td>\n",
       "      <td>1.0</td>\n",
       "      <td>0.0</td>\n",
       "    </tr>\n",
       "    <tr>\n",
       "      <th>1</th>\n",
       "      <td>11.0</td>\n",
       "      <td>2</td>\n",
       "      <td>27</td>\n",
       "      <td>11</td>\n",
       "      <td>0.44</td>\n",
       "      <td>1.0</td>\n",
       "      <td>1.0</td>\n",
       "      <td>0.0</td>\n",
       "    </tr>\n",
       "    <tr>\n",
       "      <th>2</th>\n",
       "      <td>7.0</td>\n",
       "      <td>1</td>\n",
       "      <td>28</td>\n",
       "      <td>11</td>\n",
       "      <td>0.44</td>\n",
       "      <td>1.0</td>\n",
       "      <td>1.0</td>\n",
       "      <td>0.0</td>\n",
       "    </tr>\n",
       "    <tr>\n",
       "      <th>3</th>\n",
       "      <td>26.0</td>\n",
       "      <td>4</td>\n",
       "      <td>30</td>\n",
       "      <td>11</td>\n",
       "      <td>0.44</td>\n",
       "      <td>1.0</td>\n",
       "      <td>1.0</td>\n",
       "      <td>0.0</td>\n",
       "    </tr>\n",
       "    <tr>\n",
       "      <th>4</th>\n",
       "      <td>9.0</td>\n",
       "      <td>3</td>\n",
       "      <td>29</td>\n",
       "      <td>11</td>\n",
       "      <td>0.44</td>\n",
       "      <td>1.0</td>\n",
       "      <td>1.0</td>\n",
       "      <td>0.0</td>\n",
       "    </tr>\n",
       "  </tbody>\n",
       "</table>\n",
       "</div>"
      ],
      "text/plain": [
       "   price  hour  day  month  distance  surge_multiplier  cab_type_Lyft  \\\n",
       "0    5.0     9   16     12      0.44               1.0            1.0   \n",
       "1   11.0     2   27     11      0.44               1.0            1.0   \n",
       "2    7.0     1   28     11      0.44               1.0            1.0   \n",
       "3   26.0     4   30     11      0.44               1.0            1.0   \n",
       "4    9.0     3   29     11      0.44               1.0            1.0   \n",
       "\n",
       "   cab_type_Uber  \n",
       "0            0.0  \n",
       "1            0.0  \n",
       "2            0.0  \n",
       "3            0.0  \n",
       "4            0.0  "
      ]
     },
     "execution_count": 36,
     "metadata": {},
     "output_type": "execute_result"
    }
   ],
   "source": [
    "rem_cols =['price','hour', 'day', 'month', 'distance', 'surge_multiplier','cab_type_Lyft','cab_type_Uber']\n",
    "data_new = data[rem_cols]\n",
    "data_new.head()"
   ]
  },
  {
   "cell_type": "code",
   "execution_count": 37,
   "id": "10862467",
   "metadata": {
    "execution": {
     "iopub.execute_input": "2021-07-20T06:50:56.438746Z",
     "iopub.status.busy": "2021-07-20T06:50:56.438120Z",
     "iopub.status.idle": "2021-07-20T06:50:57.214813Z",
     "shell.execute_reply": "2021-07-20T06:50:57.215262Z",
     "shell.execute_reply.started": "2021-07-20T06:48:01.395246Z"
    },
    "papermill": {
     "duration": 0.881896,
     "end_time": "2021-07-20T06:50:57.215490",
     "exception": false,
     "start_time": "2021-07-20T06:50:56.333594",
     "status": "completed"
    },
    "tags": []
   },
   "outputs": [
    {
     "data": {
      "text/plain": [
       "<AxesSubplot:>"
      ]
     },
     "execution_count": 37,
     "metadata": {},
     "output_type": "execute_result"
    },
    {
     "data": {
      "image/png": "[encoded data removed]",
      "text/plain": [
       "<Figure size 864x864 with 2 Axes>"
      ]
     },
     "metadata": {
      "needs_background": "light"
     },
     "output_type": "display_data"
    }
   ],
   "source": [
    "#plotting heatmap with correlation on data_new dataframe\n",
    "plt.figure(figsize=(12,12))\n",
    "sb.heatmap(data_new.corr(),annot=True, mask=np.triu(data_new.corr()))"
   ]
  },
  {
   "cell_type": "markdown",
   "id": "caa7b043",
   "metadata": {
    "papermill": {
     "duration": 0.10059,
     "end_time": "2021-07-20T06:50:57.418140",
     "exception": false,
     "start_time": "2021-07-20T06:50:57.317550",
     "status": "completed"
    },
    "tags": []
   },
   "source": [
    "From above heatmap, month day, hour,cabtype_Uber & cab_type_Lyft are weakly correlated, but distance and surge_multiplier has good correlation with Price\n",
    ". So dropping month,day & hour."
   ]
  },
  {
   "cell_type": "code",
   "execution_count": 38,
   "id": "1fe103c3",
   "metadata": {
    "execution": {
     "iopub.execute_input": "2021-07-20T06:50:57.683592Z",
     "iopub.status.busy": "2021-07-20T06:50:57.682864Z",
     "iopub.status.idle": "2021-07-20T06:50:57.690082Z",
     "shell.execute_reply": "2021-07-20T06:50:57.689363Z",
     "shell.execute_reply.started": "2021-07-20T06:48:02.249825Z"
    },
    "papermill": {
     "duration": 0.171617,
     "end_time": "2021-07-20T06:50:57.690246",
     "exception": false,
     "start_time": "2021-07-20T06:50:57.518629",
     "status": "completed"
    },
    "tags": []
   },
   "outputs": [
    {
     "name": "stdout",
     "output_type": "stream",
     "text": [
      "(693071, 16)\n"
     ]
    },
    {
     "data": {
      "text/html": [
       "<div>\n",
       "<style scoped>\n",
       "    .dataframe tbody tr th:only-of-type {\n",
       "        vertical-align: middle;\n",
       "    }\n",
       "\n",
       "    .dataframe tbody tr th {\n",
       "        vertical-align: top;\n",
       "    }\n",
       "\n",
       "    .dataframe thead th {\n",
       "        text-align: right;\n",
       "    }\n",
       "</style>\n",
       "<table border=\"1\" class=\"dataframe\">\n",
       "  <thead>\n",
       "    <tr style=\"text-align: right;\">\n",
       "      <th></th>\n",
       "      <th>price</th>\n",
       "      <th>distance</th>\n",
       "      <th>surge_multiplier</th>\n",
       "      <th>name_Black</th>\n",
       "      <th>name_Black SUV</th>\n",
       "      <th>name_Lux</th>\n",
       "      <th>name_Lux Black</th>\n",
       "      <th>name_Lux Black XL</th>\n",
       "      <th>name_Lyft</th>\n",
       "      <th>name_Lyft XL</th>\n",
       "      <th>name_Shared</th>\n",
       "      <th>name_Taxi</th>\n",
       "      <th>name_UberPool</th>\n",
       "      <th>name_UberX</th>\n",
       "      <th>name_UberXL</th>\n",
       "      <th>name_WAV</th>\n",
       "    </tr>\n",
       "  </thead>\n",
       "  <tbody>\n",
       "    <tr>\n",
       "      <th>0</th>\n",
       "      <td>5.0</td>\n",
       "      <td>0.44</td>\n",
       "      <td>1.0</td>\n",
       "      <td>0.0</td>\n",
       "      <td>0.0</td>\n",
       "      <td>0.0</td>\n",
       "      <td>0.0</td>\n",
       "      <td>0.0</td>\n",
       "      <td>0.0</td>\n",
       "      <td>0.0</td>\n",
       "      <td>1.0</td>\n",
       "      <td>0.0</td>\n",
       "      <td>0.0</td>\n",
       "      <td>0.0</td>\n",
       "      <td>0.0</td>\n",
       "      <td>0.0</td>\n",
       "    </tr>\n",
       "    <tr>\n",
       "      <th>1</th>\n",
       "      <td>11.0</td>\n",
       "      <td>0.44</td>\n",
       "      <td>1.0</td>\n",
       "      <td>0.0</td>\n",
       "      <td>0.0</td>\n",
       "      <td>1.0</td>\n",
       "      <td>0.0</td>\n",
       "      <td>0.0</td>\n",
       "      <td>0.0</td>\n",
       "      <td>0.0</td>\n",
       "      <td>0.0</td>\n",
       "      <td>0.0</td>\n",
       "      <td>0.0</td>\n",
       "      <td>0.0</td>\n",
       "      <td>0.0</td>\n",
       "      <td>0.0</td>\n",
       "    </tr>\n",
       "    <tr>\n",
       "      <th>2</th>\n",
       "      <td>7.0</td>\n",
       "      <td>0.44</td>\n",
       "      <td>1.0</td>\n",
       "      <td>0.0</td>\n",
       "      <td>0.0</td>\n",
       "      <td>0.0</td>\n",
       "      <td>0.0</td>\n",
       "      <td>0.0</td>\n",
       "      <td>1.0</td>\n",
       "      <td>0.0</td>\n",
       "      <td>0.0</td>\n",
       "      <td>0.0</td>\n",
       "      <td>0.0</td>\n",
       "      <td>0.0</td>\n",
       "      <td>0.0</td>\n",
       "      <td>0.0</td>\n",
       "    </tr>\n",
       "    <tr>\n",
       "      <th>3</th>\n",
       "      <td>26.0</td>\n",
       "      <td>0.44</td>\n",
       "      <td>1.0</td>\n",
       "      <td>0.0</td>\n",
       "      <td>0.0</td>\n",
       "      <td>0.0</td>\n",
       "      <td>0.0</td>\n",
       "      <td>1.0</td>\n",
       "      <td>0.0</td>\n",
       "      <td>0.0</td>\n",
       "      <td>0.0</td>\n",
       "      <td>0.0</td>\n",
       "      <td>0.0</td>\n",
       "      <td>0.0</td>\n",
       "      <td>0.0</td>\n",
       "      <td>0.0</td>\n",
       "    </tr>\n",
       "    <tr>\n",
       "      <th>4</th>\n",
       "      <td>9.0</td>\n",
       "      <td>0.44</td>\n",
       "      <td>1.0</td>\n",
       "      <td>0.0</td>\n",
       "      <td>0.0</td>\n",
       "      <td>0.0</td>\n",
       "      <td>0.0</td>\n",
       "      <td>0.0</td>\n",
       "      <td>0.0</td>\n",
       "      <td>1.0</td>\n",
       "      <td>0.0</td>\n",
       "      <td>0.0</td>\n",
       "      <td>0.0</td>\n",
       "      <td>0.0</td>\n",
       "      <td>0.0</td>\n",
       "      <td>0.0</td>\n",
       "    </tr>\n",
       "  </tbody>\n",
       "</table>\n",
       "</div>"
      ],
      "text/plain": [
       "   price  distance  surge_multiplier  name_Black  name_Black SUV  name_Lux  \\\n",
       "0    5.0      0.44               1.0         0.0             0.0       0.0   \n",
       "1   11.0      0.44               1.0         0.0             0.0       1.0   \n",
       "2    7.0      0.44               1.0         0.0             0.0       0.0   \n",
       "3   26.0      0.44               1.0         0.0             0.0       0.0   \n",
       "4    9.0      0.44               1.0         0.0             0.0       0.0   \n",
       "\n",
       "   name_Lux Black  name_Lux Black XL  name_Lyft  name_Lyft XL  name_Shared  \\\n",
       "0             0.0                0.0        0.0           0.0          1.0   \n",
       "1             0.0                0.0        0.0           0.0          0.0   \n",
       "2             0.0                0.0        1.0           0.0          0.0   \n",
       "3             0.0                1.0        0.0           0.0          0.0   \n",
       "4             0.0                0.0        0.0           1.0          0.0   \n",
       "\n",
       "   name_Taxi  name_UberPool  name_UberX  name_UberXL  name_WAV  \n",
       "0        0.0            0.0         0.0          0.0       0.0  \n",
       "1        0.0            0.0         0.0          0.0       0.0  \n",
       "2        0.0            0.0         0.0          0.0       0.0  \n",
       "3        0.0            0.0         0.0          0.0       0.0  \n",
       "4        0.0            0.0         0.0          0.0       0.0  "
      ]
     },
     "execution_count": 38,
     "metadata": {},
     "output_type": "execute_result"
    }
   ],
   "source": [
    "data = data.drop(['month','day','hour','cab_type_Lyft','cab_type_Uber'],axis=1)\n",
    "print(data.shape)\n",
    "data.head()"
   ]
  },
  {
   "cell_type": "markdown",
   "id": "7ee85426",
   "metadata": {
    "papermill": {
     "duration": 0.10525,
     "end_time": "2021-07-20T06:50:57.897623",
     "exception": false,
     "start_time": "2021-07-20T06:50:57.792373",
     "status": "completed"
    },
    "tags": []
   },
   "source": [
    "Checking for the null values in all featues"
   ]
  },
  {
   "cell_type": "code",
   "execution_count": 39,
   "id": "90546ad7",
   "metadata": {
    "execution": {
     "iopub.execute_input": "2021-07-20T06:50:58.110071Z",
     "iopub.status.busy": "2021-07-20T06:50:58.108908Z",
     "iopub.status.idle": "2021-07-20T06:50:58.139526Z",
     "shell.execute_reply": "2021-07-20T06:50:58.138841Z",
     "shell.execute_reply.started": "2021-07-20T06:48:02.387766Z"
    },
    "papermill": {
     "duration": 0.139638,
     "end_time": "2021-07-20T06:50:58.139730",
     "exception": false,
     "start_time": "2021-07-20T06:50:58.000092",
     "status": "completed"
    },
    "tags": []
   },
   "outputs": [
    {
     "data": {
      "text/plain": [
       "price                55095\n",
       "distance                 0\n",
       "surge_multiplier         0\n",
       "name_Black               0\n",
       "name_Black SUV           0\n",
       "name_Lux                 0\n",
       "name_Lux Black           0\n",
       "name_Lux Black XL        0\n",
       "name_Lyft                0\n",
       "name_Lyft XL             0\n",
       "name_Shared              0\n",
       "name_Taxi                0\n",
       "name_UberPool            0\n",
       "name_UberX               0\n",
       "name_UberXL              0\n",
       "name_WAV                 0\n",
       "dtype: int64"
      ]
     },
     "execution_count": 39,
     "metadata": {},
     "output_type": "execute_result"
    }
   ],
   "source": [
    "data.isnull().sum()"
   ]
  },
  {
   "cell_type": "markdown",
   "id": "f1473243",
   "metadata": {
    "papermill": {
     "duration": 0.105046,
     "end_time": "2021-07-20T06:50:58.348161",
     "exception": false,
     "start_time": "2021-07-20T06:50:58.243115",
     "status": "completed"
    },
    "tags": []
   },
   "source": [
    "Price column has 55095 empty values, Not going imputing them as imputing predictand values results is getting more error values and less accuracy. So removing all the observations where price is empty"
   ]
  },
  {
   "cell_type": "code",
   "execution_count": 40,
   "id": "13675da2",
   "metadata": {
    "execution": {
     "iopub.execute_input": "2021-07-20T06:50:58.560294Z",
     "iopub.status.busy": "2021-07-20T06:50:58.559652Z",
     "iopub.status.idle": "2021-07-20T06:50:58.817095Z",
     "shell.execute_reply": "2021-07-20T06:50:58.816414Z",
     "shell.execute_reply.started": "2021-07-20T06:48:02.421394Z"
    },
    "papermill": {
     "duration": 0.366762,
     "end_time": "2021-07-20T06:50:58.817228",
     "exception": false,
     "start_time": "2021-07-20T06:50:58.450466",
     "status": "completed"
    },
    "tags": []
   },
   "outputs": [],
   "source": [
    "data = data.dropna(subset = ['price']).reset_index()"
   ]
  },
  {
   "cell_type": "code",
   "execution_count": 41,
   "id": "7ec03abc",
   "metadata": {
    "execution": {
     "iopub.execute_input": "2021-07-20T06:50:59.028504Z",
     "iopub.status.busy": "2021-07-20T06:50:59.027833Z",
     "iopub.status.idle": "2021-07-20T06:50:59.055314Z",
     "shell.execute_reply": "2021-07-20T06:50:59.054788Z",
     "shell.execute_reply.started": "2021-07-20T06:48:02.692600Z"
    },
    "papermill": {
     "duration": 0.135539,
     "end_time": "2021-07-20T06:50:59.055499",
     "exception": false,
     "start_time": "2021-07-20T06:50:58.919960",
     "status": "completed"
    },
    "tags": []
   },
   "outputs": [
    {
     "data": {
      "text/plain": [
       "index                0\n",
       "price                0\n",
       "distance             0\n",
       "surge_multiplier     0\n",
       "name_Black           0\n",
       "name_Black SUV       0\n",
       "name_Lux             0\n",
       "name_Lux Black       0\n",
       "name_Lux Black XL    0\n",
       "name_Lyft            0\n",
       "name_Lyft XL         0\n",
       "name_Shared          0\n",
       "name_Taxi            0\n",
       "name_UberPool        0\n",
       "name_UberX           0\n",
       "name_UberXL          0\n",
       "name_WAV             0\n",
       "dtype: int64"
      ]
     },
     "execution_count": 41,
     "metadata": {},
     "output_type": "execute_result"
    }
   ],
   "source": [
    "data.isnull().sum()"
   ]
  },
  {
   "cell_type": "code",
   "execution_count": 42,
   "id": "a0faa8db",
   "metadata": {
    "execution": {
     "iopub.execute_input": "2021-07-20T06:50:59.267601Z",
     "iopub.status.busy": "2021-07-20T06:50:59.266684Z",
     "iopub.status.idle": "2021-07-20T06:50:59.270739Z",
     "shell.execute_reply": "2021-07-20T06:50:59.270121Z",
     "shell.execute_reply.started": "2021-07-20T06:48:02.725761Z"
    },
    "papermill": {
     "duration": 0.111862,
     "end_time": "2021-07-20T06:50:59.270873",
     "exception": false,
     "start_time": "2021-07-20T06:50:59.159011",
     "status": "completed"
    },
    "tags": []
   },
   "outputs": [
    {
     "data": {
      "text/plain": [
       "(637976, 17)"
      ]
     },
     "execution_count": 42,
     "metadata": {},
     "output_type": "execute_result"
    }
   ],
   "source": [
    "data.shape"
   ]
  },
  {
   "cell_type": "markdown",
   "id": "250b05d5",
   "metadata": {
    "papermill": {
     "duration": 0.102683,
     "end_time": "2021-07-20T06:50:59.476729",
     "exception": false,
     "start_time": "2021-07-20T06:50:59.374046",
     "status": "completed"
    },
    "tags": []
   },
   "source": [
    "Checking for outliers. Checking Min and Max threshold values and Plotting box plot on Price column.."
   ]
  },
  {
   "cell_type": "code",
   "execution_count": 43,
   "id": "e09b8dcf",
   "metadata": {
    "execution": {
     "iopub.execute_input": "2021-07-20T06:50:59.687552Z",
     "iopub.status.busy": "2021-07-20T06:50:59.686845Z",
     "iopub.status.idle": "2021-07-20T06:50:59.707800Z",
     "shell.execute_reply": "2021-07-20T06:50:59.707150Z",
     "shell.execute_reply.started": "2021-07-20T06:48:02.731826Z"
    },
    "papermill": {
     "duration": 0.12831,
     "end_time": "2021-07-20T06:50:59.707947",
     "exception": false,
     "start_time": "2021-07-20T06:50:59.579637",
     "status": "completed"
    },
    "tags": []
   },
   "outputs": [
    {
     "data": {
      "text/plain": [
       "42.5"
      ]
     },
     "execution_count": 43,
     "metadata": {},
     "output_type": "execute_result"
    }
   ],
   "source": [
    "max_threshold = data['price'].quantile(0.99)\n",
    "max_threshold"
   ]
  },
  {
   "cell_type": "code",
   "execution_count": 44,
   "id": "3a12c21b",
   "metadata": {
    "execution": {
     "iopub.execute_input": "2021-07-20T06:50:59.924663Z",
     "iopub.status.busy": "2021-07-20T06:50:59.923955Z",
     "iopub.status.idle": "2021-07-20T06:50:59.963877Z",
     "shell.execute_reply": "2021-07-20T06:50:59.964379Z",
     "shell.execute_reply.started": "2021-07-20T06:48:02.758909Z"
    },
    "papermill": {
     "duration": 0.152451,
     "end_time": "2021-07-20T06:50:59.964561",
     "exception": false,
     "start_time": "2021-07-20T06:50:59.812110",
     "status": "completed"
    },
    "tags": []
   },
   "outputs": [
    {
     "data": {
      "text/html": [
       "<div>\n",
       "<style scoped>\n",
       "    .dataframe tbody tr th:only-of-type {\n",
       "        vertical-align: middle;\n",
       "    }\n",
       "\n",
       "    .dataframe tbody tr th {\n",
       "        vertical-align: top;\n",
       "    }\n",
       "\n",
       "    .dataframe thead th {\n",
       "        text-align: right;\n",
       "    }\n",
       "</style>\n",
       "<table border=\"1\" class=\"dataframe\">\n",
       "  <thead>\n",
       "    <tr style=\"text-align: right;\">\n",
       "      <th></th>\n",
       "      <th>index</th>\n",
       "      <th>price</th>\n",
       "      <th>distance</th>\n",
       "      <th>surge_multiplier</th>\n",
       "      <th>name_Black</th>\n",
       "      <th>name_Black SUV</th>\n",
       "      <th>name_Lux</th>\n",
       "      <th>name_Lux Black</th>\n",
       "      <th>name_Lux Black XL</th>\n",
       "      <th>name_Lyft</th>\n",
       "      <th>name_Lyft XL</th>\n",
       "      <th>name_Shared</th>\n",
       "      <th>name_Taxi</th>\n",
       "      <th>name_UberPool</th>\n",
       "      <th>name_UberX</th>\n",
       "      <th>name_UberXL</th>\n",
       "      <th>name_WAV</th>\n",
       "    </tr>\n",
       "  </thead>\n",
       "  <tbody>\n",
       "    <tr>\n",
       "      <th>645</th>\n",
       "      <td>706</td>\n",
       "      <td>52.5</td>\n",
       "      <td>3.25</td>\n",
       "      <td>2.00</td>\n",
       "      <td>0.0</td>\n",
       "      <td>0.0</td>\n",
       "      <td>0.0</td>\n",
       "      <td>1.0</td>\n",
       "      <td>0.0</td>\n",
       "      <td>0.0</td>\n",
       "      <td>0.0</td>\n",
       "      <td>0.0</td>\n",
       "      <td>0.0</td>\n",
       "      <td>0.0</td>\n",
       "      <td>0.0</td>\n",
       "      <td>0.0</td>\n",
       "      <td>0.0</td>\n",
       "    </tr>\n",
       "    <tr>\n",
       "      <th>646</th>\n",
       "      <td>707</td>\n",
       "      <td>67.5</td>\n",
       "      <td>3.25</td>\n",
       "      <td>2.00</td>\n",
       "      <td>0.0</td>\n",
       "      <td>0.0</td>\n",
       "      <td>0.0</td>\n",
       "      <td>0.0</td>\n",
       "      <td>1.0</td>\n",
       "      <td>0.0</td>\n",
       "      <td>0.0</td>\n",
       "      <td>0.0</td>\n",
       "      <td>0.0</td>\n",
       "      <td>0.0</td>\n",
       "      <td>0.0</td>\n",
       "      <td>0.0</td>\n",
       "      <td>0.0</td>\n",
       "    </tr>\n",
       "    <tr>\n",
       "      <th>706</th>\n",
       "      <td>769</td>\n",
       "      <td>45.5</td>\n",
       "      <td>4.76</td>\n",
       "      <td>1.00</td>\n",
       "      <td>0.0</td>\n",
       "      <td>0.0</td>\n",
       "      <td>0.0</td>\n",
       "      <td>0.0</td>\n",
       "      <td>1.0</td>\n",
       "      <td>0.0</td>\n",
       "      <td>0.0</td>\n",
       "      <td>0.0</td>\n",
       "      <td>0.0</td>\n",
       "      <td>0.0</td>\n",
       "      <td>0.0</td>\n",
       "      <td>0.0</td>\n",
       "      <td>0.0</td>\n",
       "    </tr>\n",
       "    <tr>\n",
       "      <th>1005</th>\n",
       "      <td>1094</td>\n",
       "      <td>45.5</td>\n",
       "      <td>4.31</td>\n",
       "      <td>1.00</td>\n",
       "      <td>0.0</td>\n",
       "      <td>0.0</td>\n",
       "      <td>0.0</td>\n",
       "      <td>0.0</td>\n",
       "      <td>1.0</td>\n",
       "      <td>0.0</td>\n",
       "      <td>0.0</td>\n",
       "      <td>0.0</td>\n",
       "      <td>0.0</td>\n",
       "      <td>0.0</td>\n",
       "      <td>0.0</td>\n",
       "      <td>0.0</td>\n",
       "      <td>0.0</td>\n",
       "    </tr>\n",
       "    <tr>\n",
       "      <th>1210</th>\n",
       "      <td>1318</td>\n",
       "      <td>45.5</td>\n",
       "      <td>5.33</td>\n",
       "      <td>1.00</td>\n",
       "      <td>0.0</td>\n",
       "      <td>0.0</td>\n",
       "      <td>0.0</td>\n",
       "      <td>0.0</td>\n",
       "      <td>1.0</td>\n",
       "      <td>0.0</td>\n",
       "      <td>0.0</td>\n",
       "      <td>0.0</td>\n",
       "      <td>0.0</td>\n",
       "      <td>0.0</td>\n",
       "      <td>0.0</td>\n",
       "      <td>0.0</td>\n",
       "      <td>0.0</td>\n",
       "    </tr>\n",
       "    <tr>\n",
       "      <th>...</th>\n",
       "      <td>...</td>\n",
       "      <td>...</td>\n",
       "      <td>...</td>\n",
       "      <td>...</td>\n",
       "      <td>...</td>\n",
       "      <td>...</td>\n",
       "      <td>...</td>\n",
       "      <td>...</td>\n",
       "      <td>...</td>\n",
       "      <td>...</td>\n",
       "      <td>...</td>\n",
       "      <td>...</td>\n",
       "      <td>...</td>\n",
       "      <td>...</td>\n",
       "      <td>...</td>\n",
       "      <td>...</td>\n",
       "      <td>...</td>\n",
       "    </tr>\n",
       "    <tr>\n",
       "      <th>637394</th>\n",
       "      <td>692439</td>\n",
       "      <td>47.0</td>\n",
       "      <td>5.56</td>\n",
       "      <td>1.00</td>\n",
       "      <td>0.0</td>\n",
       "      <td>1.0</td>\n",
       "      <td>0.0</td>\n",
       "      <td>0.0</td>\n",
       "      <td>0.0</td>\n",
       "      <td>0.0</td>\n",
       "      <td>0.0</td>\n",
       "      <td>0.0</td>\n",
       "      <td>0.0</td>\n",
       "      <td>0.0</td>\n",
       "      <td>0.0</td>\n",
       "      <td>0.0</td>\n",
       "      <td>0.0</td>\n",
       "    </tr>\n",
       "    <tr>\n",
       "      <th>637637</th>\n",
       "      <td>692698</td>\n",
       "      <td>52.5</td>\n",
       "      <td>4.58</td>\n",
       "      <td>1.25</td>\n",
       "      <td>0.0</td>\n",
       "      <td>0.0</td>\n",
       "      <td>0.0</td>\n",
       "      <td>0.0</td>\n",
       "      <td>1.0</td>\n",
       "      <td>0.0</td>\n",
       "      <td>0.0</td>\n",
       "      <td>0.0</td>\n",
       "      <td>0.0</td>\n",
       "      <td>0.0</td>\n",
       "      <td>0.0</td>\n",
       "      <td>0.0</td>\n",
       "      <td>0.0</td>\n",
       "    </tr>\n",
       "    <tr>\n",
       "      <th>637813</th>\n",
       "      <td>692891</td>\n",
       "      <td>47.5</td>\n",
       "      <td>5.42</td>\n",
       "      <td>1.00</td>\n",
       "      <td>0.0</td>\n",
       "      <td>0.0</td>\n",
       "      <td>0.0</td>\n",
       "      <td>0.0</td>\n",
       "      <td>1.0</td>\n",
       "      <td>0.0</td>\n",
       "      <td>0.0</td>\n",
       "      <td>0.0</td>\n",
       "      <td>0.0</td>\n",
       "      <td>0.0</td>\n",
       "      <td>0.0</td>\n",
       "      <td>0.0</td>\n",
       "      <td>0.0</td>\n",
       "    </tr>\n",
       "    <tr>\n",
       "      <th>637878</th>\n",
       "      <td>692962</td>\n",
       "      <td>51.0</td>\n",
       "      <td>7.36</td>\n",
       "      <td>1.00</td>\n",
       "      <td>0.0</td>\n",
       "      <td>1.0</td>\n",
       "      <td>0.0</td>\n",
       "      <td>0.0</td>\n",
       "      <td>0.0</td>\n",
       "      <td>0.0</td>\n",
       "      <td>0.0</td>\n",
       "      <td>0.0</td>\n",
       "      <td>0.0</td>\n",
       "      <td>0.0</td>\n",
       "      <td>0.0</td>\n",
       "      <td>0.0</td>\n",
       "      <td>0.0</td>\n",
       "    </tr>\n",
       "    <tr>\n",
       "      <th>637917</th>\n",
       "      <td>693007</td>\n",
       "      <td>49.5</td>\n",
       "      <td>7.36</td>\n",
       "      <td>1.00</td>\n",
       "      <td>0.0</td>\n",
       "      <td>1.0</td>\n",
       "      <td>0.0</td>\n",
       "      <td>0.0</td>\n",
       "      <td>0.0</td>\n",
       "      <td>0.0</td>\n",
       "      <td>0.0</td>\n",
       "      <td>0.0</td>\n",
       "      <td>0.0</td>\n",
       "      <td>0.0</td>\n",
       "      <td>0.0</td>\n",
       "      <td>0.0</td>\n",
       "      <td>0.0</td>\n",
       "    </tr>\n",
       "  </tbody>\n",
       "</table>\n",
       "<p>5589 rows × 17 columns</p>\n",
       "</div>"
      ],
      "text/plain": [
       "         index  price  distance  surge_multiplier  name_Black  name_Black SUV  \\\n",
       "645        706   52.5      3.25              2.00         0.0             0.0   \n",
       "646        707   67.5      3.25              2.00         0.0             0.0   \n",
       "706        769   45.5      4.76              1.00         0.0             0.0   \n",
       "1005      1094   45.5      4.31              1.00         0.0             0.0   \n",
       "1210      1318   45.5      5.33              1.00         0.0             0.0   \n",
       "...        ...    ...       ...               ...         ...             ...   \n",
       "637394  692439   47.0      5.56              1.00         0.0             1.0   \n",
       "637637  692698   52.5      4.58              1.25         0.0             0.0   \n",
       "637813  692891   47.5      5.42              1.00         0.0             0.0   \n",
       "637878  692962   51.0      7.36              1.00         0.0             1.0   \n",
       "637917  693007   49.5      7.36              1.00         0.0             1.0   \n",
       "\n",
       "        name_Lux  name_Lux Black  name_Lux Black XL  name_Lyft  name_Lyft XL  \\\n",
       "645          0.0             1.0                0.0        0.0           0.0   \n",
       "646          0.0             0.0                1.0        0.0           0.0   \n",
       "706          0.0             0.0                1.0        0.0           0.0   \n",
       "1005         0.0             0.0                1.0        0.0           0.0   \n",
       "1210         0.0             0.0                1.0        0.0           0.0   \n",
       "...          ...             ...                ...        ...           ...   \n",
       "637394       0.0             0.0                0.0        0.0           0.0   \n",
       "637637       0.0             0.0                1.0        0.0           0.0   \n",
       "637813       0.0             0.0                1.0        0.0           0.0   \n",
       "637878       0.0             0.0                0.0        0.0           0.0   \n",
       "637917       0.0             0.0                0.0        0.0           0.0   \n",
       "\n",
       "        name_Shared  name_Taxi  name_UberPool  name_UberX  name_UberXL  \\\n",
       "645             0.0        0.0            0.0         0.0          0.0   \n",
       "646             0.0        0.0            0.0         0.0          0.0   \n",
       "706             0.0        0.0            0.0         0.0          0.0   \n",
       "1005            0.0        0.0            0.0         0.0          0.0   \n",
       "1210            0.0        0.0            0.0         0.0          0.0   \n",
       "...             ...        ...            ...         ...          ...   \n",
       "637394          0.0        0.0            0.0         0.0          0.0   \n",
       "637637          0.0        0.0            0.0         0.0          0.0   \n",
       "637813          0.0        0.0            0.0         0.0          0.0   \n",
       "637878          0.0        0.0            0.0         0.0          0.0   \n",
       "637917          0.0        0.0            0.0         0.0          0.0   \n",
       "\n",
       "        name_WAV  \n",
       "645          0.0  \n",
       "646          0.0  \n",
       "706          0.0  \n",
       "1005         0.0  \n",
       "1210         0.0  \n",
       "...          ...  \n",
       "637394       0.0  \n",
       "637637       0.0  \n",
       "637813       0.0  \n",
       "637878       0.0  \n",
       "637917       0.0  \n",
       "\n",
       "[5589 rows x 17 columns]"
      ]
     },
     "execution_count": 44,
     "metadata": {},
     "output_type": "execute_result"
    }
   ],
   "source": [
    "data[data['price']>max_threshold]"
   ]
  },
  {
   "cell_type": "code",
   "execution_count": 45,
   "id": "e8cfefb6",
   "metadata": {
    "execution": {
     "iopub.execute_input": "2021-07-20T06:51:00.177419Z",
     "iopub.status.busy": "2021-07-20T06:51:00.176797Z",
     "iopub.status.idle": "2021-07-20T06:51:00.190728Z",
     "shell.execute_reply": "2021-07-20T06:51:00.190223Z",
     "shell.execute_reply.started": "2021-07-20T06:48:02.803363Z"
    },
    "papermill": {
     "duration": 0.122188,
     "end_time": "2021-07-20T06:51:00.190882",
     "exception": false,
     "start_time": "2021-07-20T06:51:00.068694",
     "status": "completed"
    },
    "tags": []
   },
   "outputs": [
    {
     "data": {
      "text/plain": [
       "3.5"
      ]
     },
     "execution_count": 45,
     "metadata": {},
     "output_type": "execute_result"
    }
   ],
   "source": [
    "min_threshold = data['price'].quantile(0.01)\n",
    "min_threshold"
   ]
  },
  {
   "cell_type": "code",
   "execution_count": 46,
   "id": "5d0ae688",
   "metadata": {
    "execution": {
     "iopub.execute_input": "2021-07-20T06:51:00.406579Z",
     "iopub.status.busy": "2021-07-20T06:51:00.405669Z",
     "iopub.status.idle": "2021-07-20T06:51:00.445262Z",
     "shell.execute_reply": "2021-07-20T06:51:00.444652Z",
     "shell.execute_reply.started": "2021-07-20T06:48:02.820033Z"
    },
    "papermill": {
     "duration": 0.150497,
     "end_time": "2021-07-20T06:51:00.445399",
     "exception": false,
     "start_time": "2021-07-20T06:51:00.294902",
     "status": "completed"
    },
    "tags": []
   },
   "outputs": [
    {
     "data": {
      "text/html": [
       "<div>\n",
       "<style scoped>\n",
       "    .dataframe tbody tr th:only-of-type {\n",
       "        vertical-align: middle;\n",
       "    }\n",
       "\n",
       "    .dataframe tbody tr th {\n",
       "        vertical-align: top;\n",
       "    }\n",
       "\n",
       "    .dataframe thead th {\n",
       "        text-align: right;\n",
       "    }\n",
       "</style>\n",
       "<table border=\"1\" class=\"dataframe\">\n",
       "  <thead>\n",
       "    <tr style=\"text-align: right;\">\n",
       "      <th></th>\n",
       "      <th>index</th>\n",
       "      <th>price</th>\n",
       "      <th>distance</th>\n",
       "      <th>surge_multiplier</th>\n",
       "      <th>name_Black</th>\n",
       "      <th>name_Black SUV</th>\n",
       "      <th>name_Lux</th>\n",
       "      <th>name_Lux Black</th>\n",
       "      <th>name_Lux Black XL</th>\n",
       "      <th>name_Lyft</th>\n",
       "      <th>name_Lyft XL</th>\n",
       "      <th>name_Shared</th>\n",
       "      <th>name_Taxi</th>\n",
       "      <th>name_UberPool</th>\n",
       "      <th>name_UberX</th>\n",
       "      <th>name_UberXL</th>\n",
       "      <th>name_WAV</th>\n",
       "    </tr>\n",
       "  </thead>\n",
       "  <tbody>\n",
       "    <tr>\n",
       "      <th>8</th>\n",
       "      <td>8</td>\n",
       "      <td>3.0</td>\n",
       "      <td>1.08</td>\n",
       "      <td>1.0</td>\n",
       "      <td>0.0</td>\n",
       "      <td>0.0</td>\n",
       "      <td>0.0</td>\n",
       "      <td>0.0</td>\n",
       "      <td>0.0</td>\n",
       "      <td>0.0</td>\n",
       "      <td>0.0</td>\n",
       "      <td>1.0</td>\n",
       "      <td>0.0</td>\n",
       "      <td>0.0</td>\n",
       "      <td>0.0</td>\n",
       "      <td>0.0</td>\n",
       "      <td>0.0</td>\n",
       "    </tr>\n",
       "    <tr>\n",
       "      <th>50</th>\n",
       "      <td>53</td>\n",
       "      <td>3.0</td>\n",
       "      <td>0.71</td>\n",
       "      <td>1.0</td>\n",
       "      <td>0.0</td>\n",
       "      <td>0.0</td>\n",
       "      <td>0.0</td>\n",
       "      <td>0.0</td>\n",
       "      <td>0.0</td>\n",
       "      <td>0.0</td>\n",
       "      <td>0.0</td>\n",
       "      <td>1.0</td>\n",
       "      <td>0.0</td>\n",
       "      <td>0.0</td>\n",
       "      <td>0.0</td>\n",
       "      <td>0.0</td>\n",
       "      <td>0.0</td>\n",
       "    </tr>\n",
       "    <tr>\n",
       "      <th>159</th>\n",
       "      <td>174</td>\n",
       "      <td>3.0</td>\n",
       "      <td>1.40</td>\n",
       "      <td>1.0</td>\n",
       "      <td>0.0</td>\n",
       "      <td>0.0</td>\n",
       "      <td>0.0</td>\n",
       "      <td>0.0</td>\n",
       "      <td>0.0</td>\n",
       "      <td>0.0</td>\n",
       "      <td>0.0</td>\n",
       "      <td>1.0</td>\n",
       "      <td>0.0</td>\n",
       "      <td>0.0</td>\n",
       "      <td>0.0</td>\n",
       "      <td>0.0</td>\n",
       "      <td>0.0</td>\n",
       "    </tr>\n",
       "    <tr>\n",
       "      <th>312</th>\n",
       "      <td>336</td>\n",
       "      <td>3.0</td>\n",
       "      <td>1.02</td>\n",
       "      <td>1.0</td>\n",
       "      <td>0.0</td>\n",
       "      <td>0.0</td>\n",
       "      <td>0.0</td>\n",
       "      <td>0.0</td>\n",
       "      <td>0.0</td>\n",
       "      <td>0.0</td>\n",
       "      <td>0.0</td>\n",
       "      <td>1.0</td>\n",
       "      <td>0.0</td>\n",
       "      <td>0.0</td>\n",
       "      <td>0.0</td>\n",
       "      <td>0.0</td>\n",
       "      <td>0.0</td>\n",
       "    </tr>\n",
       "    <tr>\n",
       "      <th>361</th>\n",
       "      <td>390</td>\n",
       "      <td>3.0</td>\n",
       "      <td>0.64</td>\n",
       "      <td>1.0</td>\n",
       "      <td>0.0</td>\n",
       "      <td>0.0</td>\n",
       "      <td>0.0</td>\n",
       "      <td>0.0</td>\n",
       "      <td>0.0</td>\n",
       "      <td>0.0</td>\n",
       "      <td>0.0</td>\n",
       "      <td>1.0</td>\n",
       "      <td>0.0</td>\n",
       "      <td>0.0</td>\n",
       "      <td>0.0</td>\n",
       "      <td>0.0</td>\n",
       "      <td>0.0</td>\n",
       "    </tr>\n",
       "    <tr>\n",
       "      <th>...</th>\n",
       "      <td>...</td>\n",
       "      <td>...</td>\n",
       "      <td>...</td>\n",
       "      <td>...</td>\n",
       "      <td>...</td>\n",
       "      <td>...</td>\n",
       "      <td>...</td>\n",
       "      <td>...</td>\n",
       "      <td>...</td>\n",
       "      <td>...</td>\n",
       "      <td>...</td>\n",
       "      <td>...</td>\n",
       "      <td>...</td>\n",
       "      <td>...</td>\n",
       "      <td>...</td>\n",
       "      <td>...</td>\n",
       "      <td>...</td>\n",
       "    </tr>\n",
       "    <tr>\n",
       "      <th>637611</th>\n",
       "      <td>692670</td>\n",
       "      <td>3.0</td>\n",
       "      <td>1.69</td>\n",
       "      <td>1.0</td>\n",
       "      <td>0.0</td>\n",
       "      <td>0.0</td>\n",
       "      <td>0.0</td>\n",
       "      <td>0.0</td>\n",
       "      <td>0.0</td>\n",
       "      <td>0.0</td>\n",
       "      <td>0.0</td>\n",
       "      <td>1.0</td>\n",
       "      <td>0.0</td>\n",
       "      <td>0.0</td>\n",
       "      <td>0.0</td>\n",
       "      <td>0.0</td>\n",
       "      <td>0.0</td>\n",
       "    </tr>\n",
       "    <tr>\n",
       "      <th>637660</th>\n",
       "      <td>692723</td>\n",
       "      <td>3.0</td>\n",
       "      <td>3.08</td>\n",
       "      <td>1.0</td>\n",
       "      <td>0.0</td>\n",
       "      <td>0.0</td>\n",
       "      <td>0.0</td>\n",
       "      <td>0.0</td>\n",
       "      <td>0.0</td>\n",
       "      <td>0.0</td>\n",
       "      <td>0.0</td>\n",
       "      <td>1.0</td>\n",
       "      <td>0.0</td>\n",
       "      <td>0.0</td>\n",
       "      <td>0.0</td>\n",
       "      <td>0.0</td>\n",
       "      <td>0.0</td>\n",
       "    </tr>\n",
       "    <tr>\n",
       "      <th>637705</th>\n",
       "      <td>692772</td>\n",
       "      <td>3.0</td>\n",
       "      <td>0.70</td>\n",
       "      <td>1.0</td>\n",
       "      <td>0.0</td>\n",
       "      <td>0.0</td>\n",
       "      <td>0.0</td>\n",
       "      <td>0.0</td>\n",
       "      <td>0.0</td>\n",
       "      <td>0.0</td>\n",
       "      <td>0.0</td>\n",
       "      <td>1.0</td>\n",
       "      <td>0.0</td>\n",
       "      <td>0.0</td>\n",
       "      <td>0.0</td>\n",
       "      <td>0.0</td>\n",
       "      <td>0.0</td>\n",
       "    </tr>\n",
       "    <tr>\n",
       "      <th>637779</th>\n",
       "      <td>692854</td>\n",
       "      <td>3.0</td>\n",
       "      <td>3.13</td>\n",
       "      <td>1.0</td>\n",
       "      <td>0.0</td>\n",
       "      <td>0.0</td>\n",
       "      <td>0.0</td>\n",
       "      <td>0.0</td>\n",
       "      <td>0.0</td>\n",
       "      <td>0.0</td>\n",
       "      <td>0.0</td>\n",
       "      <td>1.0</td>\n",
       "      <td>0.0</td>\n",
       "      <td>0.0</td>\n",
       "      <td>0.0</td>\n",
       "      <td>0.0</td>\n",
       "      <td>0.0</td>\n",
       "    </tr>\n",
       "    <tr>\n",
       "      <th>637829</th>\n",
       "      <td>692908</td>\n",
       "      <td>3.0</td>\n",
       "      <td>1.42</td>\n",
       "      <td>1.0</td>\n",
       "      <td>0.0</td>\n",
       "      <td>0.0</td>\n",
       "      <td>0.0</td>\n",
       "      <td>0.0</td>\n",
       "      <td>0.0</td>\n",
       "      <td>0.0</td>\n",
       "      <td>0.0</td>\n",
       "      <td>1.0</td>\n",
       "      <td>0.0</td>\n",
       "      <td>0.0</td>\n",
       "      <td>0.0</td>\n",
       "      <td>0.0</td>\n",
       "      <td>0.0</td>\n",
       "    </tr>\n",
       "  </tbody>\n",
       "</table>\n",
       "<p>5754 rows × 17 columns</p>\n",
       "</div>"
      ],
      "text/plain": [
       "         index  price  distance  surge_multiplier  name_Black  name_Black SUV  \\\n",
       "8            8    3.0      1.08               1.0         0.0             0.0   \n",
       "50          53    3.0      0.71               1.0         0.0             0.0   \n",
       "159        174    3.0      1.40               1.0         0.0             0.0   \n",
       "312        336    3.0      1.02               1.0         0.0             0.0   \n",
       "361        390    3.0      0.64               1.0         0.0             0.0   \n",
       "...        ...    ...       ...               ...         ...             ...   \n",
       "637611  692670    3.0      1.69               1.0         0.0             0.0   \n",
       "637660  692723    3.0      3.08               1.0         0.0             0.0   \n",
       "637705  692772    3.0      0.70               1.0         0.0             0.0   \n",
       "637779  692854    3.0      3.13               1.0         0.0             0.0   \n",
       "637829  692908    3.0      1.42               1.0         0.0             0.0   \n",
       "\n",
       "        name_Lux  name_Lux Black  name_Lux Black XL  name_Lyft  name_Lyft XL  \\\n",
       "8            0.0             0.0                0.0        0.0           0.0   \n",
       "50           0.0             0.0                0.0        0.0           0.0   \n",
       "159          0.0             0.0                0.0        0.0           0.0   \n",
       "312          0.0             0.0                0.0        0.0           0.0   \n",
       "361          0.0             0.0                0.0        0.0           0.0   \n",
       "...          ...             ...                ...        ...           ...   \n",
       "637611       0.0             0.0                0.0        0.0           0.0   \n",
       "637660       0.0             0.0                0.0        0.0           0.0   \n",
       "637705       0.0             0.0                0.0        0.0           0.0   \n",
       "637779       0.0             0.0                0.0        0.0           0.0   \n",
       "637829       0.0             0.0                0.0        0.0           0.0   \n",
       "\n",
       "        name_Shared  name_Taxi  name_UberPool  name_UberX  name_UberXL  \\\n",
       "8               1.0        0.0            0.0         0.0          0.0   \n",
       "50              1.0        0.0            0.0         0.0          0.0   \n",
       "159             1.0        0.0            0.0         0.0          0.0   \n",
       "312             1.0        0.0            0.0         0.0          0.0   \n",
       "361             1.0        0.0            0.0         0.0          0.0   \n",
       "...             ...        ...            ...         ...          ...   \n",
       "637611          1.0        0.0            0.0         0.0          0.0   \n",
       "637660          1.0        0.0            0.0         0.0          0.0   \n",
       "637705          1.0        0.0            0.0         0.0          0.0   \n",
       "637779          1.0        0.0            0.0         0.0          0.0   \n",
       "637829          1.0        0.0            0.0         0.0          0.0   \n",
       "\n",
       "        name_WAV  \n",
       "8            0.0  \n",
       "50           0.0  \n",
       "159          0.0  \n",
       "312          0.0  \n",
       "361          0.0  \n",
       "...          ...  \n",
       "637611       0.0  \n",
       "637660       0.0  \n",
       "637705       0.0  \n",
       "637779       0.0  \n",
       "637829       0.0  \n",
       "\n",
       "[5754 rows x 17 columns]"
      ]
     },
     "execution_count": 46,
     "metadata": {},
     "output_type": "execute_result"
    }
   ],
   "source": [
    "data[data['price']<min_threshold]"
   ]
  },
  {
   "cell_type": "code",
   "execution_count": 47,
   "id": "529b0f6d",
   "metadata": {
    "execution": {
     "iopub.execute_input": "2021-07-20T06:51:00.665347Z",
     "iopub.status.busy": "2021-07-20T06:51:00.664147Z",
     "iopub.status.idle": "2021-07-20T06:51:00.829118Z",
     "shell.execute_reply": "2021-07-20T06:51:00.829594Z",
     "shell.execute_reply.started": "2021-07-20T06:48:02.866583Z"
    },
    "papermill": {
     "duration": 0.277886,
     "end_time": "2021-07-20T06:51:00.829789",
     "exception": false,
     "start_time": "2021-07-20T06:51:00.551903",
     "status": "completed"
    },
    "tags": []
   },
   "outputs": [
    {
     "name": "stderr",
     "output_type": "stream",
     "text": [
      "/opt/conda/lib/python3.7/site-packages/seaborn/_decorators.py:43: FutureWarning: Pass the following variable as a keyword arg: x. From version 0.12, the only valid positional argument will be `data`, and passing other arguments without an explicit keyword will result in an error or misinterpretation.\n",
      "  FutureWarning\n"
     ]
    },
    {
     "data": {
      "text/plain": [
       "<AxesSubplot:xlabel='price'>"
      ]
     },
     "execution_count": 47,
     "metadata": {},
     "output_type": "execute_result"
    },
    {
     "data": {
      "image/png": "[encoded data removed]",
      "text/plain": [
       "<Figure size 432x288 with 1 Axes>"
      ]
     },
     "metadata": {
      "needs_background": "light"
     },
     "output_type": "display_data"
    }
   ],
   "source": [
    "sb.boxplot(data['price'])"
   ]
  },
  {
   "cell_type": "markdown",
   "id": "865c4b89",
   "metadata": {
    "papermill": {
     "duration": 0.107756,
     "end_time": "2021-07-20T06:51:01.043863",
     "exception": false,
     "start_time": "2021-07-20T06:51:00.936107",
     "status": "completed"
    },
    "tags": []
   },
   "source": [
    "Values above 43 are the outliers of our dataset. Checking the indexes and count of those observtions:"
   ]
  },
  {
   "cell_type": "code",
   "execution_count": 48,
   "id": "f43b9596",
   "metadata": {
    "execution": {
     "iopub.execute_input": "2021-07-20T06:51:01.265717Z",
     "iopub.status.busy": "2021-07-20T06:51:01.264681Z",
     "iopub.status.idle": "2021-07-20T06:51:01.273037Z",
     "shell.execute_reply": "2021-07-20T06:51:01.273584Z",
     "shell.execute_reply.started": "2021-07-20T06:48:36.895360Z"
    },
    "papermill": {
     "duration": 0.122324,
     "end_time": "2021-07-20T06:51:01.273768",
     "exception": false,
     "start_time": "2021-07-20T06:51:01.151444",
     "status": "completed"
    },
    "tags": []
   },
   "outputs": [
    {
     "name": "stdout",
     "output_type": "stream",
     "text": [
      "[   645    646    706 ... 637813 637878 637917]\n",
      "5357\n"
     ]
    }
   ],
   "source": [
    "out = np.where(data['price']>43)\n",
    "print(out[0])\n",
    "print(np.count_nonzero(np.where(data['price']>43)))"
   ]
  },
  {
   "cell_type": "markdown",
   "id": "b6d144dd",
   "metadata": {
    "papermill": {
     "duration": 0.10788,
     "end_time": "2021-07-20T06:51:01.498372",
     "exception": false,
     "start_time": "2021-07-20T06:51:01.390492",
     "status": "completed"
    },
    "tags": []
   },
   "source": [
    "Removing all the 5357 rows in that array, as if these outliers are included, error value will increase"
   ]
  },
  {
   "cell_type": "code",
   "execution_count": 49,
   "id": "6bbf8f1f",
   "metadata": {
    "execution": {
     "iopub.execute_input": "2021-07-20T06:51:01.722959Z",
     "iopub.status.busy": "2021-07-20T06:51:01.721964Z",
     "iopub.status.idle": "2021-07-20T06:51:01.781116Z",
     "shell.execute_reply": "2021-07-20T06:51:01.780591Z",
     "shell.execute_reply.started": "2021-07-20T06:48:41.322151Z"
    },
    "papermill": {
     "duration": 0.176486,
     "end_time": "2021-07-20T06:51:01.781272",
     "exception": false,
     "start_time": "2021-07-20T06:51:01.604786",
     "status": "completed"
    },
    "tags": []
   },
   "outputs": [
    {
     "data": {
      "text/plain": [
       "(632619, 17)"
      ]
     },
     "execution_count": 49,
     "metadata": {},
     "output_type": "execute_result"
    }
   ],
   "source": [
    "data.drop(out[0], inplace = True)\n",
    "data.shape"
   ]
  },
  {
   "cell_type": "markdown",
   "id": "399aa6cd",
   "metadata": {
    "papermill": {
     "duration": 0.107198,
     "end_time": "2021-07-20T06:51:01.995646",
     "exception": false,
     "start_time": "2021-07-20T06:51:01.888448",
     "status": "completed"
    },
    "tags": []
   },
   "source": [
    "Checking for skewness across all features"
   ]
  },
  {
   "cell_type": "code",
   "execution_count": 50,
   "id": "cc440f51",
   "metadata": {
    "execution": {
     "iopub.execute_input": "2021-07-20T06:51:02.217040Z",
     "iopub.status.busy": "2021-07-20T06:51:02.216342Z",
     "iopub.status.idle": "2021-07-20T06:51:08.342314Z",
     "shell.execute_reply": "2021-07-20T06:51:08.341802Z",
     "shell.execute_reply.started": "2021-07-20T06:48:44.985659Z"
    },
    "papermill": {
     "duration": 6.239538,
     "end_time": "2021-07-20T06:51:08.342497",
     "exception": false,
     "start_time": "2021-07-20T06:51:02.102959",
     "status": "completed"
    },
    "tags": []
   },
   "outputs": [
    {
     "name": "stdout",
     "output_type": "stream",
     "text": [
      "distance\n",
      "0.7791878507534234\n"
     ]
    },
    {
     "name": "stderr",
     "output_type": "stream",
     "text": [
      "/opt/conda/lib/python3.7/site-packages/seaborn/distributions.py:2557: FutureWarning: `distplot` is a deprecated function and will be removed in a future version. Please adapt your code to use either `displot` (a figure-level function with similar flexibility) or `histplot` (an axes-level function for histograms).\n",
      "  warnings.warn(msg, FutureWarning)\n"
     ]
    },
    {
     "data": {
      "image/png": "[encoded data removed]",
      "text/plain": [
       "<Figure size 432x288 with 1 Axes>"
      ]
     },
     "metadata": {
      "needs_background": "light"
     },
     "output_type": "display_data"
    },
    {
     "name": "stdout",
     "output_type": "stream",
     "text": [
      "surge_multiplier\n",
      "8.849268779215398\n"
     ]
    },
    {
     "name": "stderr",
     "output_type": "stream",
     "text": [
      "/opt/conda/lib/python3.7/site-packages/seaborn/distributions.py:2557: FutureWarning: `distplot` is a deprecated function and will be removed in a future version. Please adapt your code to use either `displot` (a figure-level function with similar flexibility) or `histplot` (an axes-level function for histograms).\n",
      "  warnings.warn(msg, FutureWarning)\n"
     ]
    },
    {
     "data": {
      "image/png": "[encoded data removed]",
      "text/plain": [
       "<Figure size 432x288 with 1 Axes>"
      ]
     },
     "metadata": {
      "needs_background": "light"
     },
     "output_type": "display_data"
    }
   ],
   "source": [
    "from scipy.stats import skew\n",
    "cols = ['distance','surge_multiplier']\n",
    "for col in cols:\n",
    "    print(col)\n",
    "    print(skew(data[col]))\n",
    "    plt.figure()\n",
    "    sb.distplot(data[col])\n",
    "    plt.show()"
   ]
  },
  {
   "cell_type": "markdown",
   "id": "a125ec30",
   "metadata": {
    "papermill": {
     "duration": 0.110617,
     "end_time": "2021-07-20T06:51:08.563606",
     "exception": false,
     "start_time": "2021-07-20T06:51:08.452989",
     "status": "completed"
    },
    "tags": []
   },
   "source": [
    "Distance and Surge multiplier are very highly skewed with values 0.77 and 8.84 respectively. Cross checking the correlation values of these columns with predictant(price)."
   ]
  },
  {
   "cell_type": "code",
   "execution_count": 51,
   "id": "9323d486",
   "metadata": {
    "execution": {
     "iopub.execute_input": "2021-07-20T06:51:08.789133Z",
     "iopub.status.busy": "2021-07-20T06:51:08.788497Z",
     "iopub.status.idle": "2021-07-20T06:51:09.112852Z",
     "shell.execute_reply": "2021-07-20T06:51:09.112200Z",
     "shell.execute_reply.started": "2021-07-20T06:48:58.266281Z"
    },
    "papermill": {
     "duration": 0.438802,
     "end_time": "2021-07-20T06:51:09.112991",
     "exception": false,
     "start_time": "2021-07-20T06:51:08.674189",
     "status": "completed"
    },
    "tags": []
   },
   "outputs": [
    {
     "data": {
      "text/plain": [
       "<AxesSubplot:>"
      ]
     },
     "execution_count": 51,
     "metadata": {},
     "output_type": "execute_result"
    },
    {
     "data": {
      "image/png": "[encoded data removed]",
      "text/plain": [
       "<Figure size 576x576 with 2 Axes>"
      ]
     },
     "metadata": {
      "needs_background": "light"
     },
     "output_type": "display_data"
    }
   ],
   "source": [
    "#plotting heatmap with correlation on data_new dataframe\n",
    "cols = ['price','distance','surge_multiplier']\n",
    "data_new = data[cols]\n",
    "\n",
    "plt.figure(figsize=(8,8))\n",
    "sb.heatmap(data_new.corr(),annot=True, mask=np.triu(data_new.corr()))"
   ]
  },
  {
   "cell_type": "markdown",
   "id": "da8286c7",
   "metadata": {
    "papermill": {
     "duration": 0.112445,
     "end_time": "2021-07-20T06:51:09.337583",
     "exception": false,
     "start_time": "2021-07-20T06:51:09.225138",
     "status": "completed"
    },
    "tags": []
   },
   "source": [
    "Surge multiplier has a very high skew value and less correlation with Price, whereas distance has decent correlation. So removing skewness from Surge multiplier alone using BoxCox transform"
   ]
  },
  {
   "cell_type": "code",
   "execution_count": 52,
   "id": "61323c1d",
   "metadata": {
    "execution": {
     "iopub.execute_input": "2021-07-20T06:51:09.565252Z",
     "iopub.status.busy": "2021-07-20T06:51:09.564639Z",
     "iopub.status.idle": "2021-07-20T06:51:10.246863Z",
     "shell.execute_reply": "2021-07-20T06:51:10.247356Z",
     "shell.execute_reply.started": "2021-07-20T06:49:02.627642Z"
    },
    "papermill": {
     "duration": 0.799048,
     "end_time": "2021-07-20T06:51:10.247556",
     "exception": false,
     "start_time": "2021-07-20T06:51:09.448508",
     "status": "completed"
    },
    "tags": []
   },
   "outputs": [
    {
     "data": {
      "text/plain": [
       "5.644449017653663"
      ]
     },
     "execution_count": 52,
     "metadata": {},
     "output_type": "execute_result"
    }
   ],
   "source": [
    "from scipy import stats\n",
    "\n",
    "data['surge_multiplier'] = stats.boxcox(data['surge_multiplier'])[0]\n",
    "pd.Series(data['surge_multiplier']).skew()"
   ]
  },
  {
   "cell_type": "markdown",
   "id": "6d823351",
   "metadata": {
    "papermill": {
     "duration": 0.111528,
     "end_time": "2021-07-20T06:51:10.471308",
     "exception": false,
     "start_time": "2021-07-20T06:51:10.359780",
     "status": "completed"
    },
    "tags": []
   },
   "source": [
    "Skewness of Surge_multiplier reduced from 8.84 to 5.64"
   ]
  },
  {
   "cell_type": "markdown",
   "id": "0303bc0c",
   "metadata": {
    "papermill": {
     "duration": 0.110872,
     "end_time": "2021-07-20T06:51:10.693642",
     "exception": false,
     "start_time": "2021-07-20T06:51:10.582770",
     "status": "completed"
    },
    "tags": []
   },
   "source": [
    "Splitting data for training and testing"
   ]
  },
  {
   "cell_type": "code",
   "execution_count": 53,
   "id": "9c5efb71",
   "metadata": {
    "execution": {
     "iopub.execute_input": "2021-07-20T06:51:10.923485Z",
     "iopub.status.busy": "2021-07-20T06:51:10.922773Z",
     "iopub.status.idle": "2021-07-20T06:51:11.219107Z",
     "shell.execute_reply": "2021-07-20T06:51:11.218586Z",
     "shell.execute_reply.started": "2021-07-20T06:49:10.290458Z"
    },
    "papermill": {
     "duration": 0.413406,
     "end_time": "2021-07-20T06:51:11.219265",
     "exception": false,
     "start_time": "2021-07-20T06:51:10.805859",
     "status": "completed"
    },
    "tags": []
   },
   "outputs": [],
   "source": [
    "from sklearn.model_selection import train_test_split\n",
    "y = data['price'].values\n",
    "X = data.drop(columns=['price'],axis=1).values\n",
    "\n",
    "X_train, X_test, y_train, y_test = train_test_split(X, y, test_size=0.33, random_state=0)"
   ]
  },
  {
   "cell_type": "markdown",
   "id": "a11c6887",
   "metadata": {
    "papermill": {
     "duration": 0.111708,
     "end_time": "2021-07-20T06:51:11.442412",
     "exception": false,
     "start_time": "2021-07-20T06:51:11.330704",
     "status": "completed"
    },
    "tags": []
   },
   "source": [
    "Performing linear regression on the trained data"
   ]
  },
  {
   "cell_type": "code",
   "execution_count": 54,
   "id": "3672ec75",
   "metadata": {
    "execution": {
     "iopub.execute_input": "2021-07-20T06:51:11.671696Z",
     "iopub.status.busy": "2021-07-20T06:51:11.671036Z",
     "iopub.status.idle": "2021-07-20T06:51:12.063725Z",
     "shell.execute_reply": "2021-07-20T06:51:12.064541Z",
     "shell.execute_reply.started": "2021-07-20T06:49:14.974265Z"
    },
    "papermill": {
     "duration": 0.509728,
     "end_time": "2021-07-20T06:51:12.064845",
     "exception": false,
     "start_time": "2021-07-20T06:51:11.555117",
     "status": "completed"
    },
    "tags": []
   },
   "outputs": [],
   "source": [
    "from sklearn.linear_model import LinearRegression\n",
    "\n",
    "lin_reg = LinearRegression()\n",
    "model = lin_reg.fit(X_train,y_train)\n",
    "y_pred=model.predict(X_test)"
   ]
  },
  {
   "cell_type": "markdown",
   "id": "f0a75385",
   "metadata": {
    "papermill": {
     "duration": 0.112715,
     "end_time": "2021-07-20T06:51:12.339692",
     "exception": false,
     "start_time": "2021-07-20T06:51:12.226977",
     "status": "completed"
    },
    "tags": []
   },
   "source": [
    "Checking R2 value for linear regression"
   ]
  },
  {
   "cell_type": "code",
   "execution_count": 55,
   "id": "82e9db69",
   "metadata": {
    "execution": {
     "iopub.execute_input": "2021-07-20T06:51:12.569067Z",
     "iopub.status.busy": "2021-07-20T06:51:12.568355Z",
     "iopub.status.idle": "2021-07-20T06:51:12.575097Z",
     "shell.execute_reply": "2021-07-20T06:51:12.575594Z",
     "shell.execute_reply.started": "2021-07-20T06:49:18.432542Z"
    },
    "papermill": {
     "duration": 0.123929,
     "end_time": "2021-07-20T06:51:12.575776",
     "exception": false,
     "start_time": "2021-07-20T06:51:12.451847",
     "status": "completed"
    },
    "tags": []
   },
   "outputs": [
    {
     "data": {
      "text/plain": [
       "0.9300420917090527"
      ]
     },
     "execution_count": 55,
     "metadata": {},
     "output_type": "execute_result"
    }
   ],
   "source": [
    "from sklearn.metrics import r2_score\n",
    "r2_score(y_test, y_pred)"
   ]
  },
  {
   "cell_type": "markdown",
   "id": "1ad63810",
   "metadata": {
    "papermill": {
     "duration": 0.11187,
     "end_time": "2021-07-20T06:51:12.800080",
     "exception": false,
     "start_time": "2021-07-20T06:51:12.688210",
     "status": "completed"
    },
    "tags": []
   },
   "source": [
    "Calucating the root mean sqaured error for linear regression"
   ]
  },
  {
   "cell_type": "code",
   "execution_count": 56,
   "id": "4d69659a",
   "metadata": {
    "execution": {
     "iopub.execute_input": "2021-07-20T06:51:13.032864Z",
     "iopub.status.busy": "2021-07-20T06:51:13.031782Z",
     "iopub.status.idle": "2021-07-20T06:51:13.037856Z",
     "shell.execute_reply": "2021-07-20T06:51:13.037328Z",
     "shell.execute_reply.started": "2021-07-20T06:49:21.686990Z"
    },
    "papermill": {
     "duration": 0.125018,
     "end_time": "2021-07-20T06:51:13.037999",
     "exception": false,
     "start_time": "2021-07-20T06:51:12.912981",
     "status": "completed"
    },
    "tags": []
   },
   "outputs": [
    {
     "name": "stdout",
     "output_type": "stream",
     "text": [
      "5.389008605040208\n",
      "2.3214238314104145\n"
     ]
    }
   ],
   "source": [
    "from sklearn.metrics import mean_squared_error\n",
    "mse = mean_squared_error(y_test,y_pred)\n",
    "rootmeansq = np.sqrt(mse)\n",
    "print(mse)\n",
    "print(rootmeansq)"
   ]
  },
  {
   "cell_type": "markdown",
   "id": "f6ac8374",
   "metadata": {
    "papermill": {
     "duration": 0.111798,
     "end_time": "2021-07-20T06:51:13.263049",
     "exception": false,
     "start_time": "2021-07-20T06:51:13.151251",
     "status": "completed"
    },
    "tags": []
   },
   "source": [
    "Performing XG Boost regression on the trained data"
   ]
  },
  {
   "cell_type": "markdown",
   "id": "e6cb2205",
   "metadata": {
    "papermill": {
     "duration": 0.113958,
     "end_time": "2021-07-20T06:51:13.510847",
     "exception": false,
     "start_time": "2021-07-20T06:51:13.396889",
     "status": "completed"
    },
    "tags": []
   },
   "source": [
    "Checking R2 value for xg boost regression"
   ]
  },
  {
   "cell_type": "code",
   "execution_count": 57,
   "id": "c16b00d1",
   "metadata": {
    "execution": {
     "iopub.execute_input": "2021-07-20T06:51:13.741725Z",
     "iopub.status.busy": "2021-07-20T06:51:13.741049Z",
     "iopub.status.idle": "2021-07-20T06:51:16.589670Z",
     "shell.execute_reply": "2021-07-20T06:51:16.590270Z",
     "shell.execute_reply.started": "2021-07-20T06:49:28.408473Z"
    },
    "papermill": {
     "duration": 2.966644,
     "end_time": "2021-07-20T06:51:16.590496",
     "exception": false,
     "start_time": "2021-07-20T06:51:13.623852",
     "status": "completed"
    },
    "tags": []
   },
   "outputs": [
    {
     "name": "stdout",
     "output_type": "stream",
     "text": [
      "[06:51:13] WARNING: ../src/objective/regression_obj.cu:171: reg:linear is now deprecated in favor of reg:squarederror.\n"
     ]
    }
   ],
   "source": [
    "import xgboost as xg\n",
    "\n",
    "xgb_r = xg.XGBRegressor(objective ='reg:linear',n_estimators = 10, seed = 123)\n",
    "xgb_r.fit(X_train, y_train)\n",
    "y_pred = xgb_r.predict(X_test)"
   ]
  },
  {
   "cell_type": "code",
   "execution_count": 58,
   "id": "c5c40f19",
   "metadata": {
    "execution": {
     "iopub.execute_input": "2021-07-20T06:51:16.822615Z",
     "iopub.status.busy": "2021-07-20T06:51:16.821990Z",
     "iopub.status.idle": "2021-07-20T06:51:16.828762Z",
     "shell.execute_reply": "2021-07-20T06:51:16.828225Z",
     "shell.execute_reply.started": "2021-07-20T06:49:33.318504Z"
    },
    "papermill": {
     "duration": 0.123458,
     "end_time": "2021-07-20T06:51:16.828911",
     "exception": false,
     "start_time": "2021-07-20T06:51:16.705453",
     "status": "completed"
    },
    "tags": []
   },
   "outputs": [
    {
     "data": {
      "text/plain": [
       "0.9454679855042218"
      ]
     },
     "execution_count": 58,
     "metadata": {},
     "output_type": "execute_result"
    }
   ],
   "source": [
    "r2_score(y_test, y_pred)"
   ]
  },
  {
   "cell_type": "markdown",
   "id": "e363f41c",
   "metadata": {
    "papermill": {
     "duration": 0.112929,
     "end_time": "2021-07-20T06:51:17.054706",
     "exception": false,
     "start_time": "2021-07-20T06:51:16.941777",
     "status": "completed"
    },
    "tags": []
   },
   "source": [
    "Calucating the root mean sqaured error for xg boost regression"
   ]
  },
  {
   "cell_type": "code",
   "execution_count": 59,
   "id": "cb708b07",
   "metadata": {
    "execution": {
     "iopub.execute_input": "2021-07-20T06:51:17.286229Z",
     "iopub.status.busy": "2021-07-20T06:51:17.285580Z",
     "iopub.status.idle": "2021-07-20T06:51:17.291647Z",
     "shell.execute_reply": "2021-07-20T06:51:17.292110Z",
     "shell.execute_reply.started": "2021-07-20T06:49:36.783567Z"
    },
    "papermill": {
     "duration": 0.124002,
     "end_time": "2021-07-20T06:51:17.292288",
     "exception": false,
     "start_time": "2021-07-20T06:51:17.168286",
     "status": "completed"
    },
    "tags": []
   },
   "outputs": [
    {
     "name": "stdout",
     "output_type": "stream",
     "text": [
      "4.200718725690572\n",
      "2.0495654968042794\n"
     ]
    }
   ],
   "source": [
    "mse = mean_squared_error(y_test,y_pred)\n",
    "rootmeansq = np.sqrt(mse)\n",
    "print(mse)\n",
    "print(rootmeansq)"
   ]
  },
  {
   "cell_type": "markdown",
   "id": "af539eca",
   "metadata": {
    "papermill": {
     "duration": 0.113297,
     "end_time": "2021-07-20T06:51:17.519381",
     "exception": false,
     "start_time": "2021-07-20T06:51:17.406084",
     "status": "completed"
    },
    "tags": []
   },
   "source": [
    "**XG Boost regressor** gave the best accuracy of 0.9454 and minimum RMSE value of 1.9870"
   ]
  }
 ],
 "metadata": {
  "kernelspec": {
   "display_name": "Python 3 (ipykernel)",
   "language": "python",
   "name": "python3"
  },
  "language_info": {
   "codemirror_mode": {
    "name": "ipython",
    "version": 3
   },
   "file_extension": ".py",
   "mimetype": "text/x-python",
   "name": "python",
   "nbconvert_exporter": "python",
   "pygments_lexer": "ipython3",
   "version": "3.11.0"
  },
  "papermill": {
   "default_parameters": {},
   "duration": 71.003603,
   "end_time": "2021-07-20T06:51:19.361572",
   "environment_variables": {},
   "exception": null,
   "input_path": "__notebook__.ipynb",
   "output_path": "__notebook__.ipynb",
   "parameters": {},
   "start_time": "2021-07-20T06:50:08.357969",
   "version": "2.3.3"
  }
 },
 "nbformat": 4,
 "nbformat_minor": 5
}
